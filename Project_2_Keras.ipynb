{
  "nbformat": 4,
  "nbformat_minor": 0,
  "metadata": {
    "colab": {
      "name": "Project 2 Keras.ipynb",
      "provenance": [],
      "collapsed_sections": [],
      "include_colab_link": true
    },
    "kernelspec": {
      "name": "python3",
      "display_name": "Python 3"
    },
    "language_info": {
      "name": "python"
    }
  },
  "cells": [
    {
      "cell_type": "markdown",
      "metadata": {
        "id": "view-in-github",
        "colab_type": "text"
      },
      "source": [
        "<a href=\"https://colab.research.google.com/github/raymec/keras/blob/main/Project_2_Keras.ipynb\" target=\"_parent\"><img src=\"https://colab.research.google.com/assets/colab-badge.svg\" alt=\"Open In Colab\"/></a>"
      ]
    },
    {
      "cell_type": "markdown",
      "source": [
        "# Spring 2022\n",
        "# CPSC 585 Project 2\n",
        "## Raymond Carpio\n",
        "## Yu Pan\n",
        "## Sijie Shang\n",
        "## John Tu"
      ],
      "metadata": {
        "id": "hmSTcGw2lmqB"
      }
    },
    {
      "cell_type": "code",
      "source": [
        "from google.colab import drive\n",
        "drive.mount('/content/drive')"
      ],
      "metadata": {
        "colab": {
          "base_uri": "https://localhost:8080/"
        },
        "id": "TwUguxm0px6t",
        "outputId": "16bc0828-2d96-400f-dcd0-c66c17a15eb0"
      },
      "execution_count": null,
      "outputs": [
        {
          "output_type": "stream",
          "name": "stdout",
          "text": [
            "Mounted at /content/drive\n"
          ]
        }
      ]
    },
    {
      "cell_type": "code",
      "source": [
        "from dataset import * # Import the entire dataset\n",
        "import random # Needed to generate random numbers\n",
        "import numpy as np # Needed to do NumPy functions\n",
        "from matplotlib import pyplot as plt # Needed to do matplotlib graphs\n",
        "\n",
        "print(\"TRAINING_SET: \", TRAINING_SET[0])\n",
        "print(\"TEST_SET: \", TEST_SET[0])\n",
        "print(\"MESSAGE: \", MESSAGE[0])"
      ],
      "metadata": {
        "colab": {
          "base_uri": "https://localhost:8080/"
        },
        "id": "-oB4W5pNn319",
        "outputId": "941f2cb4-4400-412e-a471-0585b91bfe30"
      },
      "execution_count": null,
      "outputs": [
        {
          "output_type": "stream",
          "name": "stdout",
          "text": [
            "TRAINING_SET:  ('A', [0, 0, 0, 0, 1, 1, 1, 1, 0, 0, 0, 0, 0, 0, 0, 0, 0, 0, 0, 0, 1, 1, 1, 1, 0, 0, 0, 0, 0, 0, 0, 0, 0, 0, 1, 1, 1, 1, 1, 1, 1, 1, 0, 0, 0, 0, 0, 0, 0, 0, 1, 1, 1, 1, 1, 1, 1, 1, 0, 0, 0, 0, 0, 0, 1, 1, 1, 1, 0, 0, 0, 0, 1, 1, 1, 1, 0, 0, 0, 0, 1, 1, 1, 1, 0, 0, 0, 0, 1, 1, 1, 1, 0, 0, 0, 0, 1, 1, 1, 1, 0, 0, 0, 0, 1, 1, 1, 1, 0, 0, 0, 0, 1, 1, 1, 1, 0, 0, 0, 0, 1, 1, 1, 1, 0, 0, 0, 0, 1, 1, 1, 1, 1, 1, 1, 1, 1, 1, 1, 1, 0, 0, 0, 0, 1, 1, 1, 1, 1, 1, 1, 1, 1, 1, 1, 1, 0, 0, 0, 0, 1, 1, 1, 1, 0, 0, 0, 0, 1, 1, 1, 1, 0, 0, 0, 0, 1, 1, 1, 1, 0, 0, 0, 0, 1, 1, 1, 1, 0, 0, 0, 0, 1, 1, 1, 1, 0, 0, 0, 0, 1, 1, 1, 1, 0, 0, 0, 0, 1, 1, 1, 1, 0, 0, 0, 0, 1, 1, 1, 1, 0, 0, 0, 0, 0, 0, 0, 0, 0, 0, 0, 0, 0, 0, 0, 0, 0, 0, 0, 0, 0, 0, 0, 0, 0, 0, 0, 0, 0, 0, 0, 0, 0, 0, 0, 0])\n",
            "TEST_SET:  ('A', [0, 0, 0, 0, 0, 0, 1, 1, 1, 1, 0, 0, 0, 0, 0, 0, 0, 0, 0, 0, 0, 0, 1, 1, 1, 1, 0, 0, 0, 0, 0, 0, 0, 0, 0, 0, 1, 1, 0, 0, 0, 0, 1, 1, 0, 0, 0, 0, 0, 0, 0, 0, 1, 1, 0, 0, 0, 0, 1, 1, 0, 0, 0, 0, 0, 0, 1, 1, 0, 0, 0, 0, 0, 0, 0, 0, 1, 1, 0, 0, 0, 0, 1, 1, 0, 0, 0, 0, 0, 0, 0, 0, 1, 1, 0, 0, 0, 0, 1, 1, 0, 0, 0, 0, 0, 0, 0, 0, 1, 1, 0, 0, 0, 0, 1, 1, 0, 0, 0, 0, 0, 0, 0, 0, 1, 1, 0, 0, 0, 0, 1, 1, 1, 1, 1, 1, 1, 1, 1, 1, 1, 1, 0, 0, 0, 0, 1, 1, 1, 1, 1, 1, 1, 1, 1, 1, 1, 1, 0, 0, 0, 0, 1, 1, 0, 0, 0, 0, 0, 0, 0, 0, 1, 1, 0, 0, 0, 0, 1, 1, 0, 0, 0, 0, 0, 0, 0, 0, 1, 1, 0, 0, 0, 0, 1, 1, 0, 0, 0, 0, 0, 0, 0, 0, 1, 1, 0, 0, 0, 0, 1, 1, 0, 0, 0, 0, 0, 0, 0, 0, 1, 1, 0, 0, 0, 0, 0, 0, 0, 0, 0, 0, 0, 0, 0, 0, 0, 0, 0, 0, 0, 0, 0, 0, 0, 0, 0, 0, 0, 0, 0, 0, 0, 0, 0, 0])\n",
            "MESSAGE:  [0, 0, 1, 1, 1, 1, 1, 1, 1, 1, 1, 1, 1, 1, 1, 1, 0, 0, 1, 1, 1, 1, 1, 1, 1, 1, 1, 1, 1, 1, 1, 0, 0, 0, 1, 1, 0, 0, 0, 0, 1, 1, 0, 0, 0, 0, 1, 1, 0, 0, 1, 1, 0, 0, 0, 0, 1, 1, 0, 0, 0, 0, 1, 1, 0, 0, 0, 0, 0, 0, 0, 0, 1, 1, 0, 0, 0, 0, 0, 0, 0, 0, 0, 0, 0, 0, 0, 0, 1, 1, 0, 0, 0, 0, 0, 0, 0, 0, 0, 0, 0, 0, 0, 0, 1, 1, 0, 0, 0, 0, 0, 0, 0, 0, 0, 0, 0, 0, 0, 0, 1, 1, 0, 0, 0, 0, 0, 0, 0, 0, 0, 0, 0, 0, 0, 0, 1, 1, 0, 0, 0, 0, 0, 0, 0, 0, 0, 1, 0, 0, 0, 0, 1, 1, 0, 0, 0, 0, 1, 0, 0, 0, 0, 0, 0, 0, 0, 0, 1, 1, 0, 0, 0, 0, 0, 0, 0, 0, 0, 0, 0, 0, 0, 0, 1, 1, 0, 0, 0, 0, 0, 0, 0, 0, 0, 0, 0, 0, 1, 1, 1, 1, 1, 1, 0, 0, 0, 0, 0, 0, 0, 0, 0, 0, 1, 1, 1, 1, 1, 1, 0, 0, 0, 0, 0, 0, 1, 0, 0, 0, 0, 0, 0, 0, 0, 0, 0, 0, 0, 0, 0, 0, 0, 0, 0, 0, 0, 0, 0, 0, 0, 0, 0, 0, 0, 0]\n"
          ]
        }
      ]
    },
    {
      "cell_type": "code",
      "source": [
        ""
      ],
      "metadata": {
        "id": "HyfA6D9norA9"
      },
      "execution_count": null,
      "outputs": []
    },
    {
      "cell_type": "markdown",
      "source": [
        "# 1. As with Project 1, convert the images in TRAINING_SET, TEST_SET, and MESSAGE into two-dimensional NumPy arrays of size (# examples × # features)."
      ],
      "metadata": {
        "id": "Dth6n0lcl37G"
      }
    },
    {
      "cell_type": "code",
      "source": [
        "def show(image):\n",
        "    letter_len = len(image)\n",
        "    counter = 0\n",
        "    for x in range(letter_len):\n",
        "        if image[x] == 1:\n",
        "            print('#', end='')\n",
        "        else:\n",
        "            print(' ', end='')\n",
        "        counter += 1\n",
        "        if counter == 16:\n",
        "            counter = 0\n",
        "            print('\\n', end='')"
      ],
      "metadata": {
        "id": "awAfKGbfpiYl"
      },
      "execution_count": null,
      "outputs": []
    },
    {
      "cell_type": "code",
      "execution_count": null,
      "metadata": {
        "id": "iEtinAfAkx_-",
        "colab": {
          "base_uri": "https://localhost:8080/"
        },
        "outputId": "a45c6582-aa21-49e2-b6c7-8017c09d48ab"
      },
      "outputs": [
        {
          "output_type": "stream",
          "name": "stdout",
          "text": [
            "(52, 256)\n",
            "(26, 256)\n",
            "(31, 256)\n",
            "\n",
            "The image of the first letter: \n",
            "\n",
            "    ####        \n",
            "    ####        \n",
            "  ########      \n",
            "  ########      \n",
            "####    ####    \n",
            "####    ####    \n",
            "####    ####    \n",
            "####    ####    \n",
            "############    \n",
            "############    \n",
            "####    ####    \n",
            "####    ####    \n",
            "####    ####    \n",
            "####    ####    \n",
            "                \n",
            "                \n",
            "The letter list:  <function letter_list at 0x7f86e1956950>\n"
          ]
        }
      ],
      "source": [
        "def convert_2d_array(input_data):\n",
        "    if len(input_data) == 0:\n",
        "        return None\n",
        "    output_data = []\n",
        "    if len(input_data[0]) == 2:\n",
        "        for x, y in input_data:\n",
        "            output_data.append(np.array(y))\n",
        "    else:\n",
        "        for x in input_data:\n",
        "            output_data.append(np.array(x))\n",
        "    return np.array(output_data)\n",
        "\n",
        "def letter_list(input_data):\n",
        "    if len(input_data) == 0:\n",
        "        return None\n",
        "    output_data = []\n",
        "    if len(input_data[0]) == 2:\n",
        "        for x, y in input_data:\n",
        "            output_data.append(np.array(x))\n",
        "    return np.array(output_data)\n",
        "\n",
        "TRAINING_SET_2D = convert_2d_array(TRAINING_SET)\n",
        "TEST_SET_2D = convert_2d_array(TEST_SET)\n",
        "MESSAGE_2D = convert_2d_array(MESSAGE)\n",
        "\n",
        "# Verify that each 2-dimensional NumPy array contains the same number of elements from the original arrays.\n",
        "print(TRAINING_SET_2D.shape)\n",
        "print(TEST_SET_2D.shape)\n",
        "print(MESSAGE_2D.shape)\n",
        "\n",
        "print(\"\\nThe image of the first letter: \\n\")\n",
        "show(TRAINING_SET_2D[0])\n",
        "\n",
        "letter_list_train=letter_list(TRAINING_SET)\n",
        "letter_list_test=letter_list(TEST_SET)\n",
        "print('The letter list: ',letter_list)\n"
      ]
    },
    {
      "cell_type": "markdown",
      "source": [
        "# 2. Rather than training 26 different perceptrons as you did in Project 1, this time you will use a single network with 26 possible outputs.\n",
        "# In order to use the character labels in TRAINING_SET and TEST_SET, convert them into integer class vectors using ord(), then into 26 one-hot encoded categorical features."
      ],
      "metadata": {
        "id": "ieAOi1CcmZXT"
      }
    },
    {
      "cell_type": "code",
      "source": [
        "import tensorflow as tf"
      ],
      "metadata": {
        "id": "KpwNzPB9uj9b"
      },
      "execution_count": null,
      "outputs": []
    },
    {
      "cell_type": "code",
      "source": [
        "unicode_letters_train, unicode_letters_test = [], []\n",
        "for i in letter_list_train:\n",
        "  unicode_char=ord(i)-ord('A')\n",
        "  unicode_letters_train.append(unicode_char)\n",
        "\n",
        "print(unicode_letters_train)\n",
        "\n",
        "unicode_cat_train = tf.keras.utils.to_categorical(unicode_letters_train, num_classes=None, dtype=\"float32\")\n",
        "\n",
        "unicode_cat_train"
      ],
      "metadata": {
        "id": "HT8OYTrerfqC",
        "colab": {
          "base_uri": "https://localhost:8080/"
        },
        "outputId": "0d1fbba4-8c62-49e6-9db2-5a5568e9b4b4"
      },
      "execution_count": null,
      "outputs": [
        {
          "output_type": "stream",
          "name": "stdout",
          "text": [
            "[0, 1, 2, 3, 4, 5, 6, 7, 8, 9, 10, 11, 12, 13, 14, 15, 16, 17, 18, 19, 20, 21, 22, 23, 24, 25, 0, 1, 2, 3, 4, 5, 6, 7, 8, 9, 10, 11, 12, 13, 14, 15, 16, 17, 18, 19, 20, 21, 22, 23, 24, 25]\n"
          ]
        },
        {
          "output_type": "execute_result",
          "data": {
            "text/plain": [
              "array([[1., 0., 0., ..., 0., 0., 0.],\n",
              "       [0., 1., 0., ..., 0., 0., 0.],\n",
              "       [0., 0., 1., ..., 0., 0., 0.],\n",
              "       ...,\n",
              "       [0., 0., 0., ..., 1., 0., 0.],\n",
              "       [0., 0., 0., ..., 0., 1., 0.],\n",
              "       [0., 0., 0., ..., 0., 0., 1.]], dtype=float32)"
            ]
          },
          "metadata": {},
          "execution_count": 7
        }
      ]
    },
    {
      "cell_type": "code",
      "source": [
        "for i in letter_list_test:\n",
        "  unicode_char=ord(i)-ord('A')\n",
        "  unicode_letters_test.append(unicode_char)\n",
        "\n",
        "print(unicode_letters_test)\n",
        "\n",
        "unicode_cat_test = tf.keras.utils.to_categorical(unicode_letters_test, num_classes=None, dtype=\"float32\")\n",
        "\n",
        "unicode_cat_test"
      ],
      "metadata": {
        "colab": {
          "base_uri": "https://localhost:8080/"
        },
        "id": "t7SRbOcSnOpg",
        "outputId": "1fc9da94-a5ef-4eca-8b55-80886cb545cc"
      },
      "execution_count": null,
      "outputs": [
        {
          "output_type": "stream",
          "name": "stdout",
          "text": [
            "[0, 1, 2, 3, 4, 5, 6, 7, 8, 9, 10, 11, 12, 13, 14, 15, 16, 17, 18, 19, 20, 21, 22, 23, 24, 25]\n"
          ]
        },
        {
          "output_type": "execute_result",
          "data": {
            "text/plain": [
              "array([[1., 0., 0., 0., 0., 0., 0., 0., 0., 0., 0., 0., 0., 0., 0., 0.,\n",
              "        0., 0., 0., 0., 0., 0., 0., 0., 0., 0.],\n",
              "       [0., 1., 0., 0., 0., 0., 0., 0., 0., 0., 0., 0., 0., 0., 0., 0.,\n",
              "        0., 0., 0., 0., 0., 0., 0., 0., 0., 0.],\n",
              "       [0., 0., 1., 0., 0., 0., 0., 0., 0., 0., 0., 0., 0., 0., 0., 0.,\n",
              "        0., 0., 0., 0., 0., 0., 0., 0., 0., 0.],\n",
              "       [0., 0., 0., 1., 0., 0., 0., 0., 0., 0., 0., 0., 0., 0., 0., 0.,\n",
              "        0., 0., 0., 0., 0., 0., 0., 0., 0., 0.],\n",
              "       [0., 0., 0., 0., 1., 0., 0., 0., 0., 0., 0., 0., 0., 0., 0., 0.,\n",
              "        0., 0., 0., 0., 0., 0., 0., 0., 0., 0.],\n",
              "       [0., 0., 0., 0., 0., 1., 0., 0., 0., 0., 0., 0., 0., 0., 0., 0.,\n",
              "        0., 0., 0., 0., 0., 0., 0., 0., 0., 0.],\n",
              "       [0., 0., 0., 0., 0., 0., 1., 0., 0., 0., 0., 0., 0., 0., 0., 0.,\n",
              "        0., 0., 0., 0., 0., 0., 0., 0., 0., 0.],\n",
              "       [0., 0., 0., 0., 0., 0., 0., 1., 0., 0., 0., 0., 0., 0., 0., 0.,\n",
              "        0., 0., 0., 0., 0., 0., 0., 0., 0., 0.],\n",
              "       [0., 0., 0., 0., 0., 0., 0., 0., 1., 0., 0., 0., 0., 0., 0., 0.,\n",
              "        0., 0., 0., 0., 0., 0., 0., 0., 0., 0.],\n",
              "       [0., 0., 0., 0., 0., 0., 0., 0., 0., 1., 0., 0., 0., 0., 0., 0.,\n",
              "        0., 0., 0., 0., 0., 0., 0., 0., 0., 0.],\n",
              "       [0., 0., 0., 0., 0., 0., 0., 0., 0., 0., 1., 0., 0., 0., 0., 0.,\n",
              "        0., 0., 0., 0., 0., 0., 0., 0., 0., 0.],\n",
              "       [0., 0., 0., 0., 0., 0., 0., 0., 0., 0., 0., 1., 0., 0., 0., 0.,\n",
              "        0., 0., 0., 0., 0., 0., 0., 0., 0., 0.],\n",
              "       [0., 0., 0., 0., 0., 0., 0., 0., 0., 0., 0., 0., 1., 0., 0., 0.,\n",
              "        0., 0., 0., 0., 0., 0., 0., 0., 0., 0.],\n",
              "       [0., 0., 0., 0., 0., 0., 0., 0., 0., 0., 0., 0., 0., 1., 0., 0.,\n",
              "        0., 0., 0., 0., 0., 0., 0., 0., 0., 0.],\n",
              "       [0., 0., 0., 0., 0., 0., 0., 0., 0., 0., 0., 0., 0., 0., 1., 0.,\n",
              "        0., 0., 0., 0., 0., 0., 0., 0., 0., 0.],\n",
              "       [0., 0., 0., 0., 0., 0., 0., 0., 0., 0., 0., 0., 0., 0., 0., 1.,\n",
              "        0., 0., 0., 0., 0., 0., 0., 0., 0., 0.],\n",
              "       [0., 0., 0., 0., 0., 0., 0., 0., 0., 0., 0., 0., 0., 0., 0., 0.,\n",
              "        1., 0., 0., 0., 0., 0., 0., 0., 0., 0.],\n",
              "       [0., 0., 0., 0., 0., 0., 0., 0., 0., 0., 0., 0., 0., 0., 0., 0.,\n",
              "        0., 1., 0., 0., 0., 0., 0., 0., 0., 0.],\n",
              "       [0., 0., 0., 0., 0., 0., 0., 0., 0., 0., 0., 0., 0., 0., 0., 0.,\n",
              "        0., 0., 1., 0., 0., 0., 0., 0., 0., 0.],\n",
              "       [0., 0., 0., 0., 0., 0., 0., 0., 0., 0., 0., 0., 0., 0., 0., 0.,\n",
              "        0., 0., 0., 1., 0., 0., 0., 0., 0., 0.],\n",
              "       [0., 0., 0., 0., 0., 0., 0., 0., 0., 0., 0., 0., 0., 0., 0., 0.,\n",
              "        0., 0., 0., 0., 1., 0., 0., 0., 0., 0.],\n",
              "       [0., 0., 0., 0., 0., 0., 0., 0., 0., 0., 0., 0., 0., 0., 0., 0.,\n",
              "        0., 0., 0., 0., 0., 1., 0., 0., 0., 0.],\n",
              "       [0., 0., 0., 0., 0., 0., 0., 0., 0., 0., 0., 0., 0., 0., 0., 0.,\n",
              "        0., 0., 0., 0., 0., 0., 1., 0., 0., 0.],\n",
              "       [0., 0., 0., 0., 0., 0., 0., 0., 0., 0., 0., 0., 0., 0., 0., 0.,\n",
              "        0., 0., 0., 0., 0., 0., 0., 1., 0., 0.],\n",
              "       [0., 0., 0., 0., 0., 0., 0., 0., 0., 0., 0., 0., 0., 0., 0., 0.,\n",
              "        0., 0., 0., 0., 0., 0., 0., 0., 1., 0.],\n",
              "       [0., 0., 0., 0., 0., 0., 0., 0., 0., 0., 0., 0., 0., 0., 0., 0.,\n",
              "        0., 0., 0., 0., 0., 0., 0., 0., 0., 1.]], dtype=float32)"
            ]
          },
          "metadata": {},
          "execution_count": 8
        }
      ]
    },
    {
      "cell_type": "markdown",
      "source": [
        "# 3. Create a Sequential Keras model with a Dense hidden layer and a Dense output layer with softmax activation and categorical cross-entropy loss."
      ],
      "metadata": {
        "id": "WMjg_gFmmjpN"
      }
    },
    {
      "cell_type": "code",
      "source": [
        "# Create a sequential model with two Dense layers:\n",
        "# One as a hidden layer and the other as an output layer\n",
        "model = tf.keras.models.Sequential()\n",
        "model.add(tf.keras.Input(shape=(256,)))\n",
        "model.add(tf.keras.layers.Dense(32, activation=tf.keras.activations.relu, name=\"Hidden_layer\"))\n",
        "model.add(tf.keras.layers.Dense(26, activation=tf.keras.activations.softmax, name=\"Output_layer\"))\n",
        "\n",
        "model.summary()"
      ],
      "metadata": {
        "id": "yWI6X0D7NK0J",
        "colab": {
          "base_uri": "https://localhost:8080/"
        },
        "outputId": "909ba003-66ec-4c56-d83c-22c138d08c3f"
      },
      "execution_count": null,
      "outputs": [
        {
          "output_type": "stream",
          "name": "stdout",
          "text": [
            "Model: \"sequential_5\"\n",
            "_________________________________________________________________\n",
            " Layer (type)                Output Shape              Param #   \n",
            "=================================================================\n",
            " Hidden_layer (Dense)        (None, 32)                8224      \n",
            "                                                                 \n",
            " Output_layer (Dense)        (None, 26)                858       \n",
            "                                                                 \n",
            "=================================================================\n",
            "Total params: 9,082\n",
            "Trainable params: 9,082\n",
            "Non-trainable params: 0\n",
            "_________________________________________________________________\n"
          ]
        }
      ]
    },
    {
      "cell_type": "markdown",
      "source": [
        "# 4. compile and fit the model to the training set. Train the model until the accuracy is as high as possible. You may wish to use an EarlyStopping callback."
      ],
      "metadata": {
        "id": "eZoyNBQygS1B"
      }
    },
    {
      "cell_type": "code",
      "source": [
        "model.compile(optimizer=tf.keras.optimizers.Adam(learning_rate=0.001),\n",
        "             loss=tf.keras.losses.CategoricalCrossentropy(),\n",
        "             metrics=[tf.keras.metrics.CategoricalAccuracy()])"
      ],
      "metadata": {
        "id": "fn4Aze_nhvdK"
      },
      "execution_count": null,
      "outputs": []
    },
    {
      "cell_type": "code",
      "source": [
        "callback = tf.keras.callbacks.EarlyStopping(monitor=\"categorical_accuracy\", patience=50, restore_best_weights=False)\n",
        "model.fit(x=TRAINING_SET_2D, y=unicode_cat_train, epochs=200, verbose=2, callbacks=[callback])"
      ],
      "metadata": {
        "id": "V3FRJkvMiNv8",
        "colab": {
          "base_uri": "https://localhost:8080/"
        },
        "outputId": "4fe26fed-66da-4ab5-c8f1-739687e8925a"
      },
      "execution_count": null,
      "outputs": [
        {
          "output_type": "stream",
          "name": "stdout",
          "text": [
            "Epoch 1/200\n",
            "2/2 - 0s - loss: 3.5045 - categorical_accuracy: 0.0385 - 401ms/epoch - 200ms/step\n",
            "Epoch 2/200\n",
            "2/2 - 0s - loss: 3.3796 - categorical_accuracy: 0.0385 - 12ms/epoch - 6ms/step\n",
            "Epoch 3/200\n",
            "2/2 - 0s - loss: 3.2868 - categorical_accuracy: 0.0577 - 12ms/epoch - 6ms/step\n",
            "Epoch 4/200\n",
            "2/2 - 0s - loss: 3.2131 - categorical_accuracy: 0.0769 - 13ms/epoch - 7ms/step\n",
            "Epoch 5/200\n",
            "2/2 - 0s - loss: 3.1480 - categorical_accuracy: 0.0577 - 10ms/epoch - 5ms/step\n",
            "Epoch 6/200\n",
            "2/2 - 0s - loss: 3.0969 - categorical_accuracy: 0.0769 - 8ms/epoch - 4ms/step\n",
            "Epoch 7/200\n",
            "2/2 - 0s - loss: 3.0476 - categorical_accuracy: 0.1154 - 8ms/epoch - 4ms/step\n",
            "Epoch 8/200\n",
            "2/2 - 0s - loss: 3.0021 - categorical_accuracy: 0.1346 - 10ms/epoch - 5ms/step\n",
            "Epoch 9/200\n",
            "2/2 - 0s - loss: 2.9572 - categorical_accuracy: 0.1731 - 10ms/epoch - 5ms/step\n",
            "Epoch 10/200\n",
            "2/2 - 0s - loss: 2.9183 - categorical_accuracy: 0.1731 - 11ms/epoch - 6ms/step\n",
            "Epoch 11/200\n",
            "2/2 - 0s - loss: 2.8744 - categorical_accuracy: 0.1923 - 8ms/epoch - 4ms/step\n",
            "Epoch 12/200\n",
            "2/2 - 0s - loss: 2.8355 - categorical_accuracy: 0.2308 - 8ms/epoch - 4ms/step\n",
            "Epoch 13/200\n",
            "2/2 - 0s - loss: 2.7967 - categorical_accuracy: 0.2885 - 11ms/epoch - 6ms/step\n",
            "Epoch 14/200\n",
            "2/2 - 0s - loss: 2.7575 - categorical_accuracy: 0.3077 - 9ms/epoch - 4ms/step\n",
            "Epoch 15/200\n",
            "2/2 - 0s - loss: 2.7190 - categorical_accuracy: 0.3846 - 13ms/epoch - 6ms/step\n",
            "Epoch 16/200\n",
            "2/2 - 0s - loss: 2.6768 - categorical_accuracy: 0.4231 - 10ms/epoch - 5ms/step\n",
            "Epoch 17/200\n",
            "2/2 - 0s - loss: 2.6344 - categorical_accuracy: 0.4423 - 10ms/epoch - 5ms/step\n",
            "Epoch 18/200\n",
            "2/2 - 0s - loss: 2.5916 - categorical_accuracy: 0.4423 - 13ms/epoch - 7ms/step\n",
            "Epoch 19/200\n",
            "2/2 - 0s - loss: 2.5500 - categorical_accuracy: 0.4808 - 10ms/epoch - 5ms/step\n",
            "Epoch 20/200\n",
            "2/2 - 0s - loss: 2.5061 - categorical_accuracy: 0.4808 - 9ms/epoch - 5ms/step\n",
            "Epoch 21/200\n",
            "2/2 - 0s - loss: 2.4587 - categorical_accuracy: 0.4808 - 10ms/epoch - 5ms/step\n",
            "Epoch 22/200\n",
            "2/2 - 0s - loss: 2.4132 - categorical_accuracy: 0.5000 - 8ms/epoch - 4ms/step\n",
            "Epoch 23/200\n",
            "2/2 - 0s - loss: 2.3685 - categorical_accuracy: 0.5192 - 9ms/epoch - 4ms/step\n",
            "Epoch 24/200\n",
            "2/2 - 0s - loss: 2.3262 - categorical_accuracy: 0.5192 - 8ms/epoch - 4ms/step\n",
            "Epoch 25/200\n",
            "2/2 - 0s - loss: 2.2838 - categorical_accuracy: 0.5577 - 10ms/epoch - 5ms/step\n",
            "Epoch 26/200\n",
            "2/2 - 0s - loss: 2.2413 - categorical_accuracy: 0.5385 - 12ms/epoch - 6ms/step\n",
            "Epoch 27/200\n",
            "2/2 - 0s - loss: 2.1994 - categorical_accuracy: 0.5385 - 10ms/epoch - 5ms/step\n",
            "Epoch 28/200\n",
            "2/2 - 0s - loss: 2.1542 - categorical_accuracy: 0.5385 - 10ms/epoch - 5ms/step\n",
            "Epoch 29/200\n",
            "2/2 - 0s - loss: 2.1103 - categorical_accuracy: 0.5577 - 9ms/epoch - 4ms/step\n",
            "Epoch 30/200\n",
            "2/2 - 0s - loss: 2.0692 - categorical_accuracy: 0.5962 - 9ms/epoch - 5ms/step\n",
            "Epoch 31/200\n",
            "2/2 - 0s - loss: 2.0269 - categorical_accuracy: 0.5962 - 8ms/epoch - 4ms/step\n",
            "Epoch 32/200\n",
            "2/2 - 0s - loss: 1.9858 - categorical_accuracy: 0.6154 - 16ms/epoch - 8ms/step\n",
            "Epoch 33/200\n",
            "2/2 - 0s - loss: 1.9441 - categorical_accuracy: 0.6538 - 8ms/epoch - 4ms/step\n",
            "Epoch 34/200\n",
            "2/2 - 0s - loss: 1.9045 - categorical_accuracy: 0.7115 - 8ms/epoch - 4ms/step\n",
            "Epoch 35/200\n",
            "2/2 - 0s - loss: 1.8626 - categorical_accuracy: 0.7500 - 10ms/epoch - 5ms/step\n",
            "Epoch 36/200\n",
            "2/2 - 0s - loss: 1.8229 - categorical_accuracy: 0.7500 - 10ms/epoch - 5ms/step\n",
            "Epoch 37/200\n",
            "2/2 - 0s - loss: 1.7834 - categorical_accuracy: 0.7500 - 12ms/epoch - 6ms/step\n",
            "Epoch 38/200\n",
            "2/2 - 0s - loss: 1.7437 - categorical_accuracy: 0.7692 - 17ms/epoch - 8ms/step\n",
            "Epoch 39/200\n",
            "2/2 - 0s - loss: 1.7054 - categorical_accuracy: 0.7885 - 11ms/epoch - 5ms/step\n",
            "Epoch 40/200\n",
            "2/2 - 0s - loss: 1.6652 - categorical_accuracy: 0.7885 - 12ms/epoch - 6ms/step\n",
            "Epoch 41/200\n",
            "2/2 - 0s - loss: 1.6271 - categorical_accuracy: 0.7885 - 13ms/epoch - 7ms/step\n",
            "Epoch 42/200\n",
            "2/2 - 0s - loss: 1.5912 - categorical_accuracy: 0.8077 - 10ms/epoch - 5ms/step\n",
            "Epoch 43/200\n",
            "2/2 - 0s - loss: 1.5515 - categorical_accuracy: 0.8269 - 8ms/epoch - 4ms/step\n",
            "Epoch 44/200\n",
            "2/2 - 0s - loss: 1.5159 - categorical_accuracy: 0.8269 - 9ms/epoch - 5ms/step\n",
            "Epoch 45/200\n",
            "2/2 - 0s - loss: 1.4808 - categorical_accuracy: 0.8269 - 8ms/epoch - 4ms/step\n",
            "Epoch 46/200\n",
            "2/2 - 0s - loss: 1.4463 - categorical_accuracy: 0.8462 - 10ms/epoch - 5ms/step\n",
            "Epoch 47/200\n",
            "2/2 - 0s - loss: 1.4102 - categorical_accuracy: 0.8462 - 9ms/epoch - 5ms/step\n",
            "Epoch 48/200\n",
            "2/2 - 0s - loss: 1.3769 - categorical_accuracy: 0.8462 - 8ms/epoch - 4ms/step\n",
            "Epoch 49/200\n",
            "2/2 - 0s - loss: 1.3434 - categorical_accuracy: 0.8462 - 7ms/epoch - 4ms/step\n",
            "Epoch 50/200\n",
            "2/2 - 0s - loss: 1.3120 - categorical_accuracy: 0.8846 - 8ms/epoch - 4ms/step\n",
            "Epoch 51/200\n",
            "2/2 - 0s - loss: 1.2780 - categorical_accuracy: 0.8846 - 8ms/epoch - 4ms/step\n",
            "Epoch 52/200\n",
            "2/2 - 0s - loss: 1.2464 - categorical_accuracy: 0.8846 - 9ms/epoch - 4ms/step\n",
            "Epoch 53/200\n",
            "2/2 - 0s - loss: 1.2169 - categorical_accuracy: 0.8846 - 8ms/epoch - 4ms/step\n",
            "Epoch 54/200\n",
            "2/2 - 0s - loss: 1.1876 - categorical_accuracy: 0.9038 - 9ms/epoch - 4ms/step\n",
            "Epoch 55/200\n",
            "2/2 - 0s - loss: 1.1582 - categorical_accuracy: 0.9038 - 13ms/epoch - 6ms/step\n",
            "Epoch 56/200\n",
            "2/2 - 0s - loss: 1.1299 - categorical_accuracy: 0.9038 - 7ms/epoch - 3ms/step\n",
            "Epoch 57/200\n",
            "2/2 - 0s - loss: 1.1003 - categorical_accuracy: 0.9038 - 12ms/epoch - 6ms/step\n",
            "Epoch 58/200\n",
            "2/2 - 0s - loss: 1.0740 - categorical_accuracy: 0.9231 - 10ms/epoch - 5ms/step\n",
            "Epoch 59/200\n",
            "2/2 - 0s - loss: 1.0465 - categorical_accuracy: 0.9231 - 9ms/epoch - 5ms/step\n",
            "Epoch 60/200\n",
            "2/2 - 0s - loss: 1.0205 - categorical_accuracy: 0.9423 - 12ms/epoch - 6ms/step\n",
            "Epoch 61/200\n",
            "2/2 - 0s - loss: 0.9942 - categorical_accuracy: 0.9423 - 10ms/epoch - 5ms/step\n",
            "Epoch 62/200\n",
            "2/2 - 0s - loss: 0.9695 - categorical_accuracy: 0.9615 - 11ms/epoch - 5ms/step\n",
            "Epoch 63/200\n",
            "2/2 - 0s - loss: 0.9452 - categorical_accuracy: 0.9615 - 8ms/epoch - 4ms/step\n",
            "Epoch 64/200\n",
            "2/2 - 0s - loss: 0.9214 - categorical_accuracy: 0.9615 - 13ms/epoch - 6ms/step\n",
            "Epoch 65/200\n",
            "2/2 - 0s - loss: 0.8976 - categorical_accuracy: 0.9615 - 12ms/epoch - 6ms/step\n",
            "Epoch 66/200\n",
            "2/2 - 0s - loss: 0.8756 - categorical_accuracy: 0.9615 - 11ms/epoch - 5ms/step\n",
            "Epoch 67/200\n",
            "2/2 - 0s - loss: 0.8527 - categorical_accuracy: 0.9615 - 10ms/epoch - 5ms/step\n",
            "Epoch 68/200\n",
            "2/2 - 0s - loss: 0.8328 - categorical_accuracy: 0.9615 - 8ms/epoch - 4ms/step\n",
            "Epoch 69/200\n",
            "2/2 - 0s - loss: 0.8107 - categorical_accuracy: 0.9615 - 10ms/epoch - 5ms/step\n",
            "Epoch 70/200\n",
            "2/2 - 0s - loss: 0.7909 - categorical_accuracy: 0.9615 - 8ms/epoch - 4ms/step\n",
            "Epoch 71/200\n",
            "2/2 - 0s - loss: 0.7702 - categorical_accuracy: 0.9615 - 11ms/epoch - 6ms/step\n",
            "Epoch 72/200\n",
            "2/2 - 0s - loss: 0.7520 - categorical_accuracy: 0.9615 - 10ms/epoch - 5ms/step\n",
            "Epoch 73/200\n",
            "2/2 - 0s - loss: 0.7335 - categorical_accuracy: 0.9615 - 9ms/epoch - 5ms/step\n",
            "Epoch 74/200\n",
            "2/2 - 0s - loss: 0.7160 - categorical_accuracy: 0.9615 - 8ms/epoch - 4ms/step\n",
            "Epoch 75/200\n",
            "2/2 - 0s - loss: 0.6982 - categorical_accuracy: 0.9615 - 8ms/epoch - 4ms/step\n",
            "Epoch 76/200\n",
            "2/2 - 0s - loss: 0.6820 - categorical_accuracy: 0.9808 - 10ms/epoch - 5ms/step\n",
            "Epoch 77/200\n",
            "2/2 - 0s - loss: 0.6650 - categorical_accuracy: 0.9808 - 11ms/epoch - 5ms/step\n",
            "Epoch 78/200\n",
            "2/2 - 0s - loss: 0.6495 - categorical_accuracy: 0.9808 - 12ms/epoch - 6ms/step\n",
            "Epoch 79/200\n",
            "2/2 - 0s - loss: 0.6337 - categorical_accuracy: 0.9808 - 10ms/epoch - 5ms/step\n",
            "Epoch 80/200\n",
            "2/2 - 0s - loss: 0.6200 - categorical_accuracy: 0.9808 - 7ms/epoch - 4ms/step\n",
            "Epoch 81/200\n",
            "2/2 - 0s - loss: 0.6046 - categorical_accuracy: 0.9808 - 9ms/epoch - 4ms/step\n",
            "Epoch 82/200\n",
            "2/2 - 0s - loss: 0.5907 - categorical_accuracy: 0.9808 - 12ms/epoch - 6ms/step\n",
            "Epoch 83/200\n",
            "2/2 - 0s - loss: 0.5771 - categorical_accuracy: 0.9808 - 8ms/epoch - 4ms/step\n",
            "Epoch 84/200\n",
            "2/2 - 0s - loss: 0.5640 - categorical_accuracy: 0.9808 - 8ms/epoch - 4ms/step\n",
            "Epoch 85/200\n",
            "2/2 - 0s - loss: 0.5522 - categorical_accuracy: 1.0000 - 11ms/epoch - 5ms/step\n",
            "Epoch 86/200\n",
            "2/2 - 0s - loss: 0.5396 - categorical_accuracy: 1.0000 - 9ms/epoch - 4ms/step\n",
            "Epoch 87/200\n",
            "2/2 - 0s - loss: 0.5269 - categorical_accuracy: 1.0000 - 16ms/epoch - 8ms/step\n",
            "Epoch 88/200\n",
            "2/2 - 0s - loss: 0.5153 - categorical_accuracy: 1.0000 - 13ms/epoch - 7ms/step\n",
            "Epoch 89/200\n",
            "2/2 - 0s - loss: 0.5034 - categorical_accuracy: 1.0000 - 10ms/epoch - 5ms/step\n",
            "Epoch 90/200\n",
            "2/2 - 0s - loss: 0.4928 - categorical_accuracy: 1.0000 - 11ms/epoch - 5ms/step\n",
            "Epoch 91/200\n",
            "2/2 - 0s - loss: 0.4823 - categorical_accuracy: 1.0000 - 10ms/epoch - 5ms/step\n",
            "Epoch 92/200\n",
            "2/2 - 0s - loss: 0.4719 - categorical_accuracy: 1.0000 - 8ms/epoch - 4ms/step\n",
            "Epoch 93/200\n",
            "2/2 - 0s - loss: 0.4621 - categorical_accuracy: 1.0000 - 8ms/epoch - 4ms/step\n",
            "Epoch 94/200\n",
            "2/2 - 0s - loss: 0.4522 - categorical_accuracy: 1.0000 - 7ms/epoch - 4ms/step\n",
            "Epoch 95/200\n",
            "2/2 - 0s - loss: 0.4423 - categorical_accuracy: 1.0000 - 10ms/epoch - 5ms/step\n",
            "Epoch 96/200\n",
            "2/2 - 0s - loss: 0.4345 - categorical_accuracy: 1.0000 - 11ms/epoch - 5ms/step\n",
            "Epoch 97/200\n",
            "2/2 - 0s - loss: 0.4248 - categorical_accuracy: 1.0000 - 9ms/epoch - 4ms/step\n",
            "Epoch 98/200\n",
            "2/2 - 0s - loss: 0.4160 - categorical_accuracy: 1.0000 - 13ms/epoch - 6ms/step\n",
            "Epoch 99/200\n",
            "2/2 - 0s - loss: 0.4080 - categorical_accuracy: 1.0000 - 9ms/epoch - 4ms/step\n",
            "Epoch 100/200\n",
            "2/2 - 0s - loss: 0.3989 - categorical_accuracy: 1.0000 - 9ms/epoch - 5ms/step\n",
            "Epoch 101/200\n",
            "2/2 - 0s - loss: 0.3912 - categorical_accuracy: 1.0000 - 11ms/epoch - 5ms/step\n",
            "Epoch 102/200\n",
            "2/2 - 0s - loss: 0.3827 - categorical_accuracy: 1.0000 - 12ms/epoch - 6ms/step\n",
            "Epoch 103/200\n",
            "2/2 - 0s - loss: 0.3753 - categorical_accuracy: 1.0000 - 9ms/epoch - 5ms/step\n",
            "Epoch 104/200\n",
            "2/2 - 0s - loss: 0.3670 - categorical_accuracy: 1.0000 - 10ms/epoch - 5ms/step\n",
            "Epoch 105/200\n",
            "2/2 - 0s - loss: 0.3603 - categorical_accuracy: 1.0000 - 9ms/epoch - 4ms/step\n",
            "Epoch 106/200\n",
            "2/2 - 0s - loss: 0.3537 - categorical_accuracy: 1.0000 - 9ms/epoch - 4ms/step\n",
            "Epoch 107/200\n",
            "2/2 - 0s - loss: 0.3464 - categorical_accuracy: 1.0000 - 8ms/epoch - 4ms/step\n",
            "Epoch 108/200\n",
            "2/2 - 0s - loss: 0.3395 - categorical_accuracy: 1.0000 - 10ms/epoch - 5ms/step\n",
            "Epoch 109/200\n",
            "2/2 - 0s - loss: 0.3333 - categorical_accuracy: 1.0000 - 14ms/epoch - 7ms/step\n",
            "Epoch 110/200\n",
            "2/2 - 0s - loss: 0.3265 - categorical_accuracy: 1.0000 - 9ms/epoch - 5ms/step\n",
            "Epoch 111/200\n",
            "2/2 - 0s - loss: 0.3208 - categorical_accuracy: 1.0000 - 10ms/epoch - 5ms/step\n",
            "Epoch 112/200\n",
            "2/2 - 0s - loss: 0.3150 - categorical_accuracy: 1.0000 - 9ms/epoch - 5ms/step\n",
            "Epoch 113/200\n",
            "2/2 - 0s - loss: 0.3087 - categorical_accuracy: 1.0000 - 8ms/epoch - 4ms/step\n",
            "Epoch 114/200\n",
            "2/2 - 0s - loss: 0.3035 - categorical_accuracy: 1.0000 - 12ms/epoch - 6ms/step\n",
            "Epoch 115/200\n",
            "2/2 - 0s - loss: 0.2977 - categorical_accuracy: 1.0000 - 7ms/epoch - 3ms/step\n",
            "Epoch 116/200\n",
            "2/2 - 0s - loss: 0.2919 - categorical_accuracy: 1.0000 - 8ms/epoch - 4ms/step\n",
            "Epoch 117/200\n",
            "2/2 - 0s - loss: 0.2868 - categorical_accuracy: 1.0000 - 9ms/epoch - 4ms/step\n",
            "Epoch 118/200\n",
            "2/2 - 0s - loss: 0.2813 - categorical_accuracy: 1.0000 - 9ms/epoch - 4ms/step\n",
            "Epoch 119/200\n",
            "2/2 - 0s - loss: 0.2762 - categorical_accuracy: 1.0000 - 11ms/epoch - 5ms/step\n",
            "Epoch 120/200\n",
            "2/2 - 0s - loss: 0.2714 - categorical_accuracy: 1.0000 - 10ms/epoch - 5ms/step\n",
            "Epoch 121/200\n",
            "2/2 - 0s - loss: 0.2667 - categorical_accuracy: 1.0000 - 10ms/epoch - 5ms/step\n",
            "Epoch 122/200\n",
            "2/2 - 0s - loss: 0.2623 - categorical_accuracy: 1.0000 - 10ms/epoch - 5ms/step\n",
            "Epoch 123/200\n",
            "2/2 - 0s - loss: 0.2573 - categorical_accuracy: 1.0000 - 9ms/epoch - 5ms/step\n",
            "Epoch 124/200\n",
            "2/2 - 0s - loss: 0.2530 - categorical_accuracy: 1.0000 - 8ms/epoch - 4ms/step\n",
            "Epoch 125/200\n",
            "2/2 - 0s - loss: 0.2489 - categorical_accuracy: 1.0000 - 14ms/epoch - 7ms/step\n",
            "Epoch 126/200\n",
            "2/2 - 0s - loss: 0.2451 - categorical_accuracy: 1.0000 - 8ms/epoch - 4ms/step\n",
            "Epoch 127/200\n",
            "2/2 - 0s - loss: 0.2413 - categorical_accuracy: 1.0000 - 7ms/epoch - 4ms/step\n",
            "Epoch 128/200\n",
            "2/2 - 0s - loss: 0.2368 - categorical_accuracy: 1.0000 - 11ms/epoch - 6ms/step\n",
            "Epoch 129/200\n",
            "2/2 - 0s - loss: 0.2329 - categorical_accuracy: 1.0000 - 11ms/epoch - 6ms/step\n",
            "Epoch 130/200\n",
            "2/2 - 0s - loss: 0.2289 - categorical_accuracy: 1.0000 - 8ms/epoch - 4ms/step\n",
            "Epoch 131/200\n",
            "2/2 - 0s - loss: 0.2249 - categorical_accuracy: 1.0000 - 8ms/epoch - 4ms/step\n",
            "Epoch 132/200\n",
            "2/2 - 0s - loss: 0.2217 - categorical_accuracy: 1.0000 - 9ms/epoch - 5ms/step\n",
            "Epoch 133/200\n",
            "2/2 - 0s - loss: 0.2182 - categorical_accuracy: 1.0000 - 8ms/epoch - 4ms/step\n",
            "Epoch 134/200\n",
            "2/2 - 0s - loss: 0.2149 - categorical_accuracy: 1.0000 - 10ms/epoch - 5ms/step\n",
            "Epoch 135/200\n",
            "2/2 - 0s - loss: 0.2113 - categorical_accuracy: 1.0000 - 9ms/epoch - 4ms/step\n"
          ]
        },
        {
          "output_type": "execute_result",
          "data": {
            "text/plain": [
              "<keras.callbacks.History at 0x7f865de0dd90>"
            ]
          },
          "metadata": {},
          "execution_count": 25
        }
      ]
    },
    {
      "cell_type": "markdown",
      "source": [
        "# 5. evaluate the model on TEST_SET. What accuracy do you obtain? If the accuracy is less than 100%, which test images are misclassified? (You may wish to use the show(image) function you defined in the previous project.)"
      ],
      "metadata": {
        "id": "nO1B3uswgWya"
      }
    },
    {
      "cell_type": "code",
      "source": [
        "model.evaluate(x=TEST_SET_2D, y=unicode_cat_test, verbose=1)\n"
      ],
      "metadata": {
        "id": "7ATf3Nujn4nz",
        "colab": {
          "base_uri": "https://localhost:8080/"
        },
        "outputId": "395ec1b5-bdb1-466b-89dc-384cc8e2066d"
      },
      "execution_count": null,
      "outputs": [
        {
          "output_type": "stream",
          "name": "stdout",
          "text": [
            "1/1 [==============================] - 0s 126ms/step - loss: 1.8736 - categorical_accuracy: 0.5385\n"
          ]
        },
        {
          "output_type": "execute_result",
          "data": {
            "text/plain": [
              "[1.8736058473587036, 0.5384615659713745]"
            ]
          },
          "metadata": {},
          "execution_count": 26
        }
      ]
    },
    {
      "cell_type": "code",
      "source": [
        ""
      ],
      "metadata": {
        "id": "KprsVAxGmRH6"
      },
      "execution_count": null,
      "outputs": []
    },
    {
      "cell_type": "markdown",
      "source": [
        "# 6. How does this model compare with the performance of your perceptron models in Project 1?"
      ],
      "metadata": {
        "id": "QGOHSW6sgZlw"
      }
    },
    {
      "cell_type": "markdown",
      "source": [
        "## A: The accuracy obtained for the Keras Sequential model ended up being different from the perceptrons model for Project 1 as there are hidden layers involved for the former."
      ],
      "metadata": {
        "id": "afSkHPK3on6v"
      }
    },
    {
      "cell_type": "markdown",
      "source": [
        "# 7. All of the letters in MESSAGE were likely not decoded correctly, so let’s try to improve the performance of the model by adding additional hidden layers. Add two additional hidden layers of the same size as your original hidden layer, then repeat experiments (4) and (5)."
      ],
      "metadata": {
        "id": "EThYHOgrgbVF"
      }
    },
    {
      "cell_type": "code",
      "source": [
        "# Do experiments 4 and 5 again, but this time, add two more hidden layers.\n",
        "model2 = tf.keras.models.Sequential()\n",
        "model2.add(tf.keras.Input(shape=(256,)))\n",
        "model2.add(tf.keras.layers.Dense(32, activation=tf.keras.activations.relu, name=\"Hidden_layer1\"))\n",
        "model2.add(tf.keras.layers.Dense(32, activation=tf.keras.activations.relu, name=\"Hidden_layer2\"))\n",
        "model2.add(tf.keras.layers.Dense(32, activation=tf.keras.activations.relu, name=\"Hidden_layer3\"))\n",
        "model2.add(tf.keras.layers.Dense(26, activation=tf.keras.activations.softmax, name=\"Output_layer\"))\n",
        "\n",
        "model2.summary()"
      ],
      "metadata": {
        "colab": {
          "base_uri": "https://localhost:8080/"
        },
        "id": "ATyBdSQfqf5g",
        "outputId": "b7077168-1f1a-4277-a83b-4f59222bb23b"
      },
      "execution_count": null,
      "outputs": [
        {
          "output_type": "stream",
          "name": "stdout",
          "text": [
            "Model: \"sequential_4\"\n",
            "_________________________________________________________________\n",
            " Layer (type)                Output Shape              Param #   \n",
            "=================================================================\n",
            " Hidden_layer1 (Dense)       (None, 32)                8224      \n",
            "                                                                 \n",
            " Hidden_layer2 (Dense)       (None, 32)                1056      \n",
            "                                                                 \n",
            " Hidden_layer3 (Dense)       (None, 32)                1056      \n",
            "                                                                 \n",
            " Output_layer (Dense)        (None, 26)                858       \n",
            "                                                                 \n",
            "=================================================================\n",
            "Total params: 11,194\n",
            "Trainable params: 11,194\n",
            "Non-trainable params: 0\n",
            "_________________________________________________________________\n"
          ]
        }
      ]
    },
    {
      "cell_type": "code",
      "source": [
        "model2.compile(optimizer=tf.keras.optimizers.Adam(learning_rate=0.001),\n",
        "             loss=tf.keras.losses.CategoricalCrossentropy(),\n",
        "             metrics=[tf.keras.metrics.CategoricalAccuracy()])\n",
        "callback = tf.keras.callbacks.EarlyStopping(monitor=\"categorical_accuracy\", patience=50, restore_best_weights=False)\n",
        "model2.fit(x=TRAINING_SET_2D, y=unicode_cat_train, epochs=200, verbose=2, callbacks=[callback])"
      ],
      "metadata": {
        "colab": {
          "base_uri": "https://localhost:8080/"
        },
        "id": "Mhz_tgqGqpZ2",
        "outputId": "09db2f29-75e9-43a4-e4a6-3e5ce6518cd2"
      },
      "execution_count": null,
      "outputs": [
        {
          "output_type": "stream",
          "name": "stdout",
          "text": [
            "Epoch 1/200\n",
            "2/2 - 0s - loss: 3.3097 - categorical_accuracy: 0.0000e+00 - 496ms/epoch - 248ms/step\n",
            "Epoch 2/200\n",
            "2/2 - 0s - loss: 3.2602 - categorical_accuracy: 0.0000e+00 - 11ms/epoch - 5ms/step\n",
            "Epoch 3/200\n",
            "2/2 - 0s - loss: 3.2294 - categorical_accuracy: 0.0385 - 9ms/epoch - 5ms/step\n",
            "Epoch 4/200\n",
            "2/2 - 0s - loss: 3.2039 - categorical_accuracy: 0.0385 - 8ms/epoch - 4ms/step\n",
            "Epoch 5/200\n",
            "2/2 - 0s - loss: 3.1818 - categorical_accuracy: 0.0577 - 11ms/epoch - 6ms/step\n",
            "Epoch 6/200\n",
            "2/2 - 0s - loss: 3.1601 - categorical_accuracy: 0.0962 - 12ms/epoch - 6ms/step\n",
            "Epoch 7/200\n",
            "2/2 - 0s - loss: 3.1389 - categorical_accuracy: 0.1154 - 13ms/epoch - 6ms/step\n",
            "Epoch 8/200\n",
            "2/2 - 0s - loss: 3.1153 - categorical_accuracy: 0.1154 - 9ms/epoch - 5ms/step\n",
            "Epoch 9/200\n",
            "2/2 - 0s - loss: 3.0900 - categorical_accuracy: 0.1731 - 9ms/epoch - 4ms/step\n",
            "Epoch 10/200\n",
            "2/2 - 0s - loss: 3.0655 - categorical_accuracy: 0.1731 - 8ms/epoch - 4ms/step\n",
            "Epoch 11/200\n",
            "2/2 - 0s - loss: 3.0390 - categorical_accuracy: 0.1731 - 9ms/epoch - 4ms/step\n",
            "Epoch 12/200\n",
            "2/2 - 0s - loss: 3.0111 - categorical_accuracy: 0.1923 - 12ms/epoch - 6ms/step\n",
            "Epoch 13/200\n",
            "2/2 - 0s - loss: 2.9793 - categorical_accuracy: 0.2115 - 12ms/epoch - 6ms/step\n",
            "Epoch 14/200\n",
            "2/2 - 0s - loss: 2.9476 - categorical_accuracy: 0.2115 - 11ms/epoch - 6ms/step\n",
            "Epoch 15/200\n",
            "2/2 - 0s - loss: 2.9160 - categorical_accuracy: 0.2308 - 13ms/epoch - 6ms/step\n",
            "Epoch 16/200\n",
            "2/2 - 0s - loss: 2.8794 - categorical_accuracy: 0.2500 - 11ms/epoch - 6ms/step\n",
            "Epoch 17/200\n",
            "2/2 - 0s - loss: 2.8412 - categorical_accuracy: 0.2885 - 11ms/epoch - 5ms/step\n",
            "Epoch 18/200\n",
            "2/2 - 0s - loss: 2.8023 - categorical_accuracy: 0.2885 - 10ms/epoch - 5ms/step\n",
            "Epoch 19/200\n",
            "2/2 - 0s - loss: 2.7579 - categorical_accuracy: 0.3077 - 12ms/epoch - 6ms/step\n",
            "Epoch 20/200\n",
            "2/2 - 0s - loss: 2.7136 - categorical_accuracy: 0.3077 - 9ms/epoch - 5ms/step\n",
            "Epoch 21/200\n",
            "2/2 - 0s - loss: 2.6713 - categorical_accuracy: 0.3269 - 11ms/epoch - 5ms/step\n",
            "Epoch 22/200\n",
            "2/2 - 0s - loss: 2.6206 - categorical_accuracy: 0.3462 - 13ms/epoch - 6ms/step\n",
            "Epoch 23/200\n",
            "2/2 - 0s - loss: 2.5712 - categorical_accuracy: 0.3654 - 14ms/epoch - 7ms/step\n",
            "Epoch 24/200\n",
            "2/2 - 0s - loss: 2.5194 - categorical_accuracy: 0.3654 - 9ms/epoch - 4ms/step\n",
            "Epoch 25/200\n",
            "2/2 - 0s - loss: 2.4669 - categorical_accuracy: 0.3654 - 8ms/epoch - 4ms/step\n",
            "Epoch 26/200\n",
            "2/2 - 0s - loss: 2.4100 - categorical_accuracy: 0.4038 - 12ms/epoch - 6ms/step\n",
            "Epoch 27/200\n",
            "2/2 - 0s - loss: 2.3513 - categorical_accuracy: 0.4038 - 11ms/epoch - 6ms/step\n",
            "Epoch 28/200\n",
            "2/2 - 0s - loss: 2.2948 - categorical_accuracy: 0.4423 - 13ms/epoch - 6ms/step\n",
            "Epoch 29/200\n",
            "2/2 - 0s - loss: 2.2289 - categorical_accuracy: 0.4423 - 10ms/epoch - 5ms/step\n",
            "Epoch 30/200\n",
            "2/2 - 0s - loss: 2.1689 - categorical_accuracy: 0.4423 - 9ms/epoch - 4ms/step\n",
            "Epoch 31/200\n",
            "2/2 - 0s - loss: 2.1071 - categorical_accuracy: 0.4423 - 13ms/epoch - 6ms/step\n",
            "Epoch 32/200\n",
            "2/2 - 0s - loss: 2.0430 - categorical_accuracy: 0.4615 - 11ms/epoch - 6ms/step\n",
            "Epoch 33/200\n",
            "2/2 - 0s - loss: 1.9805 - categorical_accuracy: 0.4615 - 17ms/epoch - 8ms/step\n",
            "Epoch 34/200\n",
            "2/2 - 0s - loss: 1.9169 - categorical_accuracy: 0.5000 - 13ms/epoch - 7ms/step\n",
            "Epoch 35/200\n",
            "2/2 - 0s - loss: 1.8561 - categorical_accuracy: 0.5385 - 10ms/epoch - 5ms/step\n",
            "Epoch 36/200\n",
            "2/2 - 0s - loss: 1.7927 - categorical_accuracy: 0.5577 - 10ms/epoch - 5ms/step\n",
            "Epoch 37/200\n",
            "2/2 - 0s - loss: 1.7315 - categorical_accuracy: 0.5577 - 15ms/epoch - 7ms/step\n",
            "Epoch 38/200\n",
            "2/2 - 0s - loss: 1.6655 - categorical_accuracy: 0.5769 - 11ms/epoch - 6ms/step\n",
            "Epoch 39/200\n",
            "2/2 - 0s - loss: 1.6064 - categorical_accuracy: 0.5577 - 10ms/epoch - 5ms/step\n",
            "Epoch 40/200\n",
            "2/2 - 0s - loss: 1.5473 - categorical_accuracy: 0.5577 - 11ms/epoch - 5ms/step\n",
            "Epoch 41/200\n",
            "2/2 - 0s - loss: 1.4849 - categorical_accuracy: 0.6154 - 18ms/epoch - 9ms/step\n",
            "Epoch 42/200\n",
            "2/2 - 0s - loss: 1.4260 - categorical_accuracy: 0.6154 - 10ms/epoch - 5ms/step\n",
            "Epoch 43/200\n",
            "2/2 - 0s - loss: 1.3693 - categorical_accuracy: 0.6538 - 9ms/epoch - 5ms/step\n",
            "Epoch 44/200\n",
            "2/2 - 0s - loss: 1.3105 - categorical_accuracy: 0.6731 - 11ms/epoch - 5ms/step\n",
            "Epoch 45/200\n",
            "2/2 - 0s - loss: 1.2570 - categorical_accuracy: 0.7308 - 12ms/epoch - 6ms/step\n",
            "Epoch 46/200\n",
            "2/2 - 0s - loss: 1.1985 - categorical_accuracy: 0.7885 - 12ms/epoch - 6ms/step\n",
            "Epoch 47/200\n",
            "2/2 - 0s - loss: 1.1447 - categorical_accuracy: 0.8269 - 14ms/epoch - 7ms/step\n",
            "Epoch 48/200\n",
            "2/2 - 0s - loss: 1.0920 - categorical_accuracy: 0.8269 - 11ms/epoch - 5ms/step\n",
            "Epoch 49/200\n",
            "2/2 - 0s - loss: 1.0369 - categorical_accuracy: 0.8846 - 17ms/epoch - 9ms/step\n",
            "Epoch 50/200\n",
            "2/2 - 0s - loss: 0.9874 - categorical_accuracy: 0.9038 - 11ms/epoch - 6ms/step\n",
            "Epoch 51/200\n",
            "2/2 - 0s - loss: 0.9408 - categorical_accuracy: 0.9038 - 9ms/epoch - 4ms/step\n",
            "Epoch 52/200\n",
            "2/2 - 0s - loss: 0.8930 - categorical_accuracy: 0.9423 - 8ms/epoch - 4ms/step\n",
            "Epoch 53/200\n",
            "2/2 - 0s - loss: 0.8450 - categorical_accuracy: 0.9423 - 9ms/epoch - 5ms/step\n",
            "Epoch 54/200\n",
            "2/2 - 0s - loss: 0.8067 - categorical_accuracy: 0.9423 - 12ms/epoch - 6ms/step\n",
            "Epoch 55/200\n",
            "2/2 - 0s - loss: 0.7669 - categorical_accuracy: 0.9423 - 13ms/epoch - 7ms/step\n",
            "Epoch 56/200\n",
            "2/2 - 0s - loss: 0.7294 - categorical_accuracy: 0.9615 - 12ms/epoch - 6ms/step\n",
            "Epoch 57/200\n",
            "2/2 - 0s - loss: 0.6910 - categorical_accuracy: 0.9808 - 10ms/epoch - 5ms/step\n",
            "Epoch 58/200\n",
            "2/2 - 0s - loss: 0.6576 - categorical_accuracy: 0.9808 - 11ms/epoch - 6ms/step\n",
            "Epoch 59/200\n",
            "2/2 - 0s - loss: 0.6237 - categorical_accuracy: 0.9808 - 12ms/epoch - 6ms/step\n",
            "Epoch 60/200\n",
            "2/2 - 0s - loss: 0.5905 - categorical_accuracy: 0.9808 - 10ms/epoch - 5ms/step\n",
            "Epoch 61/200\n",
            "2/2 - 0s - loss: 0.5595 - categorical_accuracy: 0.9808 - 12ms/epoch - 6ms/step\n",
            "Epoch 62/200\n",
            "2/2 - 0s - loss: 0.5346 - categorical_accuracy: 0.9808 - 11ms/epoch - 5ms/step\n",
            "Epoch 63/200\n",
            "2/2 - 0s - loss: 0.5085 - categorical_accuracy: 0.9808 - 13ms/epoch - 6ms/step\n",
            "Epoch 64/200\n",
            "2/2 - 0s - loss: 0.4814 - categorical_accuracy: 0.9808 - 9ms/epoch - 5ms/step\n",
            "Epoch 65/200\n",
            "2/2 - 0s - loss: 0.4579 - categorical_accuracy: 0.9808 - 12ms/epoch - 6ms/step\n",
            "Epoch 66/200\n",
            "2/2 - 0s - loss: 0.4343 - categorical_accuracy: 0.9808 - 9ms/epoch - 4ms/step\n",
            "Epoch 67/200\n",
            "2/2 - 0s - loss: 0.4127 - categorical_accuracy: 0.9808 - 10ms/epoch - 5ms/step\n",
            "Epoch 68/200\n",
            "2/2 - 0s - loss: 0.3908 - categorical_accuracy: 0.9808 - 10ms/epoch - 5ms/step\n",
            "Epoch 69/200\n",
            "2/2 - 0s - loss: 0.3737 - categorical_accuracy: 0.9808 - 9ms/epoch - 5ms/step\n",
            "Epoch 70/200\n",
            "2/2 - 0s - loss: 0.3548 - categorical_accuracy: 1.0000 - 11ms/epoch - 5ms/step\n",
            "Epoch 71/200\n",
            "2/2 - 0s - loss: 0.3370 - categorical_accuracy: 1.0000 - 11ms/epoch - 5ms/step\n",
            "Epoch 72/200\n",
            "2/2 - 0s - loss: 0.3199 - categorical_accuracy: 1.0000 - 9ms/epoch - 5ms/step\n",
            "Epoch 73/200\n",
            "2/2 - 0s - loss: 0.3048 - categorical_accuracy: 1.0000 - 11ms/epoch - 5ms/step\n",
            "Epoch 74/200\n",
            "2/2 - 0s - loss: 0.2906 - categorical_accuracy: 1.0000 - 8ms/epoch - 4ms/step\n",
            "Epoch 75/200\n",
            "2/2 - 0s - loss: 0.2778 - categorical_accuracy: 1.0000 - 8ms/epoch - 4ms/step\n",
            "Epoch 76/200\n",
            "2/2 - 0s - loss: 0.2638 - categorical_accuracy: 1.0000 - 12ms/epoch - 6ms/step\n",
            "Epoch 77/200\n",
            "2/2 - 0s - loss: 0.2507 - categorical_accuracy: 1.0000 - 12ms/epoch - 6ms/step\n",
            "Epoch 78/200\n",
            "2/2 - 0s - loss: 0.2387 - categorical_accuracy: 1.0000 - 10ms/epoch - 5ms/step\n",
            "Epoch 79/200\n",
            "2/2 - 0s - loss: 0.2297 - categorical_accuracy: 1.0000 - 9ms/epoch - 4ms/step\n",
            "Epoch 80/200\n",
            "2/2 - 0s - loss: 0.2190 - categorical_accuracy: 1.0000 - 9ms/epoch - 4ms/step\n",
            "Epoch 81/200\n",
            "2/2 - 0s - loss: 0.2089 - categorical_accuracy: 1.0000 - 12ms/epoch - 6ms/step\n",
            "Epoch 82/200\n",
            "2/2 - 0s - loss: 0.1989 - categorical_accuracy: 1.0000 - 8ms/epoch - 4ms/step\n",
            "Epoch 83/200\n",
            "2/2 - 0s - loss: 0.1905 - categorical_accuracy: 1.0000 - 9ms/epoch - 5ms/step\n",
            "Epoch 84/200\n",
            "2/2 - 0s - loss: 0.1830 - categorical_accuracy: 1.0000 - 11ms/epoch - 5ms/step\n",
            "Epoch 85/200\n",
            "2/2 - 0s - loss: 0.1745 - categorical_accuracy: 1.0000 - 9ms/epoch - 5ms/step\n",
            "Epoch 86/200\n",
            "2/2 - 0s - loss: 0.1675 - categorical_accuracy: 1.0000 - 9ms/epoch - 5ms/step\n",
            "Epoch 87/200\n",
            "2/2 - 0s - loss: 0.1602 - categorical_accuracy: 1.0000 - 10ms/epoch - 5ms/step\n",
            "Epoch 88/200\n",
            "2/2 - 0s - loss: 0.1540 - categorical_accuracy: 1.0000 - 14ms/epoch - 7ms/step\n",
            "Epoch 89/200\n",
            "2/2 - 0s - loss: 0.1469 - categorical_accuracy: 1.0000 - 9ms/epoch - 5ms/step\n",
            "Epoch 90/200\n",
            "2/2 - 0s - loss: 0.1400 - categorical_accuracy: 1.0000 - 9ms/epoch - 5ms/step\n",
            "Epoch 91/200\n",
            "2/2 - 0s - loss: 0.1349 - categorical_accuracy: 1.0000 - 9ms/epoch - 4ms/step\n",
            "Epoch 92/200\n",
            "2/2 - 0s - loss: 0.1293 - categorical_accuracy: 1.0000 - 8ms/epoch - 4ms/step\n",
            "Epoch 93/200\n",
            "2/2 - 0s - loss: 0.1252 - categorical_accuracy: 1.0000 - 11ms/epoch - 5ms/step\n",
            "Epoch 94/200\n",
            "2/2 - 0s - loss: 0.1195 - categorical_accuracy: 1.0000 - 12ms/epoch - 6ms/step\n",
            "Epoch 95/200\n",
            "2/2 - 0s - loss: 0.1145 - categorical_accuracy: 1.0000 - 11ms/epoch - 5ms/step\n",
            "Epoch 96/200\n",
            "2/2 - 0s - loss: 0.1101 - categorical_accuracy: 1.0000 - 10ms/epoch - 5ms/step\n",
            "Epoch 97/200\n",
            "2/2 - 0s - loss: 0.1054 - categorical_accuracy: 1.0000 - 11ms/epoch - 5ms/step\n",
            "Epoch 98/200\n",
            "2/2 - 0s - loss: 0.1013 - categorical_accuracy: 1.0000 - 11ms/epoch - 6ms/step\n",
            "Epoch 99/200\n",
            "2/2 - 0s - loss: 0.0978 - categorical_accuracy: 1.0000 - 9ms/epoch - 5ms/step\n",
            "Epoch 100/200\n",
            "2/2 - 0s - loss: 0.0939 - categorical_accuracy: 1.0000 - 11ms/epoch - 5ms/step\n",
            "Epoch 101/200\n",
            "2/2 - 0s - loss: 0.0913 - categorical_accuracy: 1.0000 - 9ms/epoch - 5ms/step\n",
            "Epoch 102/200\n",
            "2/2 - 0s - loss: 0.0873 - categorical_accuracy: 1.0000 - 13ms/epoch - 7ms/step\n",
            "Epoch 103/200\n",
            "2/2 - 0s - loss: 0.0842 - categorical_accuracy: 1.0000 - 12ms/epoch - 6ms/step\n",
            "Epoch 104/200\n",
            "2/2 - 0s - loss: 0.0810 - categorical_accuracy: 1.0000 - 10ms/epoch - 5ms/step\n",
            "Epoch 105/200\n",
            "2/2 - 0s - loss: 0.0784 - categorical_accuracy: 1.0000 - 16ms/epoch - 8ms/step\n",
            "Epoch 106/200\n",
            "2/2 - 0s - loss: 0.0755 - categorical_accuracy: 1.0000 - 12ms/epoch - 6ms/step\n",
            "Epoch 107/200\n",
            "2/2 - 0s - loss: 0.0732 - categorical_accuracy: 1.0000 - 12ms/epoch - 6ms/step\n",
            "Epoch 108/200\n",
            "2/2 - 0s - loss: 0.0706 - categorical_accuracy: 1.0000 - 11ms/epoch - 5ms/step\n",
            "Epoch 109/200\n",
            "2/2 - 0s - loss: 0.0686 - categorical_accuracy: 1.0000 - 11ms/epoch - 5ms/step\n",
            "Epoch 110/200\n",
            "2/2 - 0s - loss: 0.0664 - categorical_accuracy: 1.0000 - 11ms/epoch - 6ms/step\n",
            "Epoch 111/200\n",
            "2/2 - 0s - loss: 0.0639 - categorical_accuracy: 1.0000 - 11ms/epoch - 5ms/step\n",
            "Epoch 112/200\n",
            "2/2 - 0s - loss: 0.0628 - categorical_accuracy: 1.0000 - 10ms/epoch - 5ms/step\n",
            "Epoch 113/200\n",
            "2/2 - 0s - loss: 0.0604 - categorical_accuracy: 1.0000 - 11ms/epoch - 6ms/step\n",
            "Epoch 114/200\n",
            "2/2 - 0s - loss: 0.0583 - categorical_accuracy: 1.0000 - 12ms/epoch - 6ms/step\n",
            "Epoch 115/200\n",
            "2/2 - 0s - loss: 0.0565 - categorical_accuracy: 1.0000 - 10ms/epoch - 5ms/step\n",
            "Epoch 116/200\n",
            "2/2 - 0s - loss: 0.0550 - categorical_accuracy: 1.0000 - 10ms/epoch - 5ms/step\n",
            "Epoch 117/200\n",
            "2/2 - 0s - loss: 0.0535 - categorical_accuracy: 1.0000 - 12ms/epoch - 6ms/step\n",
            "Epoch 118/200\n",
            "2/2 - 0s - loss: 0.0518 - categorical_accuracy: 1.0000 - 11ms/epoch - 5ms/step\n",
            "Epoch 119/200\n",
            "2/2 - 0s - loss: 0.0505 - categorical_accuracy: 1.0000 - 9ms/epoch - 4ms/step\n",
            "Epoch 120/200\n",
            "2/2 - 0s - loss: 0.0489 - categorical_accuracy: 1.0000 - 9ms/epoch - 4ms/step\n"
          ]
        },
        {
          "output_type": "execute_result",
          "data": {
            "text/plain": [
              "<keras.callbacks.History at 0x7f865df5b550>"
            ]
          },
          "metadata": {},
          "execution_count": 21
        }
      ]
    },
    {
      "cell_type": "code",
      "source": [
        "model2.evaluate(x=TEST_SET_2D, y=unicode_cat_test, verbose=1)"
      ],
      "metadata": {
        "colab": {
          "base_uri": "https://localhost:8080/"
        },
        "id": "5hZ322rMqwXh",
        "outputId": "b76e230b-8e27-4c27-d1fd-fbb61b8c4686"
      },
      "execution_count": null,
      "outputs": [
        {
          "output_type": "stream",
          "name": "stdout",
          "text": [
            "1/1 [==============================] - 0s 138ms/step - loss: 2.7454 - categorical_accuracy: 0.3462\n"
          ]
        },
        {
          "output_type": "execute_result",
          "data": {
            "text/plain": [
              "[2.74540376663208, 0.3461538553237915]"
            ]
          },
          "metadata": {},
          "execution_count": 22
        }
      ]
    },
    {
      "cell_type": "markdown",
      "source": [
        "# Does the performance improve?"
      ],
      "metadata": {
        "id": "QZPpiD5BrI6i"
      }
    },
    {
      "cell_type": "markdown",
      "source": [
        "## A: No, the performance does not improve simply by adding more hidden layers."
      ],
      "metadata": {
        "id": "r-GVfQg0rJyH"
      }
    },
    {
      "cell_type": "markdown",
      "source": [
        "# 8. Repeat experiment (7), adding additional layers of the same size until the message is decoded correctly. What results do you observe?"
      ],
      "metadata": {
        "id": "aFxJNZe6gfw-"
      }
    },
    {
      "cell_type": "code",
      "source": [
        "model2.add(tf.keras.layers.Dense(32, activation=tf.keras.activations.relu, name=\"Hidden_layer1\"))\n",
        "model2.add(tf.keras.layers.Dense(32, activation=tf.keras.activations.relu, name=\"Hidden_layer2\"))\n",
        "model2.add(tf.keras.layers.Dense(32, activation=tf.keras.activations.relu, name=\"Hidden_layer3\"))"
      ],
      "metadata": {
        "id": "dKLc7F4KpJ2m"
      },
      "execution_count": null,
      "outputs": []
    }
  ]
}