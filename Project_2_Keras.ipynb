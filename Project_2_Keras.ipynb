{
  "cells": [
    {
      "cell_type": "markdown",
      "metadata": {
        "id": "view-in-github",
        "colab_type": "text"
      },
      "source": [
        "<a href=\"https://colab.research.google.com/github/raymec/keras/blob/main/Project_2_Keras.ipynb\" target=\"_parent\"><img src=\"https://colab.research.google.com/assets/colab-badge.svg\" alt=\"Open In Colab\"/></a>"
      ]
    },
    {
      "cell_type": "markdown",
      "metadata": {
        "id": "hmSTcGw2lmqB"
      },
      "source": [
        "# Spring 2022\n",
        "# CPSC 585 Project 2\n",
        "## Raymond Carpio\n",
        "## Yu Pan\n",
        "## Sijie Shang\n",
        "## John Tu"
      ]
    },
    {
      "cell_type": "code",
      "execution_count": null,
      "metadata": {
        "colab": {
          "base_uri": "https://localhost:8080/"
        },
        "id": "TwUguxm0px6t",
        "outputId": "f58eda4d-a52c-48e6-ac58-08654a438fff"
      },
      "outputs": [
        {
          "output_type": "stream",
          "name": "stdout",
          "text": [
            "Mounted at /content/drive\n"
          ]
        }
      ],
      "source": [
        "from google.colab import drive\n",
        "drive.mount('/content/drive')"
      ]
    },
    {
      "cell_type": "code",
      "execution_count": null,
      "metadata": {
        "colab": {
          "base_uri": "https://localhost:8080/"
        },
        "id": "-oB4W5pNn319",
        "outputId": "3c3cc022-f316-4076-9ac3-fda97c8c6359"
      },
      "outputs": [
        {
          "output_type": "stream",
          "name": "stdout",
          "text": [
            "TRAINING_SET:  ('A', [0, 0, 0, 0, 1, 1, 1, 1, 0, 0, 0, 0, 0, 0, 0, 0, 0, 0, 0, 0, 1, 1, 1, 1, 0, 0, 0, 0, 0, 0, 0, 0, 0, 0, 1, 1, 1, 1, 1, 1, 1, 1, 0, 0, 0, 0, 0, 0, 0, 0, 1, 1, 1, 1, 1, 1, 1, 1, 0, 0, 0, 0, 0, 0, 1, 1, 1, 1, 0, 0, 0, 0, 1, 1, 1, 1, 0, 0, 0, 0, 1, 1, 1, 1, 0, 0, 0, 0, 1, 1, 1, 1, 0, 0, 0, 0, 1, 1, 1, 1, 0, 0, 0, 0, 1, 1, 1, 1, 0, 0, 0, 0, 1, 1, 1, 1, 0, 0, 0, 0, 1, 1, 1, 1, 0, 0, 0, 0, 1, 1, 1, 1, 1, 1, 1, 1, 1, 1, 1, 1, 0, 0, 0, 0, 1, 1, 1, 1, 1, 1, 1, 1, 1, 1, 1, 1, 0, 0, 0, 0, 1, 1, 1, 1, 0, 0, 0, 0, 1, 1, 1, 1, 0, 0, 0, 0, 1, 1, 1, 1, 0, 0, 0, 0, 1, 1, 1, 1, 0, 0, 0, 0, 1, 1, 1, 1, 0, 0, 0, 0, 1, 1, 1, 1, 0, 0, 0, 0, 1, 1, 1, 1, 0, 0, 0, 0, 1, 1, 1, 1, 0, 0, 0, 0, 0, 0, 0, 0, 0, 0, 0, 0, 0, 0, 0, 0, 0, 0, 0, 0, 0, 0, 0, 0, 0, 0, 0, 0, 0, 0, 0, 0, 0, 0, 0, 0])\n",
            "TEST_SET:  ('A', [0, 0, 0, 0, 0, 0, 1, 1, 1, 1, 0, 0, 0, 0, 0, 0, 0, 0, 0, 0, 0, 0, 1, 1, 1, 1, 0, 0, 0, 0, 0, 0, 0, 0, 0, 0, 1, 1, 0, 0, 0, 0, 1, 1, 0, 0, 0, 0, 0, 0, 0, 0, 1, 1, 0, 0, 0, 0, 1, 1, 0, 0, 0, 0, 0, 0, 1, 1, 0, 0, 0, 0, 0, 0, 0, 0, 1, 1, 0, 0, 0, 0, 1, 1, 0, 0, 0, 0, 0, 0, 0, 0, 1, 1, 0, 0, 0, 0, 1, 1, 0, 0, 0, 0, 0, 0, 0, 0, 1, 1, 0, 0, 0, 0, 1, 1, 0, 0, 0, 0, 0, 0, 0, 0, 1, 1, 0, 0, 0, 0, 1, 1, 1, 1, 1, 1, 1, 1, 1, 1, 1, 1, 0, 0, 0, 0, 1, 1, 1, 1, 1, 1, 1, 1, 1, 1, 1, 1, 0, 0, 0, 0, 1, 1, 0, 0, 0, 0, 0, 0, 0, 0, 1, 1, 0, 0, 0, 0, 1, 1, 0, 0, 0, 0, 0, 0, 0, 0, 1, 1, 0, 0, 0, 0, 1, 1, 0, 0, 0, 0, 0, 0, 0, 0, 1, 1, 0, 0, 0, 0, 1, 1, 0, 0, 0, 0, 0, 0, 0, 0, 1, 1, 0, 0, 0, 0, 0, 0, 0, 0, 0, 0, 0, 0, 0, 0, 0, 0, 0, 0, 0, 0, 0, 0, 0, 0, 0, 0, 0, 0, 0, 0, 0, 0, 0, 0])\n",
            "MESSAGE:  [0, 0, 1, 1, 1, 1, 1, 1, 1, 1, 1, 1, 1, 1, 1, 1, 0, 0, 1, 1, 1, 1, 1, 1, 1, 1, 1, 1, 1, 1, 1, 0, 0, 0, 1, 1, 0, 0, 0, 0, 1, 1, 0, 0, 0, 0, 1, 1, 0, 0, 1, 1, 0, 0, 0, 0, 1, 1, 0, 0, 0, 0, 1, 1, 0, 0, 0, 0, 0, 0, 0, 0, 1, 1, 0, 0, 0, 0, 0, 0, 0, 0, 0, 0, 0, 0, 0, 0, 1, 1, 0, 0, 0, 0, 0, 0, 0, 0, 0, 0, 0, 0, 0, 0, 1, 1, 0, 0, 0, 0, 0, 0, 0, 0, 0, 0, 0, 0, 0, 0, 1, 1, 0, 0, 0, 0, 0, 0, 0, 0, 0, 0, 0, 0, 0, 0, 1, 1, 0, 0, 0, 0, 0, 0, 0, 0, 0, 1, 0, 0, 0, 0, 1, 1, 0, 0, 0, 0, 1, 0, 0, 0, 0, 0, 0, 0, 0, 0, 1, 1, 0, 0, 0, 0, 0, 0, 0, 0, 0, 0, 0, 0, 0, 0, 1, 1, 0, 0, 0, 0, 0, 0, 0, 0, 0, 0, 0, 0, 1, 1, 1, 1, 1, 1, 0, 0, 0, 0, 0, 0, 0, 0, 0, 0, 1, 1, 1, 1, 1, 1, 0, 0, 0, 0, 0, 0, 1, 0, 0, 0, 0, 0, 0, 0, 0, 0, 0, 0, 0, 0, 0, 0, 0, 0, 0, 0, 0, 0, 0, 0, 0, 0, 0, 0, 0, 0]\n"
          ]
        }
      ],
      "source": [
        "from dataset import * # Import the entire dataset\n",
        "import random # Needed to generate random numbers\n",
        "import numpy as np # Needed to do NumPy functions\n",
        "from matplotlib import pyplot as plt # Needed to do matplotlib graphs\n",
        "\n",
        "print(\"TRAINING_SET: \", TRAINING_SET[0])\n",
        "print(\"TEST_SET: \", TEST_SET[0])\n",
        "print(\"MESSAGE: \", MESSAGE[0])"
      ]
    },
    {
      "cell_type": "code",
      "execution_count": null,
      "metadata": {
        "id": "HyfA6D9norA9"
      },
      "outputs": [],
      "source": [
        ""
      ]
    },
    {
      "cell_type": "markdown",
      "metadata": {
        "id": "Dth6n0lcl37G"
      },
      "source": [
        "# 1. As with Project 1, convert the images in TRAINING_SET, TEST_SET, and MESSAGE into two-dimensional NumPy arrays of size (# examples × # features)."
      ]
    },
    {
      "cell_type": "code",
      "execution_count": null,
      "metadata": {
        "id": "awAfKGbfpiYl"
      },
      "outputs": [],
      "source": [
        "def show(image):\n",
        "    letter_len = len(image)\n",
        "    counter = 0\n",
        "    for x in range(letter_len):\n",
        "        if image[x] == 1:\n",
        "            print('#', end='')\n",
        "        else:\n",
        "            print(' ', end='')\n",
        "        counter += 1\n",
        "        if counter == 16:\n",
        "            counter = 0\n",
        "            print('\\n', end='')"
      ]
    },
    {
      "cell_type": "code",
      "execution_count": null,
      "metadata": {
        "colab": {
          "base_uri": "https://localhost:8080/"
        },
        "id": "iEtinAfAkx_-",
        "outputId": "9abee19d-8ed1-438d-cf83-bafd958b7763"
      },
      "outputs": [
        {
          "output_type": "stream",
          "name": "stdout",
          "text": [
            "(52, 256)\n",
            "(26, 256)\n",
            "(31, 256)\n",
            "\n",
            "The image of the first letter: \n",
            "\n",
            "    ####        \n",
            "    ####        \n",
            "  ########      \n",
            "  ########      \n",
            "####    ####    \n",
            "####    ####    \n",
            "####    ####    \n",
            "####    ####    \n",
            "############    \n",
            "############    \n",
            "####    ####    \n",
            "####    ####    \n",
            "####    ####    \n",
            "####    ####    \n",
            "                \n",
            "                \n",
            "The letter list:  <function letter_list at 0x7f4c0d008560>\n"
          ]
        }
      ],
      "source": [
        "def convert_2d_array(input_data):\n",
        "    if len(input_data) == 0:\n",
        "        return None\n",
        "    output_data = []\n",
        "    if len(input_data[0]) == 2:\n",
        "        for x, y in input_data:\n",
        "            output_data.append(np.array(y))\n",
        "    else:\n",
        "        for x in input_data:\n",
        "            output_data.append(np.array(x))\n",
        "    return np.array(output_data)\n",
        "\n",
        "def letter_list(input_data):\n",
        "    if len(input_data) == 0:\n",
        "        return None\n",
        "    output_data = []\n",
        "    if len(input_data[0]) == 2:\n",
        "        for x, y in input_data:\n",
        "            output_data.append(np.array(x))\n",
        "    return np.array(output_data)\n",
        "\n",
        "TRAINING_SET_2D = convert_2d_array(TRAINING_SET)\n",
        "TEST_SET_2D = convert_2d_array(TEST_SET)\n",
        "MESSAGE_2D = convert_2d_array(MESSAGE)\n",
        "\n",
        "# Verify that each 2-dimensional NumPy array contains the same number of elements from the original arrays.\n",
        "print(TRAINING_SET_2D.shape)\n",
        "print(TEST_SET_2D.shape)\n",
        "print(MESSAGE_2D.shape)\n",
        "\n",
        "print(\"\\nThe image of the first letter: \\n\")\n",
        "show(TRAINING_SET_2D[0])\n",
        "\n",
        "letter_list_train=letter_list(TRAINING_SET)\n",
        "letter_list_test=letter_list(TEST_SET)\n",
        "print('The letter list: ',letter_list)\n"
      ]
    },
    {
      "cell_type": "markdown",
      "metadata": {
        "id": "ieAOi1CcmZXT"
      },
      "source": [
        "# 2. Rather than training 26 different perceptrons as you did in Project 1, this time you will use a single network with 26 possible outputs.\n",
        "# In order to use the character labels in TRAINING_SET and TEST_SET, convert them into integer class vectors using ord(), then into 26 one-hot encoded categorical features."
      ]
    },
    {
      "cell_type": "code",
      "execution_count": null,
      "metadata": {
        "id": "KpwNzPB9uj9b"
      },
      "outputs": [],
      "source": [
        "import tensorflow as tf"
      ]
    },
    {
      "cell_type": "code",
      "execution_count": null,
      "metadata": {
        "id": "HT8OYTrerfqC",
        "colab": {
          "base_uri": "https://localhost:8080/"
        },
        "outputId": "e67e740c-d490-422f-a087-d76f61b712d6"
      },
      "outputs": [
        {
          "output_type": "stream",
          "name": "stdout",
          "text": [
            "[0, 1, 2, 3, 4, 5, 6, 7, 8, 9, 10, 11, 12, 13, 14, 15, 16, 17, 18, 19, 20, 21, 22, 23, 24, 25, 0, 1, 2, 3, 4, 5, 6, 7, 8, 9, 10, 11, 12, 13, 14, 15, 16, 17, 18, 19, 20, 21, 22, 23, 24, 25]\n"
          ]
        },
        {
          "output_type": "execute_result",
          "data": {
            "text/plain": [
              "array([[1., 0., 0., ..., 0., 0., 0.],\n",
              "       [0., 1., 0., ..., 0., 0., 0.],\n",
              "       [0., 0., 1., ..., 0., 0., 0.],\n",
              "       ...,\n",
              "       [0., 0., 0., ..., 1., 0., 0.],\n",
              "       [0., 0., 0., ..., 0., 1., 0.],\n",
              "       [0., 0., 0., ..., 0., 0., 1.]], dtype=float32)"
            ]
          },
          "metadata": {},
          "execution_count": 30
        }
      ],
      "source": [
        "unicode_letters_train, unicode_letters_test = [], []\n",
        "for i in letter_list_train:\n",
        "  unicode_char=ord(i)-ord('A')\n",
        "  unicode_letters_train.append(unicode_char)\n",
        "\n",
        "print(unicode_letters_train)\n",
        "\n",
        "unicode_cat_train = tf.keras.utils.to_categorical(unicode_letters_train, num_classes=None, dtype=\"float32\")\n",
        "\n",
        "unicode_cat_train"
      ]
    },
    {
      "cell_type": "code",
      "execution_count": null,
      "metadata": {
        "id": "t7SRbOcSnOpg",
        "colab": {
          "base_uri": "https://localhost:8080/"
        },
        "outputId": "fbd8c396-798e-4f6c-dc7b-009a31caffc0"
      },
      "outputs": [
        {
          "output_type": "stream",
          "name": "stdout",
          "text": [
            "[0, 1, 2, 3, 4, 5, 6, 7, 8, 9, 10, 11, 12, 13, 14, 15, 16, 17, 18, 19, 20, 21, 22, 23, 24, 25]\n"
          ]
        },
        {
          "output_type": "execute_result",
          "data": {
            "text/plain": [
              "array([[1., 0., 0., 0., 0., 0., 0., 0., 0., 0., 0., 0., 0., 0., 0., 0.,\n",
              "        0., 0., 0., 0., 0., 0., 0., 0., 0., 0.],\n",
              "       [0., 1., 0., 0., 0., 0., 0., 0., 0., 0., 0., 0., 0., 0., 0., 0.,\n",
              "        0., 0., 0., 0., 0., 0., 0., 0., 0., 0.],\n",
              "       [0., 0., 1., 0., 0., 0., 0., 0., 0., 0., 0., 0., 0., 0., 0., 0.,\n",
              "        0., 0., 0., 0., 0., 0., 0., 0., 0., 0.],\n",
              "       [0., 0., 0., 1., 0., 0., 0., 0., 0., 0., 0., 0., 0., 0., 0., 0.,\n",
              "        0., 0., 0., 0., 0., 0., 0., 0., 0., 0.],\n",
              "       [0., 0., 0., 0., 1., 0., 0., 0., 0., 0., 0., 0., 0., 0., 0., 0.,\n",
              "        0., 0., 0., 0., 0., 0., 0., 0., 0., 0.],\n",
              "       [0., 0., 0., 0., 0., 1., 0., 0., 0., 0., 0., 0., 0., 0., 0., 0.,\n",
              "        0., 0., 0., 0., 0., 0., 0., 0., 0., 0.],\n",
              "       [0., 0., 0., 0., 0., 0., 1., 0., 0., 0., 0., 0., 0., 0., 0., 0.,\n",
              "        0., 0., 0., 0., 0., 0., 0., 0., 0., 0.],\n",
              "       [0., 0., 0., 0., 0., 0., 0., 1., 0., 0., 0., 0., 0., 0., 0., 0.,\n",
              "        0., 0., 0., 0., 0., 0., 0., 0., 0., 0.],\n",
              "       [0., 0., 0., 0., 0., 0., 0., 0., 1., 0., 0., 0., 0., 0., 0., 0.,\n",
              "        0., 0., 0., 0., 0., 0., 0., 0., 0., 0.],\n",
              "       [0., 0., 0., 0., 0., 0., 0., 0., 0., 1., 0., 0., 0., 0., 0., 0.,\n",
              "        0., 0., 0., 0., 0., 0., 0., 0., 0., 0.],\n",
              "       [0., 0., 0., 0., 0., 0., 0., 0., 0., 0., 1., 0., 0., 0., 0., 0.,\n",
              "        0., 0., 0., 0., 0., 0., 0., 0., 0., 0.],\n",
              "       [0., 0., 0., 0., 0., 0., 0., 0., 0., 0., 0., 1., 0., 0., 0., 0.,\n",
              "        0., 0., 0., 0., 0., 0., 0., 0., 0., 0.],\n",
              "       [0., 0., 0., 0., 0., 0., 0., 0., 0., 0., 0., 0., 1., 0., 0., 0.,\n",
              "        0., 0., 0., 0., 0., 0., 0., 0., 0., 0.],\n",
              "       [0., 0., 0., 0., 0., 0., 0., 0., 0., 0., 0., 0., 0., 1., 0., 0.,\n",
              "        0., 0., 0., 0., 0., 0., 0., 0., 0., 0.],\n",
              "       [0., 0., 0., 0., 0., 0., 0., 0., 0., 0., 0., 0., 0., 0., 1., 0.,\n",
              "        0., 0., 0., 0., 0., 0., 0., 0., 0., 0.],\n",
              "       [0., 0., 0., 0., 0., 0., 0., 0., 0., 0., 0., 0., 0., 0., 0., 1.,\n",
              "        0., 0., 0., 0., 0., 0., 0., 0., 0., 0.],\n",
              "       [0., 0., 0., 0., 0., 0., 0., 0., 0., 0., 0., 0., 0., 0., 0., 0.,\n",
              "        1., 0., 0., 0., 0., 0., 0., 0., 0., 0.],\n",
              "       [0., 0., 0., 0., 0., 0., 0., 0., 0., 0., 0., 0., 0., 0., 0., 0.,\n",
              "        0., 1., 0., 0., 0., 0., 0., 0., 0., 0.],\n",
              "       [0., 0., 0., 0., 0., 0., 0., 0., 0., 0., 0., 0., 0., 0., 0., 0.,\n",
              "        0., 0., 1., 0., 0., 0., 0., 0., 0., 0.],\n",
              "       [0., 0., 0., 0., 0., 0., 0., 0., 0., 0., 0., 0., 0., 0., 0., 0.,\n",
              "        0., 0., 0., 1., 0., 0., 0., 0., 0., 0.],\n",
              "       [0., 0., 0., 0., 0., 0., 0., 0., 0., 0., 0., 0., 0., 0., 0., 0.,\n",
              "        0., 0., 0., 0., 1., 0., 0., 0., 0., 0.],\n",
              "       [0., 0., 0., 0., 0., 0., 0., 0., 0., 0., 0., 0., 0., 0., 0., 0.,\n",
              "        0., 0., 0., 0., 0., 1., 0., 0., 0., 0.],\n",
              "       [0., 0., 0., 0., 0., 0., 0., 0., 0., 0., 0., 0., 0., 0., 0., 0.,\n",
              "        0., 0., 0., 0., 0., 0., 1., 0., 0., 0.],\n",
              "       [0., 0., 0., 0., 0., 0., 0., 0., 0., 0., 0., 0., 0., 0., 0., 0.,\n",
              "        0., 0., 0., 0., 0., 0., 0., 1., 0., 0.],\n",
              "       [0., 0., 0., 0., 0., 0., 0., 0., 0., 0., 0., 0., 0., 0., 0., 0.,\n",
              "        0., 0., 0., 0., 0., 0., 0., 0., 1., 0.],\n",
              "       [0., 0., 0., 0., 0., 0., 0., 0., 0., 0., 0., 0., 0., 0., 0., 0.,\n",
              "        0., 0., 0., 0., 0., 0., 0., 0., 0., 1.]], dtype=float32)"
            ]
          },
          "metadata": {},
          "execution_count": 31
        }
      ],
      "source": [
        "for i in letter_list_test:\n",
        "  unicode_char=ord(i)-ord('A')\n",
        "  unicode_letters_test.append(unicode_char)\n",
        "\n",
        "print(unicode_letters_test)\n",
        "\n",
        "unicode_cat_test = tf.keras.utils.to_categorical(unicode_letters_test, num_classes=None, dtype=\"float32\")\n",
        "\n",
        "unicode_cat_test"
      ]
    },
    {
      "cell_type": "markdown",
      "metadata": {
        "id": "WMjg_gFmmjpN"
      },
      "source": [
        "# 3. Create a Sequential Keras model with a Dense hidden layer and a Dense output layer with softmax activation and categorical cross-entropy loss."
      ]
    },
    {
      "cell_type": "code",
      "execution_count": null,
      "metadata": {
        "id": "yWI6X0D7NK0J",
        "colab": {
          "base_uri": "https://localhost:8080/"
        },
        "outputId": "2f55ff47-2215-486f-f09f-92110154a23d"
      },
      "outputs": [
        {
          "output_type": "stream",
          "name": "stdout",
          "text": [
            "Model: \"sequential\"\n",
            "_________________________________________________________________\n",
            " Layer (type)                Output Shape              Param #   \n",
            "=================================================================\n",
            " Hidden_layer (Dense)        (None, 32)                8224      \n",
            "                                                                 \n",
            " Output_layer (Dense)        (None, 26)                858       \n",
            "                                                                 \n",
            "=================================================================\n",
            "Total params: 9,082\n",
            "Trainable params: 9,082\n",
            "Non-trainable params: 0\n",
            "_________________________________________________________________\n"
          ]
        }
      ],
      "source": [
        "# Create a sequential model with two Dense layers:\n",
        "# One as a hidden layer and the other as an output layer\n",
        "model = tf.keras.models.Sequential()\n",
        "model.add(tf.keras.Input(shape=(256,)))\n",
        "model.add(tf.keras.layers.Dense(32, activation=tf.keras.activations.relu, name=\"Hidden_layer\"))\n",
        "model.add(tf.keras.layers.Dense(26, activation=tf.keras.activations.softmax, name=\"Output_layer\"))\n",
        "\n",
        "model.summary()"
      ]
    },
    {
      "cell_type": "markdown",
      "metadata": {
        "id": "eZoyNBQygS1B"
      },
      "source": [
        "# 4. compile and fit the model to the training set. Train the model until the accuracy is as high as possible. You may wish to use an EarlyStopping callback."
      ]
    },
    {
      "cell_type": "code",
      "execution_count": null,
      "metadata": {
        "id": "fn4Aze_nhvdK"
      },
      "outputs": [],
      "source": [
        "model.compile(optimizer=tf.keras.optimizers.Adam(learning_rate=0.001),\n",
        "             loss=tf.keras.losses.CategoricalCrossentropy(),\n",
        "             metrics=[tf.keras.metrics.CategoricalAccuracy()])"
      ]
    },
    {
      "cell_type": "code",
      "execution_count": null,
      "metadata": {
        "id": "V3FRJkvMiNv8",
        "colab": {
          "base_uri": "https://localhost:8080/"
        },
        "outputId": "2e173fac-caa4-41dd-c879-3920831d620e"
      },
      "outputs": [
        {
          "output_type": "stream",
          "name": "stdout",
          "text": [
            "Epoch 1/9999\n",
            "2/2 - 1s - loss: 3.4786 - categorical_accuracy: 0.0000e+00 - 598ms/epoch - 299ms/step\n",
            "Epoch 2/9999\n",
            "2/2 - 0s - loss: 3.3693 - categorical_accuracy: 0.0192 - 12ms/epoch - 6ms/step\n",
            "Epoch 3/9999\n",
            "2/2 - 0s - loss: 3.2944 - categorical_accuracy: 0.0577 - 11ms/epoch - 5ms/step\n",
            "Epoch 4/9999\n",
            "2/2 - 0s - loss: 3.2298 - categorical_accuracy: 0.0577 - 8ms/epoch - 4ms/step\n",
            "Epoch 5/9999\n",
            "2/2 - 0s - loss: 3.1733 - categorical_accuracy: 0.0577 - 9ms/epoch - 4ms/step\n",
            "Epoch 6/9999\n",
            "2/2 - 0s - loss: 3.1238 - categorical_accuracy: 0.0962 - 11ms/epoch - 5ms/step\n",
            "Epoch 7/9999\n",
            "2/2 - 0s - loss: 3.0785 - categorical_accuracy: 0.1346 - 11ms/epoch - 6ms/step\n",
            "Epoch 8/9999\n",
            "2/2 - 0s - loss: 3.0344 - categorical_accuracy: 0.1346 - 9ms/epoch - 5ms/step\n",
            "Epoch 9/9999\n",
            "2/2 - 0s - loss: 2.9968 - categorical_accuracy: 0.1731 - 11ms/epoch - 5ms/step\n",
            "Epoch 10/9999\n",
            "2/2 - 0s - loss: 2.9534 - categorical_accuracy: 0.1923 - 9ms/epoch - 5ms/step\n",
            "Epoch 11/9999\n",
            "2/2 - 0s - loss: 2.9145 - categorical_accuracy: 0.1923 - 9ms/epoch - 4ms/step\n",
            "Epoch 12/9999\n",
            "2/2 - 0s - loss: 2.8759 - categorical_accuracy: 0.2115 - 9ms/epoch - 5ms/step\n",
            "Epoch 13/9999\n",
            "2/2 - 0s - loss: 2.8380 - categorical_accuracy: 0.2115 - 7ms/epoch - 4ms/step\n",
            "Epoch 14/9999\n",
            "2/2 - 0s - loss: 2.8000 - categorical_accuracy: 0.3077 - 7ms/epoch - 3ms/step\n",
            "Epoch 15/9999\n",
            "2/2 - 0s - loss: 2.7645 - categorical_accuracy: 0.3462 - 6ms/epoch - 3ms/step\n",
            "Epoch 16/9999\n",
            "2/2 - 0s - loss: 2.7274 - categorical_accuracy: 0.3462 - 7ms/epoch - 3ms/step\n",
            "Epoch 17/9999\n",
            "2/2 - 0s - loss: 2.6897 - categorical_accuracy: 0.3462 - 6ms/epoch - 3ms/step\n",
            "Epoch 18/9999\n",
            "2/2 - 0s - loss: 2.6543 - categorical_accuracy: 0.3654 - 7ms/epoch - 3ms/step\n",
            "Epoch 19/9999\n",
            "2/2 - 0s - loss: 2.6135 - categorical_accuracy: 0.3846 - 9ms/epoch - 4ms/step\n",
            "Epoch 20/9999\n",
            "2/2 - 0s - loss: 2.5777 - categorical_accuracy: 0.3846 - 11ms/epoch - 5ms/step\n",
            "Epoch 21/9999\n",
            "2/2 - 0s - loss: 2.5376 - categorical_accuracy: 0.3846 - 8ms/epoch - 4ms/step\n",
            "Epoch 22/9999\n",
            "2/2 - 0s - loss: 2.4985 - categorical_accuracy: 0.4038 - 11ms/epoch - 5ms/step\n",
            "Epoch 23/9999\n",
            "2/2 - 0s - loss: 2.4586 - categorical_accuracy: 0.4038 - 14ms/epoch - 7ms/step\n",
            "Epoch 24/9999\n",
            "2/2 - 0s - loss: 2.4204 - categorical_accuracy: 0.4038 - 10ms/epoch - 5ms/step\n",
            "Epoch 25/9999\n",
            "2/2 - 0s - loss: 2.3825 - categorical_accuracy: 0.4038 - 9ms/epoch - 4ms/step\n",
            "Epoch 26/9999\n",
            "2/2 - 0s - loss: 2.3433 - categorical_accuracy: 0.4038 - 9ms/epoch - 5ms/step\n",
            "Epoch 27/9999\n",
            "2/2 - 0s - loss: 2.3030 - categorical_accuracy: 0.4038 - 12ms/epoch - 6ms/step\n",
            "Epoch 28/9999\n",
            "2/2 - 0s - loss: 2.2628 - categorical_accuracy: 0.4231 - 8ms/epoch - 4ms/step\n",
            "Epoch 29/9999\n",
            "2/2 - 0s - loss: 2.2231 - categorical_accuracy: 0.4615 - 7ms/epoch - 4ms/step\n",
            "Epoch 30/9999\n",
            "2/2 - 0s - loss: 2.1801 - categorical_accuracy: 0.4615 - 7ms/epoch - 3ms/step\n",
            "Epoch 31/9999\n",
            "2/2 - 0s - loss: 2.1385 - categorical_accuracy: 0.5000 - 11ms/epoch - 5ms/step\n",
            "Epoch 32/9999\n",
            "2/2 - 0s - loss: 2.0952 - categorical_accuracy: 0.5577 - 17ms/epoch - 8ms/step\n",
            "Epoch 33/9999\n",
            "2/2 - 0s - loss: 2.0506 - categorical_accuracy: 0.5577 - 11ms/epoch - 6ms/step\n",
            "Epoch 34/9999\n",
            "2/2 - 0s - loss: 2.0057 - categorical_accuracy: 0.5577 - 14ms/epoch - 7ms/step\n",
            "Epoch 35/9999\n",
            "2/2 - 0s - loss: 1.9616 - categorical_accuracy: 0.5577 - 8ms/epoch - 4ms/step\n",
            "Epoch 36/9999\n",
            "2/2 - 0s - loss: 1.9185 - categorical_accuracy: 0.5577 - 7ms/epoch - 4ms/step\n",
            "Epoch 37/9999\n",
            "2/2 - 0s - loss: 1.8760 - categorical_accuracy: 0.5769 - 9ms/epoch - 4ms/step\n",
            "Epoch 38/9999\n",
            "2/2 - 0s - loss: 1.8348 - categorical_accuracy: 0.5962 - 8ms/epoch - 4ms/step\n",
            "Epoch 39/9999\n",
            "2/2 - 0s - loss: 1.7922 - categorical_accuracy: 0.6154 - 8ms/epoch - 4ms/step\n",
            "Epoch 40/9999\n",
            "2/2 - 0s - loss: 1.7534 - categorical_accuracy: 0.6154 - 10ms/epoch - 5ms/step\n",
            "Epoch 41/9999\n",
            "2/2 - 0s - loss: 1.7127 - categorical_accuracy: 0.6154 - 10ms/epoch - 5ms/step\n",
            "Epoch 42/9999\n",
            "2/2 - 0s - loss: 1.6722 - categorical_accuracy: 0.6154 - 7ms/epoch - 4ms/step\n",
            "Epoch 43/9999\n",
            "2/2 - 0s - loss: 1.6323 - categorical_accuracy: 0.6731 - 9ms/epoch - 5ms/step\n",
            "Epoch 44/9999\n",
            "2/2 - 0s - loss: 1.5930 - categorical_accuracy: 0.6731 - 8ms/epoch - 4ms/step\n",
            "Epoch 45/9999\n",
            "2/2 - 0s - loss: 1.5545 - categorical_accuracy: 0.6923 - 12ms/epoch - 6ms/step\n",
            "Epoch 46/9999\n",
            "2/2 - 0s - loss: 1.5159 - categorical_accuracy: 0.7115 - 9ms/epoch - 5ms/step\n",
            "Epoch 47/9999\n",
            "2/2 - 0s - loss: 1.4794 - categorical_accuracy: 0.7308 - 8ms/epoch - 4ms/step\n",
            "Epoch 48/9999\n",
            "2/2 - 0s - loss: 1.4437 - categorical_accuracy: 0.7308 - 8ms/epoch - 4ms/step\n",
            "Epoch 49/9999\n",
            "2/2 - 0s - loss: 1.4087 - categorical_accuracy: 0.7500 - 7ms/epoch - 3ms/step\n",
            "Epoch 50/9999\n",
            "2/2 - 0s - loss: 1.3719 - categorical_accuracy: 0.7500 - 15ms/epoch - 7ms/step\n",
            "Epoch 51/9999\n",
            "2/2 - 0s - loss: 1.3399 - categorical_accuracy: 0.7692 - 8ms/epoch - 4ms/step\n",
            "Epoch 52/9999\n",
            "2/2 - 0s - loss: 1.3052 - categorical_accuracy: 0.7692 - 7ms/epoch - 3ms/step\n",
            "Epoch 53/9999\n",
            "2/2 - 0s - loss: 1.2713 - categorical_accuracy: 0.8077 - 9ms/epoch - 4ms/step\n",
            "Epoch 54/9999\n",
            "2/2 - 0s - loss: 1.2400 - categorical_accuracy: 0.8077 - 11ms/epoch - 5ms/step\n",
            "Epoch 55/9999\n",
            "2/2 - 0s - loss: 1.2105 - categorical_accuracy: 0.8077 - 12ms/epoch - 6ms/step\n",
            "Epoch 56/9999\n",
            "2/2 - 0s - loss: 1.1796 - categorical_accuracy: 0.8462 - 8ms/epoch - 4ms/step\n",
            "Epoch 57/9999\n",
            "2/2 - 0s - loss: 1.1508 - categorical_accuracy: 0.8462 - 7ms/epoch - 4ms/step\n",
            "Epoch 58/9999\n",
            "2/2 - 0s - loss: 1.1221 - categorical_accuracy: 0.8462 - 8ms/epoch - 4ms/step\n",
            "Epoch 59/9999\n",
            "2/2 - 0s - loss: 1.0932 - categorical_accuracy: 0.8846 - 10ms/epoch - 5ms/step\n",
            "Epoch 60/9999\n",
            "2/2 - 0s - loss: 1.0664 - categorical_accuracy: 0.9038 - 7ms/epoch - 4ms/step\n",
            "Epoch 61/9999\n",
            "2/2 - 0s - loss: 1.0387 - categorical_accuracy: 0.9038 - 8ms/epoch - 4ms/step\n",
            "Epoch 62/9999\n",
            "2/2 - 0s - loss: 1.0114 - categorical_accuracy: 0.9423 - 7ms/epoch - 4ms/step\n",
            "Epoch 63/9999\n",
            "2/2 - 0s - loss: 0.9860 - categorical_accuracy: 0.9423 - 9ms/epoch - 5ms/step\n",
            "Epoch 64/9999\n",
            "2/2 - 0s - loss: 0.9627 - categorical_accuracy: 0.9423 - 9ms/epoch - 4ms/step\n",
            "Epoch 65/9999\n",
            "2/2 - 0s - loss: 0.9375 - categorical_accuracy: 0.9423 - 10ms/epoch - 5ms/step\n",
            "Epoch 66/9999\n",
            "2/2 - 0s - loss: 0.9125 - categorical_accuracy: 0.9423 - 8ms/epoch - 4ms/step\n",
            "Epoch 67/9999\n",
            "2/2 - 0s - loss: 0.8906 - categorical_accuracy: 0.9423 - 10ms/epoch - 5ms/step\n",
            "Epoch 68/9999\n",
            "2/2 - 0s - loss: 0.8689 - categorical_accuracy: 0.9423 - 11ms/epoch - 5ms/step\n",
            "Epoch 69/9999\n",
            "2/2 - 0s - loss: 0.8471 - categorical_accuracy: 0.9615 - 9ms/epoch - 5ms/step\n",
            "Epoch 70/9999\n",
            "2/2 - 0s - loss: 0.8269 - categorical_accuracy: 0.9615 - 21ms/epoch - 11ms/step\n",
            "Epoch 71/9999\n",
            "2/2 - 0s - loss: 0.8060 - categorical_accuracy: 0.9615 - 9ms/epoch - 5ms/step\n",
            "Epoch 72/9999\n",
            "2/2 - 0s - loss: 0.7866 - categorical_accuracy: 0.9423 - 12ms/epoch - 6ms/step\n",
            "Epoch 73/9999\n",
            "2/2 - 0s - loss: 0.7688 - categorical_accuracy: 0.9423 - 10ms/epoch - 5ms/step\n",
            "Epoch 74/9999\n",
            "2/2 - 0s - loss: 0.7495 - categorical_accuracy: 0.9423 - 7ms/epoch - 3ms/step\n",
            "Epoch 75/9999\n",
            "2/2 - 0s - loss: 0.7333 - categorical_accuracy: 0.9423 - 8ms/epoch - 4ms/step\n",
            "Epoch 76/9999\n",
            "2/2 - 0s - loss: 0.7157 - categorical_accuracy: 0.9423 - 10ms/epoch - 5ms/step\n",
            "Epoch 77/9999\n",
            "2/2 - 0s - loss: 0.6980 - categorical_accuracy: 0.9423 - 7ms/epoch - 4ms/step\n",
            "Epoch 78/9999\n",
            "2/2 - 0s - loss: 0.6824 - categorical_accuracy: 0.9423 - 10ms/epoch - 5ms/step\n",
            "Epoch 79/9999\n",
            "2/2 - 0s - loss: 0.6674 - categorical_accuracy: 0.9423 - 9ms/epoch - 5ms/step\n",
            "Epoch 80/9999\n",
            "2/2 - 0s - loss: 0.6517 - categorical_accuracy: 0.9615 - 7ms/epoch - 4ms/step\n",
            "Epoch 81/9999\n",
            "2/2 - 0s - loss: 0.6370 - categorical_accuracy: 0.9615 - 8ms/epoch - 4ms/step\n",
            "Epoch 82/9999\n",
            "2/2 - 0s - loss: 0.6222 - categorical_accuracy: 0.9615 - 7ms/epoch - 4ms/step\n",
            "Epoch 83/9999\n",
            "2/2 - 0s - loss: 0.6084 - categorical_accuracy: 0.9808 - 7ms/epoch - 4ms/step\n",
            "Epoch 84/9999\n",
            "2/2 - 0s - loss: 0.5943 - categorical_accuracy: 0.9808 - 7ms/epoch - 3ms/step\n",
            "Epoch 85/9999\n",
            "2/2 - 0s - loss: 0.5817 - categorical_accuracy: 0.9808 - 9ms/epoch - 5ms/step\n",
            "Epoch 86/9999\n",
            "2/2 - 0s - loss: 0.5690 - categorical_accuracy: 1.0000 - 9ms/epoch - 4ms/step\n",
            "Epoch 87/9999\n",
            "2/2 - 0s - loss: 0.5566 - categorical_accuracy: 1.0000 - 11ms/epoch - 6ms/step\n",
            "Epoch 88/9999\n",
            "2/2 - 0s - loss: 0.5444 - categorical_accuracy: 1.0000 - 8ms/epoch - 4ms/step\n",
            "Epoch 89/9999\n",
            "2/2 - 0s - loss: 0.5332 - categorical_accuracy: 1.0000 - 9ms/epoch - 4ms/step\n",
            "Epoch 90/9999\n",
            "2/2 - 0s - loss: 0.5210 - categorical_accuracy: 1.0000 - 11ms/epoch - 5ms/step\n",
            "Epoch 91/9999\n",
            "2/2 - 0s - loss: 0.5101 - categorical_accuracy: 1.0000 - 10ms/epoch - 5ms/step\n",
            "Epoch 92/9999\n",
            "2/2 - 0s - loss: 0.4994 - categorical_accuracy: 1.0000 - 9ms/epoch - 5ms/step\n",
            "Epoch 93/9999\n",
            "2/2 - 0s - loss: 0.4898 - categorical_accuracy: 1.0000 - 9ms/epoch - 5ms/step\n",
            "Epoch 94/9999\n",
            "2/2 - 0s - loss: 0.4799 - categorical_accuracy: 1.0000 - 9ms/epoch - 4ms/step\n",
            "Epoch 95/9999\n",
            "2/2 - 0s - loss: 0.4704 - categorical_accuracy: 1.0000 - 9ms/epoch - 5ms/step\n",
            "Epoch 96/9999\n",
            "2/2 - 0s - loss: 0.4606 - categorical_accuracy: 1.0000 - 12ms/epoch - 6ms/step\n",
            "Epoch 97/9999\n",
            "2/2 - 0s - loss: 0.4511 - categorical_accuracy: 1.0000 - 7ms/epoch - 4ms/step\n",
            "Epoch 98/9999\n",
            "2/2 - 0s - loss: 0.4419 - categorical_accuracy: 1.0000 - 7ms/epoch - 4ms/step\n",
            "Epoch 99/9999\n",
            "2/2 - 0s - loss: 0.4341 - categorical_accuracy: 1.0000 - 10ms/epoch - 5ms/step\n",
            "Epoch 100/9999\n",
            "2/2 - 0s - loss: 0.4243 - categorical_accuracy: 1.0000 - 9ms/epoch - 5ms/step\n",
            "Epoch 101/9999\n",
            "2/2 - 0s - loss: 0.4163 - categorical_accuracy: 1.0000 - 9ms/epoch - 4ms/step\n",
            "Epoch 102/9999\n",
            "2/2 - 0s - loss: 0.4085 - categorical_accuracy: 1.0000 - 7ms/epoch - 4ms/step\n",
            "Epoch 103/9999\n",
            "2/2 - 0s - loss: 0.4008 - categorical_accuracy: 1.0000 - 8ms/epoch - 4ms/step\n",
            "Epoch 104/9999\n",
            "2/2 - 0s - loss: 0.3930 - categorical_accuracy: 1.0000 - 10ms/epoch - 5ms/step\n",
            "Epoch 105/9999\n",
            "2/2 - 0s - loss: 0.3852 - categorical_accuracy: 1.0000 - 9ms/epoch - 5ms/step\n",
            "Epoch 106/9999\n",
            "2/2 - 0s - loss: 0.3786 - categorical_accuracy: 1.0000 - 8ms/epoch - 4ms/step\n",
            "Epoch 107/9999\n",
            "2/2 - 0s - loss: 0.3713 - categorical_accuracy: 1.0000 - 8ms/epoch - 4ms/step\n",
            "Epoch 108/9999\n",
            "2/2 - 0s - loss: 0.3650 - categorical_accuracy: 1.0000 - 11ms/epoch - 6ms/step\n",
            "Epoch 109/9999\n",
            "2/2 - 0s - loss: 0.3581 - categorical_accuracy: 1.0000 - 9ms/epoch - 4ms/step\n",
            "Epoch 110/9999\n",
            "2/2 - 0s - loss: 0.3520 - categorical_accuracy: 1.0000 - 8ms/epoch - 4ms/step\n",
            "Epoch 111/9999\n",
            "2/2 - 0s - loss: 0.3451 - categorical_accuracy: 1.0000 - 9ms/epoch - 4ms/step\n",
            "Epoch 112/9999\n",
            "2/2 - 0s - loss: 0.3389 - categorical_accuracy: 1.0000 - 10ms/epoch - 5ms/step\n",
            "Epoch 113/9999\n",
            "2/2 - 0s - loss: 0.3326 - categorical_accuracy: 1.0000 - 9ms/epoch - 4ms/step\n",
            "Epoch 114/9999\n",
            "2/2 - 0s - loss: 0.3277 - categorical_accuracy: 1.0000 - 8ms/epoch - 4ms/step\n",
            "Epoch 115/9999\n",
            "2/2 - 0s - loss: 0.3214 - categorical_accuracy: 1.0000 - 12ms/epoch - 6ms/step\n",
            "Epoch 116/9999\n",
            "2/2 - 0s - loss: 0.3160 - categorical_accuracy: 1.0000 - 8ms/epoch - 4ms/step\n",
            "Epoch 117/9999\n",
            "2/2 - 0s - loss: 0.3102 - categorical_accuracy: 1.0000 - 7ms/epoch - 4ms/step\n",
            "Epoch 118/9999\n",
            "2/2 - 0s - loss: 0.3054 - categorical_accuracy: 1.0000 - 7ms/epoch - 4ms/step\n",
            "Epoch 119/9999\n",
            "2/2 - 0s - loss: 0.3004 - categorical_accuracy: 1.0000 - 7ms/epoch - 4ms/step\n",
            "Epoch 120/9999\n",
            "2/2 - 0s - loss: 0.2954 - categorical_accuracy: 1.0000 - 7ms/epoch - 3ms/step\n",
            "Epoch 121/9999\n",
            "2/2 - 0s - loss: 0.2909 - categorical_accuracy: 1.0000 - 8ms/epoch - 4ms/step\n",
            "Epoch 122/9999\n",
            "2/2 - 0s - loss: 0.2859 - categorical_accuracy: 1.0000 - 7ms/epoch - 4ms/step\n",
            "Epoch 123/9999\n",
            "2/2 - 0s - loss: 0.2805 - categorical_accuracy: 1.0000 - 10ms/epoch - 5ms/step\n",
            "Epoch 124/9999\n",
            "2/2 - 0s - loss: 0.2761 - categorical_accuracy: 1.0000 - 8ms/epoch - 4ms/step\n",
            "Epoch 125/9999\n",
            "2/2 - 0s - loss: 0.2713 - categorical_accuracy: 1.0000 - 9ms/epoch - 5ms/step\n",
            "Epoch 126/9999\n",
            "2/2 - 0s - loss: 0.2669 - categorical_accuracy: 1.0000 - 8ms/epoch - 4ms/step\n",
            "Epoch 127/9999\n",
            "2/2 - 0s - loss: 0.2628 - categorical_accuracy: 1.0000 - 10ms/epoch - 5ms/step\n",
            "Epoch 128/9999\n",
            "2/2 - 0s - loss: 0.2585 - categorical_accuracy: 1.0000 - 10ms/epoch - 5ms/step\n",
            "Epoch 129/9999\n",
            "2/2 - 0s - loss: 0.2545 - categorical_accuracy: 1.0000 - 9ms/epoch - 5ms/step\n",
            "Epoch 130/9999\n",
            "2/2 - 0s - loss: 0.2505 - categorical_accuracy: 1.0000 - 11ms/epoch - 5ms/step\n",
            "Epoch 131/9999\n",
            "2/2 - 0s - loss: 0.2467 - categorical_accuracy: 1.0000 - 9ms/epoch - 5ms/step\n",
            "Epoch 132/9999\n",
            "2/2 - 0s - loss: 0.2429 - categorical_accuracy: 1.0000 - 7ms/epoch - 4ms/step\n",
            "Epoch 133/9999\n",
            "2/2 - 0s - loss: 0.2390 - categorical_accuracy: 1.0000 - 11ms/epoch - 6ms/step\n",
            "Epoch 134/9999\n",
            "2/2 - 0s - loss: 0.2350 - categorical_accuracy: 1.0000 - 11ms/epoch - 5ms/step\n",
            "Epoch 135/9999\n",
            "2/2 - 0s - loss: 0.2321 - categorical_accuracy: 1.0000 - 8ms/epoch - 4ms/step\n",
            "Epoch 136/9999\n",
            "2/2 - 0s - loss: 0.2280 - categorical_accuracy: 1.0000 - 8ms/epoch - 4ms/step\n"
          ]
        },
        {
          "output_type": "execute_result",
          "data": {
            "text/plain": [
              "<keras.callbacks.History at 0x7f4b8907b090>"
            ]
          },
          "metadata": {},
          "execution_count": 10
        }
      ],
      "source": [
        "callback = tf.keras.callbacks.EarlyStopping(monitor=\"categorical_accuracy\", patience=50, restore_best_weights=False)\n",
        "model.fit(x=TRAINING_SET_2D, y=unicode_cat_train, epochs=9999, verbose=2, callbacks=[callback])"
      ]
    },
    {
      "cell_type": "markdown",
      "metadata": {
        "id": "nO1B3uswgWya"
      },
      "source": [
        "# 5. evaluate the model on TEST_SET. What accuracy do you obtain? If the accuracy is less than 100%, which test images are misclassified? (You may wish to use the show(image) function you defined in the previous project.)"
      ]
    },
    {
      "cell_type": "code",
      "execution_count": null,
      "metadata": {
        "id": "7ATf3Nujn4nz",
        "colab": {
          "base_uri": "https://localhost:8080/"
        },
        "outputId": "74df39bc-e25d-4936-bf35-2ea8356b96ad"
      },
      "outputs": [
        {
          "output_type": "stream",
          "name": "stdout",
          "text": [
            "1/1 [==============================] - 0s 166ms/step - loss: 2.0935 - categorical_accuracy: 0.3462\n"
          ]
        },
        {
          "output_type": "execute_result",
          "data": {
            "text/plain": [
              "[2.0935325622558594, 0.3461538553237915]"
            ]
          },
          "metadata": {},
          "execution_count": 11
        }
      ],
      "source": [
        "model.evaluate(x=TEST_SET_2D, y=unicode_cat_test, verbose=1)\n"
      ]
    },
    {
      "cell_type": "code",
      "execution_count": null,
      "metadata": {
        "id": "WzuPg2m4q5fW"
      },
      "outputs": [],
      "source": [
        "# predicted = model.predict(TEST_SET_2D)  \n",
        "# result = np.absolute(unicode_cat_test-predicted)\n",
        "# print(predicted)"
      ]
    },
    {
      "cell_type": "code",
      "execution_count": null,
      "metadata": {
        "id": "NGiUIDJTz3v0"
      },
      "outputs": [],
      "source": [
        "# Print out the actual and predicted letters from TEST_SET_2D.\n",
        "# result_list = []\n",
        "# for num in range(len(predicted)):\n",
        "#     max_val = 0\n",
        "#     actual = chr(num+ord('A'))\n",
        "#     max_val = predicted[num].argmax() # Return the index that contains the largest value.\n",
        "#     predict = chr(int(max_val)+ord('A'))\n",
        "#     result_list.append([actual, predict])\n",
        "# result_list"
      ]
    },
    {
      "cell_type": "code",
      "execution_count": null,
      "metadata": {
        "id": "-hxWTm_Qz5bE"
      },
      "outputs": [],
      "source": [
        "# Verify the accuracy obtained for evaluate().\n",
        "# list_misclassified = []\n",
        "# num_total, num_correct = 26, 26\n",
        "# for i in range(len(result_list)):\n",
        "#     if result_list[i][0] != result_list[i][1]:\n",
        "#         num_correct -= 1\n",
        "#         list_misclassified.append([result_list[i][0], result_list[i][1]])\n",
        "# print(\"Number of images correctly classified: {}%\".format((num_correct/num_total)*100))\n",
        "# if len(list_misclassified) == 0:\n",
        "#     print(\"All test images are classified correctly.\")\n",
        "# else:\n",
        "#     print(\"Here are the list of test images that are misclassified and how they appear:\")\n",
        "#     print(\"Actual    Predicted\")\n",
        "#     for i in range(len(list_misclassified)):\n",
        "#         print(\"{}         {}\".format(list_misclassified[i][0], list_misclassified[i][1]))"
      ]
    },
    {
      "cell_type": "code",
      "execution_count": null,
      "metadata": {
        "id": "N-pRa2Pq4lg1"
      },
      "outputs": [],
      "source": [
        "# Predict how the message will appear via Keras Sequential model.\n",
        "predicted_message = model.predict(MESSAGE_2D)\n",
        "predicted_message"
      ]
    },
    {
      "cell_type": "code",
      "execution_count": null,
      "metadata": {
        "id": "O4oXJz4r4mp5",
        "colab": {
          "base_uri": "https://localhost:8080/"
        },
        "outputId": "6e788b17-1730-4a4b-e264-6c1182d2e4d0"
      },
      "outputs": [
        {
          "output_type": "stream",
          "name": "stdout",
          "text": [
            "JNEFIVEBOYINGWIYAPDSJUMPQUICKLY\n"
          ]
        }
      ],
      "source": [
        "message_list = \"\"\n",
        "for num in range(len(predicted_message)):\n",
        "    max_val = 0\n",
        "    max_val = predicted_message[num].argmax() # Return the index that contains the largest value.\n",
        "    predict = chr(int(max_val)+ord('A'))\n",
        "    message_list += predict\n",
        "print(message_list)"
      ]
    },
    {
      "cell_type": "code",
      "execution_count": null,
      "metadata": {
        "id": "8YdutdB8SX6T",
        "colab": {
          "base_uri": "https://localhost:8080/"
        },
        "outputId": "158f2ab0-4919-4668-f8ed-60a72983eb3f"
      },
      "outputs": [
        {
          "output_type": "stream",
          "name": "stdout",
          "text": [
            "Accuracy between predicted and actual message: 83.87096774193549%\n",
            "Here is the list of letters that are a mismatch between predicted and actual message:\n",
            "Actual    Predicted\n",
            "T         J\n",
            "H         N\n",
            "X         Y\n",
            "Z         Y\n",
            "R         P\n"
          ]
        }
      ],
      "source": [
        "actual_message = \"THEFIVEBOXINGWIZARDSJUMPQUICKLY\"\n",
        "list_mismatch = []\n",
        "num_total, num_correct = len(actual_message), len(message_list)\n",
        "for i in range(len(actual_message)):\n",
        "    if message_list[i] != actual_message[i]:\n",
        "        num_correct -= 1\n",
        "        list_mismatch.append([actual_message[i], message_list[i]])\n",
        "print(\"Accuracy between predicted and actual message: {}%\".format((num_correct/num_total)*100))\n",
        "if len(list_mismatch) == 0:\n",
        "    print(\"The message appears to be decoded correctly.\")\n",
        "else:\n",
        "    print(\"Here is the list of letters that are a mismatch between predicted and actual message:\")\n",
        "    print(\"Actual    Predicted\")\n",
        "    for i in range(len(list_mismatch)):\n",
        "        print(\"{}         {}\".format(list_mismatch[i][0], list_mismatch[i][1]))"
      ]
    },
    {
      "cell_type": "markdown",
      "metadata": {
        "id": "QGOHSW6sgZlw"
      },
      "source": [
        "# 6. How does this model compare with the performance of your perceptron models in Project 1?"
      ]
    },
    {
      "cell_type": "markdown",
      "metadata": {
        "id": "afSkHPK3on6v"
      },
      "source": [
        "## A: The prediction accuracy of the Keras Sequential model for MESSAGE is 83.87%, which is higher than the 76-77% prediction accuracy for MESSAGE of the perceptron models in Project 1. This difference is most likely due to the hidden layers in the Keras Sequential model."
      ]
    },
    {
      "cell_type": "markdown",
      "metadata": {
        "id": "EThYHOgrgbVF"
      },
      "source": [
        "# 7. All of the letters in MESSAGE were likely not decoded correctly, so let’s try to improve the performance of the model by adding additional hidden layers. Add two additional hidden layers of the same size as your original hidden layer, then repeat experiments (4) and (5)."
      ]
    },
    {
      "cell_type": "code",
      "execution_count": null,
      "metadata": {
        "id": "_CeNdBjX4E2f",
        "colab": {
          "base_uri": "https://localhost:8080/"
        },
        "outputId": "7b0f22cf-fcc0-44ae-c4ad-525203e0bf8e"
      },
      "outputs": [
        {
          "output_type": "stream",
          "name": "stdout",
          "text": [
            "(31, 256)\n",
            "  ##############\n",
            "  ############# \n",
            "  ##    ##    ##\n",
            "  ##    ##    ##\n",
            "        ##      \n",
            "        ##      \n",
            "        ##      \n",
            "        ##      \n",
            "        ##      \n",
            "   #    ##    # \n",
            "        ##      \n",
            "        ##      \n",
            "      ######    \n",
            "      ######    \n",
            "  #             \n",
            "                \n",
            "[[0, 0, 1, 1, 1, 1, 1, 1, 1, 1, 1, 1, 1, 1, 1, 1, 0, 0, 1, 1, 1, 1, 1, 1, 1, 1, 1, 1, 1, 1, 1, 0, 0, 0, 1, 1, 0, 0, 0, 0, 1, 1, 0, 0, 0, 0, 1, 1, 0, 0, 1, 1, 0, 0, 0, 0, 1, 1, 0, 0, 0, 0, 1, 1, 0, 0, 0, 0, 0, 0, 0, 0, 1, 1, 0, 0, 0, 0, 0, 0, 0, 0, 0, 0, 0, 0, 0, 0, 1, 1, 0, 0, 0, 0, 0, 0, 0, 0, 0, 0, 0, 0, 0, 0, 1, 1, 0, 0, 0, 0, 0, 0, 0, 0, 0, 0, 0, 0, 0, 0, 1, 1, 0, 0, 0, 0, 0, 0, 0, 0, 0, 0, 0, 0, 0, 0, 1, 1, 0, 0, 0, 0, 0, 0, 0, 0, 0, 1, 0, 0, 0, 0, 1, 1, 0, 0, 0, 0, 1, 0, 0, 0, 0, 0, 0, 0, 0, 0, 1, 1, 0, 0, 0, 0, 0, 0, 0, 0, 0, 0, 0, 0, 0, 0, 1, 1, 0, 0, 0, 0, 0, 0, 0, 0, 0, 0, 0, 0, 1, 1, 1, 1, 1, 1, 0, 0, 0, 0, 0, 0, 0, 0, 0, 0, 1, 1, 1, 1, 1, 1, 0, 0, 0, 0, 0, 0, 1, 0, 0, 0, 0, 0, 0, 0, 0, 0, 0, 0, 0, 0, 0, 0, 0, 0, 0, 0, 0, 0, 0, 0, 0, 0, 0, 0, 0, 0], [0, 0, 1, 1, 0, 0, 1, 0, 0, 0, 0, 0, 1, 1, 0, 0, 0, 0, 1, 1, 0, 0, 0, 0, 0, 0, 0, 0, 1, 1, 0, 0, 0, 0, 1, 1, 0, 0, 0, 0, 0, 0, 0, 0, 1, 1, 0, 0, 0, 0, 1, 1, 0, 0, 0, 0, 0, 0, 0, 0, 1, 1, 0, 0, 0, 0, 1, 1, 0, 0, 0, 0, 0, 0, 0, 0, 1, 1, 0, 0, 0, 0, 1, 1, 0, 0, 0, 0, 0, 0, 0, 0, 1, 1, 0, 0, 0, 0, 1, 1, 1, 1, 1, 1, 1, 1, 1, 1, 1, 1, 0, 0, 0, 0, 1, 1, 1, 1, 1, 1, 1, 1, 1, 1, 1, 1, 0, 0, 0, 0, 1, 1, 0, 0, 0, 0, 0, 0, 0, 0, 1, 1, 0, 0, 0, 0, 1, 1, 0, 0, 0, 0, 0, 0, 0, 0, 1, 1, 0, 0, 1, 0, 1, 1, 0, 0, 0, 0, 0, 0, 0, 0, 1, 1, 0, 0, 0, 0, 1, 1, 0, 0, 0, 0, 0, 0, 0, 0, 1, 1, 0, 0, 0, 0, 1, 1, 0, 0, 0, 0, 0, 0, 0, 0, 1, 1, 0, 0, 0, 0, 1, 0, 0, 0, 0, 0, 0, 0, 0, 0, 0, 1, 0, 0, 0, 0, 0, 0, 0, 0, 0, 0, 0, 0, 0, 0, 0, 0, 0, 0, 0, 0, 0, 0, 0, 0, 0, 0, 0, 0, 0, 0, 0, 0, 0, 0], [1, 1, 1, 1, 1, 1, 1, 1, 1, 1, 1, 1, 1, 1, 0, 0, 0, 0, 1, 0, 0, 1, 0, 0, 0, 0, 1, 1, 1, 1, 0, 0, 0, 0, 1, 1, 1, 1, 0, 0, 0, 0, 0, 0, 1, 1, 0, 0, 0, 0, 1, 1, 1, 1, 0, 0, 1, 1, 0, 0, 0, 0, 0, 0, 0, 0, 1, 1, 1, 1, 1, 1, 1, 1, 0, 0, 0, 0, 0, 0, 0, 0, 1, 1, 1, 1, 0, 0, 1, 1, 0, 0, 0, 0, 0, 0, 0, 0, 1, 1, 1, 1, 0, 0, 0, 0, 0, 0, 0, 0, 0, 0, 0, 0, 1, 1, 1, 1, 0, 0, 0, 0, 0, 0, 1, 1, 0, 0, 0, 0, 1, 1, 1, 1, 0, 1, 0, 0, 1, 1, 1, 1, 0, 0, 1, 1, 1, 1, 1, 1, 1, 1, 1, 1, 1, 1, 1, 1, 0, 0, 0, 0, 0, 0, 0, 0, 0, 0, 0, 0, 0, 0, 0, 0, 0, 0, 0, 0, 0, 0, 0, 0, 0, 0, 0, 0, 0, 0, 0, 0, 0, 0, 0, 0, 0, 0, 0, 0, 0, 0, 0, 0, 0, 0, 0, 0, 0, 0, 0, 0, 0, 0, 0, 0, 0, 0, 0, 0, 0, 0, 0, 0, 0, 0, 0, 0, 0, 0, 0, 0, 0, 0, 0, 1, 0, 0, 0, 0, 0, 0, 0, 0, 0, 0, 0, 0, 0, 0, 0, 0, 0, 0, 0, 0, 0, 0], [1, 1, 1, 1, 1, 1, 1, 1, 1, 1, 1, 1, 1, 1, 0, 0, 0, 0, 1, 1, 1, 1, 0, 0, 0, 0, 1, 1, 1, 1, 0, 0, 0, 0, 0, 1, 1, 1, 0, 0, 0, 0, 0, 0, 1, 1, 0, 0, 0, 0, 1, 1, 1, 1, 0, 0, 1, 1, 0, 0, 0, 0, 0, 0, 0, 0, 1, 1, 1, 1, 1, 1, 1, 1, 0, 0, 0, 0, 0, 0, 0, 0, 1, 1, 1, 1, 0, 0, 1, 1, 0, 0, 0, 0, 0, 0, 0, 0, 1, 1, 1, 1, 0, 0, 0, 0, 0, 0, 0, 0, 0, 0, 0, 0, 1, 1, 1, 1, 0, 0, 0, 0, 0, 0, 0, 0, 0, 0, 0, 0, 1, 1, 1, 1, 0, 0, 0, 0, 0, 0, 0, 0, 0, 0, 1, 1, 1, 0, 1, 1, 1, 1, 0, 0, 0, 0, 0, 0, 0, 0, 0, 0, 0, 0, 0, 0, 0, 0, 0, 0, 0, 0, 0, 0, 0, 0, 0, 0, 0, 0, 0, 0, 0, 0, 0, 0, 0, 0, 0, 0, 0, 0, 0, 0, 0, 0, 0, 0, 0, 0, 0, 0, 0, 0, 0, 0, 0, 1, 0, 0, 0, 0, 0, 1, 0, 0, 0, 0, 0, 0, 0, 0, 0, 0, 0, 0, 0, 0, 0, 0, 0, 0, 0, 0, 0, 0, 0, 0, 0, 0, 0, 0, 0, 0, 0, 0, 0, 0, 0, 0, 0, 0, 0, 0, 0, 0], [0, 0, 0, 0, 1, 1, 1, 0, 1, 1, 1, 1, 0, 0, 0, 0, 0, 0, 0, 0, 0, 0, 1, 1, 1, 1, 1, 0, 0, 0, 0, 0, 0, 0, 0, 0, 0, 0, 1, 1, 1, 1, 0, 0, 0, 0, 0, 0, 0, 0, 0, 0, 0, 0, 1, 1, 1, 1, 0, 0, 0, 0, 0, 0, 0, 0, 0, 0, 0, 0, 1, 1, 1, 1, 0, 0, 0, 0, 0, 0, 0, 0, 0, 0, 0, 1, 1, 1, 1, 1, 0, 0, 0, 0, 0, 0, 0, 0, 0, 0, 0, 0, 1, 1, 1, 1, 0, 0, 0, 0, 0, 0, 0, 0, 0, 0, 0, 0, 1, 1, 1, 1, 0, 0, 0, 0, 0, 0, 0, 0, 0, 0, 0, 0, 1, 1, 1, 1, 0, 0, 0, 0, 0, 0, 0, 0, 0, 0, 1, 1, 1, 1, 1, 1, 1, 1, 0, 0, 0, 0, 0, 0, 0, 0, 0, 0, 0, 0, 0, 0, 0, 0, 0, 0, 0, 0, 0, 0, 0, 0, 0, 0, 0, 0, 0, 0, 0, 0, 0, 0, 0, 0, 0, 0, 0, 0, 0, 0, 0, 0, 0, 0, 0, 0, 0, 0, 0, 0, 0, 0, 0, 0, 0, 0, 0, 0, 0, 0, 0, 0, 0, 0, 0, 0, 0, 0, 1, 0, 0, 0, 0, 0, 0, 0, 0, 0, 0, 0, 0, 0, 0, 0, 0, 0, 0, 0, 0, 0, 0, 0, 0, 0, 0, 0, 0, 0], [1, 1, 1, 1, 0, 0, 0, 0, 1, 1, 1, 1, 0, 0, 0, 0, 1, 1, 1, 1, 0, 0, 0, 0, 1, 1, 1, 1, 0, 0, 0, 0, 1, 1, 1, 0, 0, 0, 0, 0, 1, 1, 1, 1, 0, 0, 0, 0, 1, 1, 1, 1, 0, 0, 0, 0, 1, 1, 0, 1, 0, 0, 0, 0, 1, 1, 1, 1, 0, 0, 0, 0, 1, 1, 1, 1, 0, 0, 0, 0, 1, 1, 1, 1, 0, 0, 0, 0, 1, 1, 1, 1, 0, 0, 0, 0, 1, 1, 1, 1, 0, 0, 0, 0, 1, 1, 1, 1, 0, 0, 0, 0, 1, 1, 1, 1, 0, 0, 0, 0, 1, 1, 1, 1, 0, 0, 0, 0, 1, 1, 1, 1, 0, 0, 0, 0, 1, 1, 1, 1, 0, 0, 0, 0, 1, 1, 1, 1, 0, 0, 0, 0, 1, 1, 1, 1, 0, 0, 0, 0, 0, 0, 1, 1, 1, 1, 1, 1, 1, 1, 0, 0, 0, 0, 0, 0, 0, 0, 1, 1, 1, 1, 1, 1, 1, 1, 0, 0, 0, 0, 0, 0, 0, 0, 0, 0, 1, 1, 1, 1, 0, 0, 0, 0, 0, 0, 0, 0, 0, 0, 0, 0, 1, 1, 1, 0, 0, 0, 0, 0, 0, 0, 0, 0, 0, 0, 0, 0, 0, 0, 0, 0, 0, 0, 0, 0, 0, 0, 0, 0, 0, 0, 0, 0, 0, 0, 0, 1, 0, 0, 0, 0, 0, 0, 0, 0], [0, 0, 1, 1, 1, 1, 1, 1, 1, 1, 1, 1, 1, 1, 0, 0, 0, 0, 1, 1, 1, 1, 1, 1, 1, 1, 1, 1, 1, 1, 0, 0, 0, 0, 0, 0, 1, 1, 0, 0, 0, 0, 0, 0, 1, 1, 0, 0, 0, 0, 0, 0, 1, 1, 1, 0, 0, 0, 0, 0, 1, 1, 0, 0, 0, 0, 0, 0, 1, 1, 0, 0, 1, 1, 0, 0, 0, 0, 0, 0, 0, 0, 0, 0, 1, 1, 0, 0, 1, 1, 0, 0, 0, 0, 0, 0, 0, 0, 0, 0, 1, 1, 1, 1, 1, 1, 0, 0, 0, 0, 0, 0, 0, 0, 0, 0, 1, 1, 1, 1, 1, 1, 0, 0, 0, 0, 0, 0, 0, 0, 0, 0, 1, 1, 0, 0, 1, 1, 0, 0, 0, 1, 0, 0, 0, 0, 0, 0, 1, 1, 0, 0, 1, 1, 0, 0, 0, 0, 0, 0, 0, 0, 0, 0, 1, 1, 0, 0, 0, 0, 0, 0, 1, 1, 0, 0, 0, 0, 0, 0, 1, 1, 0, 0, 0, 0, 0, 0, 1, 1, 0, 0, 0, 0, 1, 1, 1, 1, 1, 0, 1, 1, 1, 1, 1, 1, 0, 0, 0, 0, 1, 1, 1, 1, 1, 1, 1, 1, 1, 1, 1, 1, 0, 0, 0, 0, 0, 0, 0, 0, 0, 1, 0, 0, 0, 0, 0, 0, 0, 0, 0, 0, 0, 0, 0, 0, 0, 0, 0, 0, 0, 0, 0, 0, 0, 0], [1, 0, 1, 1, 1, 1, 1, 1, 1, 1, 1, 1, 0, 0, 0, 0, 1, 1, 1, 1, 1, 1, 1, 1, 1, 1, 1, 1, 0, 0, 0, 0, 0, 0, 1, 1, 1, 1, 0, 0, 0, 0, 1, 1, 1, 1, 0, 0, 0, 0, 1, 1, 1, 1, 0, 0, 0, 0, 1, 1, 1, 1, 0, 0, 0, 0, 1, 1, 1, 1, 0, 0, 0, 0, 1, 1, 1, 1, 0, 0, 0, 0, 1, 1, 1, 1, 0, 0, 0, 0, 1, 1, 1, 1, 0, 0, 0, 0, 1, 1, 1, 1, 1, 1, 1, 1, 1, 1, 0, 0, 0, 0, 0, 0, 1, 1, 1, 1, 1, 1, 1, 1, 1, 1, 0, 0, 0, 0, 0, 0, 1, 0, 1, 1, 0, 0, 0, 0, 1, 1, 1, 1, 0, 0, 0, 0, 1, 1, 1, 1, 0, 0, 0, 0, 1, 1, 1, 1, 0, 0, 0, 0, 1, 1, 1, 0, 0, 0, 0, 0, 1, 1, 1, 1, 0, 0, 0, 0, 1, 1, 1, 1, 0, 0, 0, 0, 1, 1, 1, 1, 0, 0, 1, 1, 1, 1, 1, 1, 1, 1, 1, 1, 1, 1, 0, 0, 0, 0, 1, 1, 1, 1, 1, 1, 1, 1, 1, 1, 1, 1, 0, 0, 0, 1, 0, 0, 0, 0, 0, 0, 0, 0, 0, 0, 0, 0, 0, 0, 0, 0, 0, 0, 0, 0, 0, 0, 0, 0, 0, 0, 0, 0, 0, 0, 0, 0], [0, 0, 1, 1, 1, 1, 1, 1, 1, 1, 1, 1, 0, 1, 1, 0, 1, 1, 1, 1, 0, 0, 0, 0, 0, 0, 1, 1, 1, 1, 0, 0, 1, 1, 1, 1, 0, 0, 0, 0, 0, 0, 1, 1, 1, 1, 0, 0, 1, 1, 1, 1, 0, 0, 0, 0, 0, 0, 1, 1, 1, 1, 0, 0, 1, 1, 1, 1, 1, 0, 0, 0, 0, 0, 1, 1, 1, 1, 0, 0, 1, 1, 1, 1, 0, 0, 0, 0, 0, 0, 1, 1, 1, 1, 0, 0, 1, 1, 1, 1, 0, 0, 0, 0, 0, 0, 1, 1, 1, 1, 0, 0, 1, 1, 1, 1, 0, 0, 0, 0, 0, 0, 1, 1, 1, 1, 0, 0, 1, 1, 1, 1, 0, 0, 0, 0, 0, 0, 1, 1, 1, 1, 0, 0, 0, 0, 1, 1, 1, 1, 1, 1, 1, 1, 1, 1, 0, 0, 0, 0, 0, 0, 0, 0, 0, 0, 0, 0, 0, 0, 0, 0, 0, 0, 0, 0, 0, 0, 0, 0, 0, 0, 0, 0, 0, 0, 0, 0, 0, 0, 0, 0, 0, 0, 0, 0, 0, 0, 0, 0, 0, 0, 0, 0, 0, 0, 0, 0, 0, 0, 0, 0, 0, 0, 0, 1, 0, 0, 0, 0, 0, 0, 0, 0, 0, 0, 0, 0, 0, 0, 0, 0, 0, 0, 0, 0, 0, 0, 0, 0, 0, 0, 0, 0, 0, 0, 0, 0, 0, 0, 0, 0, 0, 0, 0, 0], [0, 0, 1, 1, 0, 0, 0, 0, 0, 0, 0, 0, 0, 0, 1, 1, 0, 0, 1, 1, 0, 0, 0, 0, 0, 0, 0, 0, 0, 0, 1, 1, 0, 0, 0, 0, 1, 1, 0, 0, 0, 0, 0, 0, 1, 1, 0, 1, 0, 0, 0, 0, 1, 1, 0, 0, 0, 0, 0, 0, 1, 1, 0, 0, 0, 0, 0, 0, 0, 0, 1, 1, 0, 0, 1, 1, 0, 0, 0, 0, 0, 0, 0, 0, 0, 0, 1, 1, 0, 0, 1, 1, 0, 0, 0, 0, 0, 0, 0, 0, 0, 0, 0, 0, 1, 1, 0, 0, 0, 0, 0, 0, 0, 0, 0, 0, 0, 0, 0, 0, 1, 1, 0, 0, 0, 0, 0, 0, 0, 0, 0, 0, 0, 0, 1, 1, 0, 0, 1, 1, 0, 0, 0, 0, 1, 0, 0, 0, 0, 0, 1, 1, 0, 0, 1, 1, 0, 0, 0, 0, 0, 0, 0, 0, 0, 1, 0, 0, 0, 0, 0, 0, 1, 1, 0, 0, 0, 0, 0, 0, 1, 1, 0, 0, 0, 0, 0, 0, 1, 1, 0, 0, 0, 0, 1, 1, 0, 0, 0, 0, 0, 0, 0, 0, 0, 0, 1, 1, 0, 0, 1, 1, 0, 0, 0, 0, 1, 0, 0, 0, 0, 0, 1, 1, 0, 0, 0, 0, 0, 0, 0, 0, 0, 0, 0, 0, 0, 0, 0, 0, 0, 0, 0, 0, 0, 0, 0, 0, 0, 0, 0, 0, 0, 0, 0, 0], [0, 0, 1, 1, 1, 1, 1, 1, 1, 1, 0, 0, 0, 0, 0, 0, 0, 0, 1, 1, 1, 1, 1, 1, 1, 1, 0, 0, 0, 0, 0, 0, 0, 0, 0, 0, 1, 1, 1, 1, 0, 0, 0, 0, 0, 0, 0, 0, 0, 0, 0, 1, 1, 1, 1, 1, 0, 0, 0, 0, 0, 0, 0, 0, 0, 0, 0, 0, 1, 1, 1, 1, 0, 0, 0, 0, 0, 0, 0, 0, 0, 0, 0, 0, 1, 1, 1, 1, 0, 0, 0, 0, 0, 1, 0, 0, 0, 0, 0, 0, 1, 1, 1, 1, 0, 0, 0, 0, 0, 0, 0, 0, 0, 0, 0, 0, 1, 1, 1, 1, 0, 0, 0, 0, 0, 0, 0, 0, 0, 0, 0, 0, 1, 1, 1, 1, 0, 0, 0, 0, 0, 0, 0, 0, 0, 0, 0, 0, 1, 1, 1, 1, 0, 0, 0, 0, 0, 0, 0, 0, 0, 0, 0, 0, 1, 1, 1, 1, 0, 0, 0, 0, 0, 0, 0, 0, 0, 0, 0, 0, 1, 1, 1, 1, 0, 0, 0, 0, 0, 0, 0, 0, 0, 0, 1, 1, 1, 1, 1, 1, 1, 1, 0, 0, 1, 0, 0, 0, 0, 0, 1, 0, 1, 1, 1, 1, 1, 1, 0, 0, 0, 0, 0, 0, 0, 0, 0, 0, 0, 0, 0, 0, 0, 0, 0, 0, 0, 0, 0, 0, 0, 0, 0, 0, 0, 0, 0, 0, 0, 0, 0, 0, 0, 0, 0, 0], [1, 1, 1, 1, 0, 0, 0, 0, 0, 0, 1, 1, 1, 1, 0, 0, 1, 1, 1, 1, 1, 1, 0, 0, 0, 0, 1, 1, 1, 1, 0, 0, 1, 1, 1, 1, 1, 1, 1, 1, 0, 0, 1, 1, 1, 1, 0, 0, 1, 1, 1, 1, 1, 1, 1, 1, 1, 1, 1, 1, 1, 1, 0, 0, 1, 0, 1, 1, 0, 0, 1, 1, 1, 1, 1, 1, 1, 1, 0, 0, 1, 0, 1, 1, 0, 0, 0, 0, 1, 1, 1, 1, 1, 1, 0, 0, 1, 1, 1, 1, 0, 0, 0, 0, 0, 0, 1, 1, 1, 1, 0, 0, 1, 1, 1, 1, 0, 0, 0, 0, 0, 0, 1, 1, 1, 1, 0, 0, 1, 1, 1, 1, 0, 0, 0, 0, 0, 0, 0, 1, 1, 1, 0, 0, 1, 1, 1, 1, 0, 0, 0, 0, 0, 0, 1, 1, 1, 1, 0, 0, 0, 0, 0, 0, 0, 0, 0, 0, 0, 0, 0, 0, 0, 0, 0, 0, 0, 0, 0, 0, 0, 0, 0, 0, 0, 0, 0, 0, 0, 0, 0, 0, 0, 0, 0, 0, 0, 0, 0, 0, 0, 0, 0, 0, 0, 0, 0, 0, 0, 0, 0, 0, 0, 0, 0, 0, 0, 0, 0, 0, 0, 0, 1, 0, 0, 0, 0, 0, 0, 0, 0, 0, 0, 0, 0, 0, 0, 0, 0, 0, 0, 0, 0, 0, 0, 0, 0, 0, 0, 0, 0, 0, 0, 0, 0, 0], [0, 0, 0, 0, 1, 1, 1, 1, 1, 1, 1, 1, 0, 0, 0, 0, 0, 0, 0, 0, 1, 1, 1, 1, 1, 1, 1, 1, 0, 0, 0, 0, 0, 0, 1, 1, 0, 1, 0, 0, 0, 0, 1, 1, 1, 1, 0, 0, 0, 0, 1, 1, 1, 1, 0, 0, 0, 0, 1, 1, 1, 1, 0, 0, 1, 1, 1, 0, 0, 0, 0, 0, 0, 0, 0, 0, 0, 0, 0, 0, 1, 1, 1, 1, 0, 0, 0, 0, 0, 0, 0, 0, 0, 0, 0, 0, 1, 1, 1, 0, 0, 0, 0, 0, 0, 0, 0, 0, 0, 0, 0, 0, 1, 1, 1, 1, 0, 0, 0, 0, 0, 0, 0, 0, 0, 0, 0, 0, 1, 1, 1, 1, 0, 0, 0, 0, 1, 1, 1, 1, 1, 1, 0, 0, 1, 1, 1, 1, 0, 0, 0, 0, 1, 1, 1, 1, 1, 1, 0, 0, 0, 0, 1, 1, 1, 1, 0, 0, 0, 0, 1, 1, 1, 1, 0, 0, 0, 0, 1, 1, 1, 1, 0, 0, 0, 0, 1, 1, 1, 1, 0, 0, 0, 0, 0, 0, 1, 1, 1, 1, 1, 1, 1, 1, 1, 1, 0, 0, 0, 0, 0, 0, 1, 1, 1, 1, 1, 1, 1, 1, 1, 1, 0, 0, 0, 0, 0, 0, 0, 0, 0, 0, 0, 0, 0, 0, 0, 0, 1, 0, 0, 0, 0, 0, 0, 0, 0, 0, 0, 0, 0, 0, 0, 0, 0, 0], [1, 1, 1, 1, 0, 0, 0, 0, 0, 0, 1, 1, 1, 1, 0, 0, 1, 1, 1, 1, 0, 0, 0, 0, 0, 0, 1, 1, 1, 1, 0, 1, 1, 1, 1, 1, 0, 0, 0, 0, 0, 0, 1, 1, 1, 1, 0, 0, 1, 1, 0, 1, 0, 0, 0, 0, 0, 0, 1, 1, 1, 1, 0, 0, 1, 1, 1, 1, 0, 0, 0, 0, 0, 0, 1, 1, 1, 1, 0, 0, 1, 1, 1, 1, 1, 0, 0, 0, 0, 0, 1, 1, 1, 1, 0, 0, 1, 1, 1, 1, 0, 0, 1, 1, 0, 0, 1, 1, 1, 1, 0, 0, 1, 1, 1, 1, 0, 0, 1, 1, 0, 0, 1, 1, 1, 1, 0, 0, 1, 1, 1, 1, 1, 1, 1, 1, 1, 1, 1, 1, 1, 1, 0, 0, 1, 1, 1, 1, 1, 1, 1, 1, 1, 1, 1, 1, 1, 1, 0, 0, 1, 1, 1, 1, 1, 1, 0, 0, 1, 1, 1, 1, 1, 1, 0, 0, 1, 1, 1, 1, 1, 1, 0, 0, 1, 1, 1, 1, 1, 1, 0, 0, 1, 1, 1, 1, 0, 0, 0, 0, 0, 0, 1, 1, 0, 1, 0, 0, 1, 1, 1, 1, 0, 0, 0, 0, 0, 0, 1, 1, 1, 1, 0, 0, 0, 0, 0, 0, 0, 0, 0, 0, 0, 0, 0, 0, 0, 0, 0, 0, 0, 0, 0, 0, 0, 0, 0, 0, 0, 0, 0, 0, 0, 0, 0, 0], [0, 0, 0, 0, 1, 1, 1, 1, 1, 1, 1, 1, 0, 0, 0, 0, 0, 0, 0, 0, 0, 0, 1, 1, 1, 1, 0, 0, 0, 0, 0, 0, 0, 0, 0, 0, 0, 0, 1, 1, 1, 1, 0, 0, 0, 0, 0, 0, 0, 0, 0, 0, 0, 0, 1, 1, 1, 1, 0, 0, 0, 0, 0, 0, 0, 0, 0, 1, 0, 0, 1, 1, 1, 1, 0, 0, 0, 0, 0, 0, 0, 0, 0, 0, 0, 0, 1, 1, 1, 1, 0, 0, 0, 0, 0, 0, 0, 0, 0, 0, 0, 0, 1, 1, 1, 0, 0, 0, 0, 0, 0, 0, 0, 0, 0, 0, 0, 0, 1, 1, 1, 1, 0, 0, 0, 0, 0, 0, 0, 0, 0, 0, 0, 0, 1, 1, 1, 1, 0, 0, 0, 0, 0, 0, 0, 0, 0, 0, 1, 1, 1, 1, 1, 1, 1, 1, 0, 0, 0, 0, 0, 0, 0, 0, 0, 0, 0, 0, 0, 0, 0, 0, 0, 0, 0, 0, 0, 0, 0, 0, 0, 0, 0, 0, 0, 1, 0, 0, 0, 1, 0, 0, 0, 0, 0, 0, 0, 0, 0, 0, 0, 0, 0, 0, 0, 0, 0, 0, 0, 0, 0, 0, 0, 0, 0, 0, 0, 0, 0, 0, 0, 0, 0, 0, 0, 0, 0, 0, 0, 0, 0, 0, 0, 0, 0, 0, 0, 0, 0, 0, 0, 0, 0, 0, 0, 0, 0, 0, 0, 0, 0, 0, 0, 0, 0, 0], [0, 0, 1, 1, 1, 1, 1, 1, 1, 1, 1, 1, 1, 1, 1, 1, 0, 0, 1, 1, 1, 1, 1, 1, 1, 1, 1, 1, 1, 1, 1, 1, 0, 0, 1, 1, 0, 0, 0, 0, 0, 0, 0, 0, 1, 1, 0, 0, 0, 0, 1, 1, 1, 0, 0, 0, 0, 0, 0, 0, 1, 1, 0, 0, 0, 0, 0, 0, 0, 0, 0, 0, 0, 0, 1, 1, 0, 0, 0, 0, 0, 0, 0, 0, 0, 0, 0, 0, 0, 0, 1, 1, 0, 0, 0, 0, 0, 0, 0, 0, 0, 0, 0, 0, 1, 1, 0, 0, 0, 0, 0, 0, 0, 0, 0, 0, 0, 0, 0, 0, 1, 1, 0, 0, 0, 0, 0, 0, 0, 0, 0, 0, 0, 0, 1, 0, 0, 0, 0, 0, 0, 0, 0, 0, 0, 0, 0, 0, 0, 0, 1, 1, 0, 0, 0, 0, 0, 0, 0, 0, 0, 1, 0, 0, 1, 1, 0, 0, 0, 1, 0, 0, 0, 0, 1, 1, 0, 0, 0, 0, 1, 1, 0, 0, 0, 0, 0, 0, 0, 0, 1, 1, 0, 0, 1, 1, 1, 1, 1, 1, 1, 1, 1, 1, 1, 1, 1, 1, 0, 0, 1, 1, 1, 1, 1, 1, 1, 1, 1, 1, 1, 1, 1, 1, 0, 0, 0, 0, 0, 0, 0, 0, 0, 0, 0, 0, 0, 0, 0, 0, 0, 0, 0, 0, 0, 0, 0, 0, 0, 0, 0, 0, 0, 0, 0, 0], [0, 0, 0, 0, 0, 0, 1, 1, 0, 0, 0, 0, 0, 0, 0, 0, 0, 0, 0, 0, 1, 1, 1, 1, 1, 1, 0, 0, 0, 0, 0, 0, 0, 0, 1, 1, 1, 1, 0, 0, 1, 1, 1, 1, 0, 0, 0, 0, 1, 1, 1, 1, 0, 0, 0, 0, 0, 0, 1, 1, 1, 1, 0, 0, 1, 1, 1, 1, 0, 0, 0, 0, 0, 0, 1, 1, 1, 1, 0, 0, 1, 1, 1, 1, 1, 1, 1, 1, 1, 1, 1, 1, 1, 1, 0, 0, 1, 1, 1, 1, 0, 0, 0, 0, 0, 0, 1, 1, 1, 1, 0, 0, 1, 1, 1, 1, 0, 0, 0, 0, 0, 0, 1, 1, 1, 1, 0, 0, 1, 1, 1, 1, 0, 0, 0, 0, 0, 0, 1, 1, 1, 1, 0, 0, 1, 1, 1, 1, 0, 0, 0, 0, 0, 0, 1, 1, 1, 1, 0, 0, 0, 0, 0, 0, 0, 0, 0, 0, 0, 0, 0, 0, 0, 0, 0, 0, 0, 0, 0, 0, 0, 0, 0, 0, 0, 0, 0, 0, 0, 0, 0, 0, 0, 0, 0, 0, 0, 0, 1, 0, 0, 0, 0, 0, 1, 0, 0, 0, 1, 0, 0, 0, 0, 0, 0, 0, 0, 0, 0, 0, 0, 0, 0, 0, 0, 0, 0, 0, 0, 0, 0, 0, 0, 0, 0, 0, 0, 0, 0, 0, 0, 0, 0, 0, 0, 0, 0, 0, 0, 0, 0, 0, 0, 0, 1, 0], [0, 0, 1, 1, 1, 1, 1, 1, 1, 1, 1, 1, 0, 0, 0, 0, 0, 0, 1, 1, 1, 1, 1, 1, 1, 1, 1, 1, 0, 0, 0, 0, 0, 0, 0, 0, 1, 1, 0, 0, 0, 0, 0, 0, 1, 1, 0, 0, 0, 0, 0, 0, 1, 1, 0, 0, 0, 0, 0, 0, 1, 1, 0, 0, 0, 0, 0, 0, 1, 1, 0, 0, 0, 0, 0, 0, 1, 1, 0, 0, 0, 0, 0, 0, 1, 1, 0, 0, 0, 0, 0, 0, 1, 1, 0, 0, 0, 0, 0, 0, 1, 1, 1, 1, 1, 1, 1, 1, 0, 1, 0, 0, 1, 0, 0, 0, 1, 1, 1, 1, 1, 1, 1, 1, 0, 0, 0, 0, 0, 0, 0, 0, 1, 1, 0, 0, 1, 1, 0, 0, 0, 0, 0, 0, 0, 0, 0, 0, 1, 1, 0, 0, 1, 1, 0, 0, 0, 0, 0, 0, 0, 0, 0, 0, 1, 1, 0, 0, 0, 0, 1, 1, 0, 0, 0, 0, 0, 0, 0, 0, 1, 1, 0, 0, 0, 0, 1, 1, 0, 0, 0, 0, 0, 0, 1, 1, 1, 1, 1, 1, 0, 0, 0, 0, 1, 1, 0, 0, 0, 0, 1, 1, 1, 1, 1, 1, 0, 0, 0, 0, 1, 1, 0, 0, 0, 0, 1, 0, 0, 0, 0, 0, 0, 0, 0, 0, 0, 0, 0, 0, 0, 0, 0, 0, 0, 0, 0, 0, 0, 0, 0, 0, 0, 0, 1, 0], [0, 0, 1, 1, 1, 1, 1, 1, 1, 1, 0, 0, 0, 0, 0, 0, 0, 0, 1, 1, 1, 1, 1, 1, 1, 1, 0, 0, 0, 0, 0, 0, 0, 0, 0, 0, 1, 1, 0, 0, 0, 0, 1, 1, 0, 0, 0, 0, 0, 0, 0, 0, 1, 1, 0, 0, 0, 0, 1, 1, 0, 0, 0, 0, 0, 0, 0, 0, 1, 1, 0, 0, 0, 0, 1, 0, 0, 1, 0, 0, 0, 0, 0, 0, 1, 1, 0, 0, 0, 0, 0, 0, 1, 1, 0, 0, 0, 0, 0, 0, 1, 1, 0, 0, 0, 0, 0, 0, 1, 1, 0, 0, 0, 0, 0, 0, 1, 1, 0, 0, 0, 0, 0, 0, 1, 1, 0, 0, 0, 0, 0, 0, 1, 1, 0, 0, 0, 0, 0, 0, 1, 1, 0, 0, 0, 0, 0, 0, 1, 1, 0, 0, 0, 0, 0, 0, 1, 1, 0, 0, 0, 0, 0, 0, 1, 1, 0, 0, 0, 0, 1, 1, 0, 0, 0, 0, 0, 0, 0, 0, 1, 1, 0, 0, 0, 0, 1, 1, 0, 0, 0, 0, 0, 0, 0, 1, 1, 1, 1, 1, 1, 1, 0, 0, 0, 0, 0, 0, 0, 0, 1, 1, 1, 1, 1, 1, 1, 1, 0, 0, 0, 0, 0, 0, 0, 0, 0, 0, 0, 0, 0, 0, 0, 0, 0, 0, 1, 0, 0, 0, 0, 0, 0, 0, 0, 0, 0, 0, 0, 0, 0, 0, 0, 0, 0, 0], [0, 0, 1, 1, 1, 1, 1, 1, 1, 1, 1, 1, 0, 0, 0, 0, 1, 1, 1, 1, 0, 0, 0, 0, 0, 0, 1, 1, 1, 1, 0, 0, 1, 1, 1, 1, 0, 0, 0, 0, 0, 0, 1, 1, 0, 1, 0, 0, 0, 0, 1, 1, 1, 1, 0, 0, 0, 0, 0, 0, 0, 0, 0, 0, 0, 0, 0, 0, 1, 1, 1, 1, 1, 1, 0, 0, 0, 0, 0, 0, 0, 0, 0, 0, 0, 0, 0, 0, 1, 1, 1, 1, 0, 0, 0, 0, 0, 0, 0, 0, 0, 0, 0, 0, 0, 0, 1, 1, 1, 1, 0, 0, 1, 1, 1, 1, 0, 0, 0, 0, 0, 0, 1, 0, 1, 1, 0, 0, 1, 1, 1, 1, 1, 0, 1, 0, 0, 0, 1, 1, 1, 1, 0, 0, 0, 0, 1, 1, 1, 1, 1, 1, 1, 1, 1, 1, 0, 0, 0, 0, 0, 0, 0, 0, 0, 0, 0, 0, 0, 0, 0, 0, 0, 0, 0, 0, 0, 0, 0, 0, 0, 0, 0, 0, 0, 0, 0, 0, 0, 0, 0, 0, 0, 0, 0, 0, 0, 0, 0, 0, 0, 0, 0, 0, 0, 0, 0, 0, 0, 0, 0, 0, 0, 0, 0, 0, 0, 0, 0, 0, 0, 0, 0, 0, 0, 0, 0, 0, 0, 0, 0, 0, 0, 0, 0, 0, 0, 0, 0, 0, 0, 0, 0, 0, 0, 0, 0, 0, 0, 0, 0, 0, 0, 0, 0, 0], [0, 0, 0, 0, 0, 0, 1, 1, 1, 1, 1, 1, 1, 1, 0, 0, 0, 0, 0, 0, 0, 0, 1, 1, 1, 1, 1, 1, 1, 1, 0, 0, 1, 0, 0, 0, 0, 0, 0, 0, 1, 1, 1, 1, 0, 0, 0, 0, 0, 0, 0, 0, 0, 0, 0, 0, 1, 1, 1, 1, 0, 0, 0, 0, 0, 0, 0, 0, 0, 0, 0, 0, 1, 1, 1, 1, 0, 0, 0, 0, 0, 0, 0, 0, 0, 0, 0, 0, 1, 1, 1, 1, 0, 0, 1, 0, 0, 0, 0, 0, 0, 0, 0, 0, 1, 1, 1, 1, 0, 0, 0, 0, 0, 0, 0, 0, 0, 0, 0, 0, 1, 1, 1, 1, 0, 0, 0, 0, 1, 1, 1, 1, 0, 0, 0, 0, 1, 1, 1, 1, 0, 0, 0, 0, 1, 1, 0, 1, 0, 1, 0, 0, 1, 1, 1, 1, 0, 0, 0, 0, 1, 1, 1, 1, 0, 0, 0, 0, 1, 1, 1, 1, 0, 0, 0, 0, 1, 1, 1, 1, 0, 0, 0, 0, 1, 1, 1, 1, 0, 0, 0, 0, 0, 0, 1, 1, 1, 1, 1, 1, 1, 1, 0, 0, 0, 0, 0, 0, 0, 0, 1, 1, 1, 1, 1, 1, 1, 1, 0, 0, 0, 0, 0, 0, 0, 0, 0, 0, 0, 0, 0, 0, 0, 0, 0, 0, 0, 0, 0, 0, 0, 0, 0, 0, 0, 0, 0, 0, 0, 0, 0, 0, 0, 0, 0, 0], [1, 1, 1, 1, 0, 0, 0, 0, 1, 1, 1, 1, 0, 0, 0, 0, 1, 1, 1, 1, 0, 0, 0, 0, 1, 1, 1, 1, 0, 0, 0, 0, 1, 1, 1, 1, 0, 0, 0, 0, 1, 1, 1, 1, 0, 0, 0, 0, 1, 1, 1, 1, 0, 0, 0, 0, 1, 1, 1, 1, 0, 0, 0, 0, 1, 1, 1, 1, 0, 0, 0, 0, 1, 1, 1, 1, 0, 0, 0, 0, 1, 1, 1, 1, 0, 0, 0, 0, 1, 1, 1, 1, 0, 0, 0, 0, 1, 1, 1, 1, 1, 0, 0, 0, 1, 1, 1, 0, 0, 0, 0, 0, 1, 1, 1, 1, 0, 0, 0, 0, 1, 1, 1, 1, 0, 0, 0, 0, 1, 1, 1, 1, 0, 0, 0, 0, 1, 1, 1, 1, 0, 0, 0, 0, 1, 1, 1, 1, 0, 0, 1, 0, 1, 1, 1, 1, 0, 0, 0, 0, 1, 1, 1, 1, 0, 0, 0, 0, 1, 1, 1, 1, 0, 0, 0, 0, 1, 1, 1, 1, 0, 0, 0, 0, 1, 1, 1, 1, 0, 0, 0, 0, 1, 1, 1, 1, 1, 1, 1, 1, 1, 1, 1, 1, 0, 0, 0, 0, 1, 1, 1, 1, 1, 1, 1, 1, 1, 1, 1, 1, 0, 0, 0, 0, 0, 0, 0, 0, 0, 0, 0, 0, 0, 1, 0, 0, 0, 0, 0, 0, 0, 0, 0, 0, 0, 0, 0, 0, 0, 0, 0, 0, 0, 0, 0, 0], [1, 1, 1, 1, 0, 0, 0, 0, 1, 0, 1, 1, 1, 1, 0, 0, 1, 1, 1, 1, 0, 0, 0, 0, 0, 0, 1, 1, 1, 1, 0, 0, 1, 1, 1, 1, 1, 1, 0, 0, 1, 1, 1, 1, 1, 1, 0, 0, 1, 1, 1, 1, 1, 1, 0, 0, 1, 1, 1, 1, 1, 1, 0, 0, 1, 1, 1, 1, 1, 1, 1, 1, 1, 1, 1, 1, 1, 1, 1, 0, 1, 1, 1, 1, 1, 1, 1, 1, 1, 1, 1, 1, 1, 1, 0, 0, 1, 1, 1, 1, 1, 1, 1, 1, 1, 1, 1, 1, 1, 1, 0, 0, 1, 1, 1, 1, 1, 1, 1, 1, 1, 1, 1, 1, 1, 1, 0, 0, 1, 1, 1, 1, 0, 0, 1, 1, 0, 0, 1, 1, 1, 1, 0, 1, 1, 1, 1, 1, 0, 0, 1, 1, 0, 0, 1, 1, 1, 1, 0, 0, 1, 0, 1, 1, 0, 0, 0, 0, 0, 0, 1, 1, 1, 1, 0, 0, 1, 1, 1, 1, 0, 0, 0, 0, 0, 0, 1, 1, 1, 1, 0, 0, 1, 1, 1, 1, 0, 0, 0, 0, 0, 0, 1, 1, 1, 1, 0, 0, 1, 1, 1, 1, 0, 0, 0, 0, 0, 0, 1, 1, 1, 1, 0, 0, 0, 0, 0, 0, 0, 0, 0, 0, 0, 0, 0, 0, 0, 0, 0, 0, 0, 0, 0, 0, 0, 0, 0, 0, 0, 0, 0, 0, 0, 0, 0, 0], [1, 1, 1, 1, 1, 1, 1, 1, 1, 1, 1, 1, 0, 1, 0, 0, 0, 0, 1, 1, 1, 1, 0, 0, 0, 0, 1, 1, 0, 1, 0, 0, 0, 0, 1, 1, 1, 1, 0, 0, 0, 0, 1, 1, 1, 1, 0, 0, 0, 0, 1, 1, 1, 1, 0, 0, 0, 0, 1, 1, 1, 1, 0, 0, 0, 0, 1, 1, 1, 1, 1, 1, 1, 1, 1, 1, 0, 0, 0, 0, 0, 0, 1, 1, 1, 1, 1, 0, 0, 0, 0, 0, 0, 0, 0, 0, 0, 0, 1, 1, 1, 1, 0, 0, 0, 0, 0, 0, 0, 0, 0, 0, 0, 0, 1, 1, 1, 1, 0, 0, 0, 0, 0, 0, 0, 0, 0, 0, 0, 0, 1, 1, 1, 1, 0, 0, 0, 0, 0, 0, 0, 0, 0, 0, 1, 1, 1, 1, 1, 1, 1, 1, 0, 0, 0, 0, 0, 0, 0, 0, 0, 0, 0, 0, 0, 0, 0, 0, 0, 0, 0, 0, 0, 0, 0, 0, 0, 0, 0, 0, 0, 0, 0, 0, 0, 0, 0, 0, 0, 0, 0, 0, 0, 0, 0, 0, 0, 0, 0, 0, 0, 0, 0, 0, 0, 0, 0, 1, 0, 0, 0, 0, 0, 0, 0, 0, 0, 0, 0, 0, 0, 0, 0, 0, 0, 0, 0, 0, 0, 0, 0, 0, 0, 0, 0, 0, 0, 0, 0, 0, 0, 0, 0, 0, 0, 0, 0, 0, 0, 0, 0, 0, 0, 0, 0, 0], [0, 0, 1, 1, 1, 1, 1, 1, 1, 1, 1, 1, 0, 0, 0, 0, 1, 1, 1, 1, 0, 0, 0, 0, 0, 0, 1, 1, 1, 1, 0, 0, 1, 1, 1, 1, 0, 0, 0, 0, 0, 0, 1, 1, 1, 1, 0, 0, 1, 1, 1, 1, 0, 0, 0, 0, 0, 0, 1, 1, 1, 1, 0, 0, 1, 1, 1, 1, 0, 0, 0, 0, 0, 0, 1, 1, 0, 1, 1, 0, 1, 1, 1, 1, 0, 0, 0, 0, 0, 0, 1, 1, 1, 1, 0, 0, 1, 1, 1, 1, 0, 0, 0, 0, 0, 0, 1, 1, 1, 0, 0, 0, 1, 1, 1, 1, 0, 0, 1, 1, 0, 0, 1, 1, 1, 1, 0, 0, 1, 1, 1, 1, 0, 0, 1, 1, 1, 1, 1, 1, 1, 1, 0, 0, 0, 0, 1, 1, 1, 1, 1, 1, 1, 1, 1, 1, 0, 0, 1, 0, 0, 0, 0, 0, 0, 0, 0, 0, 1, 1, 1, 1, 0, 0, 0, 0, 0, 0, 0, 0, 0, 0, 0, 0, 1, 1, 1, 1, 1, 1, 0, 0, 0, 0, 0, 0, 0, 0, 0, 0, 0, 0, 0, 0, 0, 0, 0, 0, 0, 0, 0, 0, 0, 0, 0, 0, 0, 0, 0, 0, 0, 0, 0, 0, 0, 0, 0, 0, 0, 0, 0, 0, 0, 0, 0, 0, 0, 0, 0, 0, 0, 0, 0, 0, 0, 0, 0, 0, 0, 0, 0, 0, 0, 0, 0, 0], [1, 1, 1, 1, 0, 0, 0, 0, 0, 0, 1, 1, 1, 1, 0, 0, 1, 1, 1, 1, 0, 0, 1, 0, 0, 0, 1, 1, 1, 1, 0, 0, 1, 1, 1, 1, 0, 0, 0, 0, 0, 0, 1, 1, 1, 1, 0, 0, 1, 1, 1, 1, 0, 0, 0, 0, 0, 0, 1, 1, 1, 1, 0, 0, 1, 1, 1, 1, 0, 0, 0, 0, 0, 0, 1, 1, 1, 1, 0, 0, 1, 1, 1, 1, 0, 0, 0, 0, 0, 0, 1, 1, 1, 1, 0, 0, 1, 1, 1, 1, 0, 0, 0, 0, 0, 0, 1, 1, 1, 1, 0, 0, 1, 1, 1, 1, 0, 0, 0, 0, 0, 0, 1, 1, 1, 1, 0, 0, 1, 1, 1, 1, 0, 0, 0, 0, 0, 0, 1, 1, 1, 1, 0, 0, 0, 0, 1, 1, 1, 1, 1, 1, 1, 1, 1, 1, 0, 0, 0, 0, 0, 0, 0, 0, 0, 0, 0, 0, 0, 0, 0, 0, 0, 0, 0, 0, 0, 0, 0, 0, 0, 0, 0, 0, 0, 0, 0, 1, 0, 0, 0, 0, 0, 0, 0, 0, 0, 0, 0, 0, 0, 0, 0, 0, 0, 0, 0, 0, 0, 0, 0, 0, 0, 0, 0, 0, 0, 0, 0, 0, 0, 0, 0, 0, 0, 0, 0, 0, 0, 0, 0, 0, 0, 0, 1, 0, 0, 0, 0, 0, 0, 0, 0, 0, 0, 0, 0, 1, 0, 0, 0, 0, 0, 0, 0, 0], [0, 0, 1, 1, 1, 1, 1, 1, 1, 1, 0, 0, 0, 0, 0, 0, 0, 0, 1, 1, 1, 1, 1, 1, 1, 1, 0, 0, 0, 0, 0, 0, 0, 0, 0, 0, 1, 1, 1, 1, 0, 0, 0, 0, 0, 0, 0, 0, 0, 0, 0, 0, 1, 1, 1, 1, 0, 0, 0, 0, 0, 0, 0, 0, 0, 0, 0, 0, 1, 1, 1, 1, 0, 0, 0, 0, 0, 0, 0, 0, 0, 0, 0, 0, 1, 1, 1, 1, 0, 0, 0, 0, 0, 0, 0, 0, 0, 0, 0, 0, 1, 1, 1, 1, 0, 0, 0, 0, 0, 0, 0, 1, 0, 0, 0, 0, 1, 1, 1, 1, 0, 0, 0, 0, 0, 0, 1, 0, 0, 0, 0, 0, 1, 1, 1, 1, 0, 0, 0, 0, 0, 0, 0, 0, 0, 0, 0, 0, 1, 1, 1, 1, 0, 0, 0, 0, 0, 0, 0, 0, 0, 0, 0, 0, 1, 1, 1, 1, 0, 0, 0, 0, 0, 1, 0, 0, 0, 0, 0, 0, 1, 1, 1, 1, 0, 0, 0, 0, 0, 0, 0, 0, 0, 0, 1, 1, 1, 1, 1, 1, 1, 1, 0, 0, 0, 0, 0, 0, 0, 0, 1, 1, 1, 1, 1, 1, 1, 1, 0, 0, 0, 0, 0, 0, 0, 0, 0, 0, 0, 0, 0, 0, 0, 0, 0, 0, 0, 0, 0, 0, 0, 0, 0, 0, 0, 0, 0, 0, 0, 0, 0, 0, 0, 0, 1, 0], [0, 0, 0, 0, 1, 1, 0, 1, 1, 1, 1, 1, 0, 0, 1, 0, 0, 0, 1, 1, 1, 1, 0, 0, 0, 0, 1, 1, 1, 1, 1, 0, 1, 1, 1, 1, 0, 0, 0, 0, 0, 0, 0, 0, 1, 1, 0, 0, 1, 1, 1, 1, 0, 0, 0, 0, 0, 0, 0, 0, 0, 0, 0, 0, 1, 1, 1, 1, 0, 0, 0, 0, 0, 0, 0, 0, 0, 0, 0, 0, 1, 1, 1, 1, 0, 0, 0, 0, 0, 0, 0, 0, 0, 0, 0, 0, 1, 1, 1, 1, 0, 0, 0, 0, 0, 0, 0, 0, 0, 0, 0, 0, 1, 1, 1, 1, 0, 0, 0, 0, 0, 0, 0, 0, 1, 1, 0, 0, 0, 0, 1, 1, 1, 1, 0, 0, 0, 0, 1, 1, 1, 1, 0, 0, 0, 0, 0, 0, 1, 1, 1, 1, 1, 1, 1, 1, 0, 0, 0, 0, 0, 0, 0, 0, 0, 0, 0, 0, 0, 0, 0, 0, 0, 0, 0, 0, 0, 0, 0, 0, 0, 0, 0, 0, 0, 0, 0, 0, 0, 0, 0, 0, 0, 0, 0, 0, 0, 0, 0, 0, 0, 0, 0, 0, 0, 0, 0, 0, 0, 0, 0, 0, 0, 0, 0, 0, 0, 0, 0, 0, 0, 0, 0, 0, 0, 0, 0, 0, 0, 0, 0, 0, 0, 0, 0, 0, 0, 0, 0, 0, 0, 0, 0, 0, 0, 0, 0, 0, 0, 0, 0, 0, 0, 0, 0, 1], [1, 1, 1, 1, 1, 1, 0, 0, 0, 0, 1, 1, 1, 1, 0, 0, 0, 0, 1, 1, 1, 1, 0, 0, 0, 0, 1, 1, 1, 1, 0, 0, 0, 0, 1, 1, 1, 1, 0, 0, 0, 1, 1, 1, 1, 1, 0, 0, 0, 0, 1, 1, 1, 1, 0, 0, 1, 1, 1, 1, 0, 0, 0, 0, 0, 0, 1, 1, 1, 1, 1, 1, 1, 1, 0, 0, 0, 0, 0, 0, 0, 0, 1, 1, 1, 1, 1, 1, 1, 1, 0, 0, 0, 0, 0, 0, 0, 0, 1, 1, 1, 1, 0, 1, 1, 0, 1, 1, 0, 0, 0, 0, 0, 0, 1, 1, 1, 1, 0, 0, 0, 0, 1, 1, 1, 1, 0, 0, 0, 0, 1, 1, 1, 1, 0, 0, 0, 0, 1, 1, 1, 1, 0, 0, 1, 1, 1, 1, 1, 1, 0, 0, 0, 0, 1, 1, 1, 1, 0, 0, 0, 0, 0, 0, 0, 0, 0, 0, 0, 0, 0, 0, 0, 1, 0, 0, 0, 0, 0, 0, 0, 0, 0, 0, 0, 0, 0, 0, 0, 0, 0, 0, 0, 0, 0, 0, 0, 0, 0, 0, 0, 0, 0, 0, 0, 0, 0, 0, 0, 0, 0, 0, 0, 0, 0, 0, 0, 0, 0, 0, 0, 0, 0, 0, 0, 0, 0, 0, 0, 0, 0, 0, 0, 0, 0, 0, 0, 0, 0, 0, 0, 0, 0, 0, 0, 0, 0, 0, 0, 0, 0, 0, 0, 0, 0, 0], [1, 1, 1, 1, 1, 1, 1, 1, 0, 0, 0, 0, 0, 0, 0, 0, 1, 1, 1, 1, 1, 1, 1, 1, 0, 0, 0, 0, 0, 0, 0, 0, 0, 0, 1, 1, 1, 1, 0, 0, 0, 0, 0, 0, 0, 0, 0, 0, 0, 0, 1, 1, 1, 1, 0, 0, 0, 0, 0, 0, 0, 0, 0, 0, 0, 0, 1, 1, 1, 1, 0, 0, 0, 0, 0, 0, 0, 0, 0, 0, 0, 0, 1, 1, 1, 1, 0, 0, 0, 0, 0, 0, 0, 0, 0, 0, 0, 0, 1, 1, 1, 1, 0, 0, 0, 0, 0, 0, 0, 0, 0, 0, 0, 0, 1, 1, 1, 1, 0, 0, 0, 0, 0, 0, 0, 0, 0, 0, 0, 0, 1, 1, 1, 1, 0, 0, 0, 0, 0, 0, 1, 1, 0, 1, 0, 0, 1, 1, 1, 0, 0, 1, 0, 0, 0, 0, 1, 1, 0, 0, 0, 0, 0, 1, 1, 1, 0, 0, 0, 0, 1, 1, 1, 1, 0, 0, 0, 0, 1, 1, 1, 1, 0, 0, 0, 0, 1, 1, 1, 1, 0, 0, 1, 1, 1, 1, 1, 1, 1, 1, 1, 1, 1, 1, 1, 1, 0, 0, 1, 1, 1, 1, 1, 1, 1, 1, 1, 1, 1, 1, 1, 1, 0, 0, 0, 0, 0, 0, 0, 0, 0, 0, 0, 0, 0, 0, 0, 0, 0, 0, 0, 0, 0, 0, 0, 0, 0, 0, 0, 0, 0, 0, 0, 0, 0, 0], [0, 0, 1, 1, 1, 1, 0, 0, 0, 0, 1, 1, 1, 1, 0, 0, 0, 0, 1, 1, 1, 1, 0, 0, 0, 0, 1, 1, 1, 1, 0, 0, 0, 0, 1, 1, 1, 1, 0, 0, 0, 0, 1, 1, 1, 1, 0, 0, 0, 0, 1, 1, 1, 1, 0, 0, 0, 0, 1, 1, 1, 1, 0, 0, 0, 0, 0, 0, 1, 1, 1, 0, 1, 1, 1, 1, 0, 0, 0, 0, 0, 0, 0, 0, 0, 0, 1, 1, 1, 1, 0, 0, 0, 0, 0, 0, 0, 0, 0, 0, 0, 0, 1, 1, 1, 1, 0, 0, 0, 0, 0, 0, 0, 0, 0, 0, 0, 0, 1, 1, 1, 1, 0, 0, 0, 0, 0, 0, 0, 0, 0, 0, 0, 0, 1, 0, 1, 1, 0, 0, 0, 0, 0, 0, 0, 0, 0, 0, 1, 1, 1, 1, 1, 1, 1, 1, 0, 0, 0, 0, 0, 0, 0, 0, 0, 0, 0, 0, 0, 0, 1, 0, 0, 0, 0, 0, 0, 0, 0, 0, 0, 0, 0, 0, 0, 0, 0, 0, 0, 0, 0, 0, 0, 1, 0, 0, 0, 0, 0, 0, 0, 0, 0, 0, 0, 0, 0, 0, 0, 0, 0, 0, 0, 0, 0, 0, 0, 0, 0, 0, 0, 0, 0, 0, 0, 0, 0, 0, 0, 0, 0, 0, 0, 0, 0, 0, 0, 0, 0, 0, 0, 0, 0, 0, 0, 0, 0, 0, 0, 0, 0, 0, 0, 0, 0, 0]]\n"
          ]
        }
      ],
      "source": [
        "print(MESSAGE_2D.shape)\n",
        "show(MESSAGE_2D[0])\n",
        "print(MESSAGE)\n",
        "message_list=['']"
      ]
    },
    {
      "cell_type": "code",
      "execution_count": null,
      "metadata": {
        "id": "ATyBdSQfqf5g",
        "colab": {
          "base_uri": "https://localhost:8080/"
        },
        "outputId": "3cc6ba30-f618-4c9f-ac0b-4d9984eb5060"
      },
      "outputs": [
        {
          "output_type": "stream",
          "name": "stdout",
          "text": [
            "Model: \"sequential_1\"\n",
            "_________________________________________________________________\n",
            " Layer (type)                Output Shape              Param #   \n",
            "=================================================================\n",
            " Hidden_layer1 (Dense)       (None, 32)                8224      \n",
            "                                                                 \n",
            " Hidden_layer2 (Dense)       (None, 32)                1056      \n",
            "                                                                 \n",
            " Hidden_layer3 (Dense)       (None, 32)                1056      \n",
            "                                                                 \n",
            " Output_layer (Dense)        (None, 26)                858       \n",
            "                                                                 \n",
            "=================================================================\n",
            "Total params: 11,194\n",
            "Trainable params: 11,194\n",
            "Non-trainable params: 0\n",
            "_________________________________________________________________\n"
          ]
        }
      ],
      "source": [
        "# Do experiments 4 and 5 again, but this time, add two more hidden layers.\n",
        "model2 = tf.keras.models.Sequential()\n",
        "model2.add(tf.keras.Input(shape=(256,)))\n",
        "model2.add(tf.keras.layers.Dense(32, activation=tf.keras.activations.relu, name=\"Hidden_layer1\"))\n",
        "model2.add(tf.keras.layers.Dense(32, activation=tf.keras.activations.relu, name=\"Hidden_layer2\"))\n",
        "model2.add(tf.keras.layers.Dense(32, activation=tf.keras.activations.relu, name=\"Hidden_layer3\"))\n",
        "model2.add(tf.keras.layers.Dense(26, activation=tf.keras.activations.softmax, name=\"Output_layer\"))\n",
        "\n",
        "model2.summary()"
      ]
    },
    {
      "cell_type": "code",
      "execution_count": null,
      "metadata": {
        "id": "Mhz_tgqGqpZ2",
        "colab": {
          "base_uri": "https://localhost:8080/"
        },
        "outputId": "115ee1cf-04a8-42d2-b8f6-70b7fcbdd704"
      },
      "outputs": [
        {
          "output_type": "stream",
          "name": "stdout",
          "text": [
            "Epoch 1/9999\n",
            "2/2 - 0s - loss: 3.2565 - categorical_accuracy: 0.0385 - 421ms/epoch - 211ms/step\n",
            "Epoch 2/9999\n",
            "2/2 - 0s - loss: 3.2149 - categorical_accuracy: 0.0385 - 11ms/epoch - 6ms/step\n",
            "Epoch 3/9999\n",
            "2/2 - 0s - loss: 3.1891 - categorical_accuracy: 0.0577 - 10ms/epoch - 5ms/step\n",
            "Epoch 4/9999\n",
            "2/2 - 0s - loss: 3.1644 - categorical_accuracy: 0.0962 - 8ms/epoch - 4ms/step\n",
            "Epoch 5/9999\n",
            "2/2 - 0s - loss: 3.1414 - categorical_accuracy: 0.0962 - 11ms/epoch - 6ms/step\n",
            "Epoch 6/9999\n",
            "2/2 - 0s - loss: 3.1196 - categorical_accuracy: 0.0962 - 12ms/epoch - 6ms/step\n",
            "Epoch 7/9999\n",
            "2/2 - 0s - loss: 3.0938 - categorical_accuracy: 0.1154 - 9ms/epoch - 5ms/step\n",
            "Epoch 8/9999\n",
            "2/2 - 0s - loss: 3.0704 - categorical_accuracy: 0.1154 - 11ms/epoch - 5ms/step\n",
            "Epoch 9/9999\n",
            "2/2 - 0s - loss: 3.0411 - categorical_accuracy: 0.1154 - 11ms/epoch - 5ms/step\n",
            "Epoch 10/9999\n",
            "2/2 - 0s - loss: 3.0116 - categorical_accuracy: 0.1154 - 12ms/epoch - 6ms/step\n",
            "Epoch 11/9999\n",
            "2/2 - 0s - loss: 2.9833 - categorical_accuracy: 0.1154 - 9ms/epoch - 4ms/step\n",
            "Epoch 12/9999\n",
            "2/2 - 0s - loss: 2.9517 - categorical_accuracy: 0.1538 - 11ms/epoch - 6ms/step\n",
            "Epoch 13/9999\n",
            "2/2 - 0s - loss: 2.9191 - categorical_accuracy: 0.1538 - 11ms/epoch - 5ms/step\n",
            "Epoch 14/9999\n",
            "2/2 - 0s - loss: 2.8840 - categorical_accuracy: 0.1538 - 10ms/epoch - 5ms/step\n",
            "Epoch 15/9999\n",
            "2/2 - 0s - loss: 2.8505 - categorical_accuracy: 0.1538 - 8ms/epoch - 4ms/step\n",
            "Epoch 16/9999\n",
            "2/2 - 0s - loss: 2.8148 - categorical_accuracy: 0.1538 - 8ms/epoch - 4ms/step\n",
            "Epoch 17/9999\n",
            "2/2 - 0s - loss: 2.7768 - categorical_accuracy: 0.1731 - 7ms/epoch - 4ms/step\n",
            "Epoch 18/9999\n",
            "2/2 - 0s - loss: 2.7363 - categorical_accuracy: 0.2500 - 9ms/epoch - 5ms/step\n",
            "Epoch 19/9999\n",
            "2/2 - 0s - loss: 2.6976 - categorical_accuracy: 0.2885 - 9ms/epoch - 4ms/step\n",
            "Epoch 20/9999\n",
            "2/2 - 0s - loss: 2.6548 - categorical_accuracy: 0.3077 - 7ms/epoch - 4ms/step\n",
            "Epoch 21/9999\n",
            "2/2 - 0s - loss: 2.6092 - categorical_accuracy: 0.3269 - 8ms/epoch - 4ms/step\n",
            "Epoch 22/9999\n",
            "2/2 - 0s - loss: 2.5630 - categorical_accuracy: 0.3846 - 7ms/epoch - 3ms/step\n",
            "Epoch 23/9999\n",
            "2/2 - 0s - loss: 2.5176 - categorical_accuracy: 0.3846 - 7ms/epoch - 4ms/step\n",
            "Epoch 24/9999\n",
            "2/2 - 0s - loss: 2.4668 - categorical_accuracy: 0.4231 - 7ms/epoch - 3ms/step\n",
            "Epoch 25/9999\n",
            "2/2 - 0s - loss: 2.4174 - categorical_accuracy: 0.4231 - 8ms/epoch - 4ms/step\n",
            "Epoch 26/9999\n",
            "2/2 - 0s - loss: 2.3644 - categorical_accuracy: 0.4615 - 7ms/epoch - 3ms/step\n",
            "Epoch 27/9999\n",
            "2/2 - 0s - loss: 2.3106 - categorical_accuracy: 0.4615 - 9ms/epoch - 5ms/step\n",
            "Epoch 28/9999\n",
            "2/2 - 0s - loss: 2.2525 - categorical_accuracy: 0.4615 - 10ms/epoch - 5ms/step\n",
            "Epoch 29/9999\n",
            "2/2 - 0s - loss: 2.1946 - categorical_accuracy: 0.5000 - 8ms/epoch - 4ms/step\n",
            "Epoch 30/9999\n",
            "2/2 - 0s - loss: 2.1352 - categorical_accuracy: 0.5000 - 8ms/epoch - 4ms/step\n",
            "Epoch 31/9999\n",
            "2/2 - 0s - loss: 2.0759 - categorical_accuracy: 0.5385 - 9ms/epoch - 5ms/step\n",
            "Epoch 32/9999\n",
            "2/2 - 0s - loss: 2.0115 - categorical_accuracy: 0.5385 - 8ms/epoch - 4ms/step\n",
            "Epoch 33/9999\n",
            "2/2 - 0s - loss: 1.9518 - categorical_accuracy: 0.5962 - 8ms/epoch - 4ms/step\n",
            "Epoch 34/9999\n",
            "2/2 - 0s - loss: 1.8888 - categorical_accuracy: 0.6346 - 9ms/epoch - 4ms/step\n",
            "Epoch 35/9999\n",
            "2/2 - 0s - loss: 1.8229 - categorical_accuracy: 0.6154 - 11ms/epoch - 5ms/step\n",
            "Epoch 36/9999\n",
            "2/2 - 0s - loss: 1.7569 - categorical_accuracy: 0.5962 - 12ms/epoch - 6ms/step\n",
            "Epoch 37/9999\n",
            "2/2 - 0s - loss: 1.6958 - categorical_accuracy: 0.5962 - 9ms/epoch - 5ms/step\n",
            "Epoch 38/9999\n",
            "2/2 - 0s - loss: 1.6291 - categorical_accuracy: 0.6154 - 8ms/epoch - 4ms/step\n",
            "Epoch 39/9999\n",
            "2/2 - 0s - loss: 1.5642 - categorical_accuracy: 0.6923 - 8ms/epoch - 4ms/step\n",
            "Epoch 40/9999\n",
            "2/2 - 0s - loss: 1.4976 - categorical_accuracy: 0.7500 - 11ms/epoch - 5ms/step\n",
            "Epoch 41/9999\n",
            "2/2 - 0s - loss: 1.4342 - categorical_accuracy: 0.7692 - 9ms/epoch - 5ms/step\n",
            "Epoch 42/9999\n",
            "2/2 - 0s - loss: 1.3737 - categorical_accuracy: 0.7500 - 9ms/epoch - 4ms/step\n",
            "Epoch 43/9999\n",
            "2/2 - 0s - loss: 1.3098 - categorical_accuracy: 0.7885 - 12ms/epoch - 6ms/step\n",
            "Epoch 44/9999\n",
            "2/2 - 0s - loss: 1.2493 - categorical_accuracy: 0.8077 - 10ms/epoch - 5ms/step\n",
            "Epoch 45/9999\n",
            "2/2 - 0s - loss: 1.1957 - categorical_accuracy: 0.8077 - 8ms/epoch - 4ms/step\n",
            "Epoch 46/9999\n",
            "2/2 - 0s - loss: 1.1378 - categorical_accuracy: 0.8269 - 13ms/epoch - 6ms/step\n",
            "Epoch 47/9999\n",
            "2/2 - 0s - loss: 1.0808 - categorical_accuracy: 0.8269 - 11ms/epoch - 5ms/step\n",
            "Epoch 48/9999\n",
            "2/2 - 0s - loss: 1.0266 - categorical_accuracy: 0.8269 - 10ms/epoch - 5ms/step\n",
            "Epoch 49/9999\n",
            "2/2 - 0s - loss: 0.9774 - categorical_accuracy: 0.8269 - 10ms/epoch - 5ms/step\n",
            "Epoch 50/9999\n",
            "2/2 - 0s - loss: 0.9306 - categorical_accuracy: 0.8462 - 8ms/epoch - 4ms/step\n",
            "Epoch 51/9999\n",
            "2/2 - 0s - loss: 0.8841 - categorical_accuracy: 0.8846 - 10ms/epoch - 5ms/step\n",
            "Epoch 52/9999\n",
            "2/2 - 0s - loss: 0.8399 - categorical_accuracy: 0.9038 - 11ms/epoch - 6ms/step\n",
            "Epoch 53/9999\n",
            "2/2 - 0s - loss: 0.8001 - categorical_accuracy: 0.9231 - 7ms/epoch - 4ms/step\n",
            "Epoch 54/9999\n",
            "2/2 - 0s - loss: 0.7613 - categorical_accuracy: 0.9231 - 9ms/epoch - 5ms/step\n",
            "Epoch 55/9999\n",
            "2/2 - 0s - loss: 0.7228 - categorical_accuracy: 0.9423 - 9ms/epoch - 5ms/step\n",
            "Epoch 56/9999\n",
            "2/2 - 0s - loss: 0.6882 - categorical_accuracy: 0.9231 - 9ms/epoch - 4ms/step\n",
            "Epoch 57/9999\n",
            "2/2 - 0s - loss: 0.6583 - categorical_accuracy: 0.9231 - 12ms/epoch - 6ms/step\n",
            "Epoch 58/9999\n",
            "2/2 - 0s - loss: 0.6224 - categorical_accuracy: 0.9423 - 8ms/epoch - 4ms/step\n",
            "Epoch 59/9999\n",
            "2/2 - 0s - loss: 0.5932 - categorical_accuracy: 0.9615 - 13ms/epoch - 7ms/step\n",
            "Epoch 60/9999\n",
            "2/2 - 0s - loss: 0.5653 - categorical_accuracy: 0.9808 - 11ms/epoch - 6ms/step\n",
            "Epoch 61/9999\n",
            "2/2 - 0s - loss: 0.5376 - categorical_accuracy: 0.9808 - 10ms/epoch - 5ms/step\n",
            "Epoch 62/9999\n",
            "2/2 - 0s - loss: 0.5128 - categorical_accuracy: 0.9423 - 12ms/epoch - 6ms/step\n",
            "Epoch 63/9999\n",
            "2/2 - 0s - loss: 0.4887 - categorical_accuracy: 0.9615 - 9ms/epoch - 4ms/step\n",
            "Epoch 64/9999\n",
            "2/2 - 0s - loss: 0.4654 - categorical_accuracy: 0.9615 - 8ms/epoch - 4ms/step\n",
            "Epoch 65/9999\n",
            "2/2 - 0s - loss: 0.4450 - categorical_accuracy: 0.9808 - 8ms/epoch - 4ms/step\n",
            "Epoch 66/9999\n",
            "2/2 - 0s - loss: 0.4235 - categorical_accuracy: 1.0000 - 10ms/epoch - 5ms/step\n",
            "Epoch 67/9999\n",
            "2/2 - 0s - loss: 0.4055 - categorical_accuracy: 1.0000 - 9ms/epoch - 5ms/step\n",
            "Epoch 68/9999\n",
            "2/2 - 0s - loss: 0.3919 - categorical_accuracy: 0.9808 - 9ms/epoch - 4ms/step\n",
            "Epoch 69/9999\n",
            "2/2 - 0s - loss: 0.3768 - categorical_accuracy: 0.9808 - 9ms/epoch - 5ms/step\n",
            "Epoch 70/9999\n",
            "2/2 - 0s - loss: 0.3565 - categorical_accuracy: 0.9808 - 14ms/epoch - 7ms/step\n",
            "Epoch 71/9999\n",
            "2/2 - 0s - loss: 0.3436 - categorical_accuracy: 0.9808 - 10ms/epoch - 5ms/step\n",
            "Epoch 72/9999\n",
            "2/2 - 0s - loss: 0.3269 - categorical_accuracy: 1.0000 - 16ms/epoch - 8ms/step\n",
            "Epoch 73/9999\n",
            "2/2 - 0s - loss: 0.3137 - categorical_accuracy: 1.0000 - 12ms/epoch - 6ms/step\n",
            "Epoch 74/9999\n",
            "2/2 - 0s - loss: 0.3045 - categorical_accuracy: 0.9808 - 8ms/epoch - 4ms/step\n",
            "Epoch 75/9999\n",
            "2/2 - 0s - loss: 0.2927 - categorical_accuracy: 1.0000 - 9ms/epoch - 5ms/step\n",
            "Epoch 76/9999\n",
            "2/2 - 0s - loss: 0.2800 - categorical_accuracy: 1.0000 - 8ms/epoch - 4ms/step\n",
            "Epoch 77/9999\n",
            "2/2 - 0s - loss: 0.2705 - categorical_accuracy: 1.0000 - 8ms/epoch - 4ms/step\n",
            "Epoch 78/9999\n",
            "2/2 - 0s - loss: 0.2617 - categorical_accuracy: 1.0000 - 11ms/epoch - 6ms/step\n",
            "Epoch 79/9999\n",
            "2/2 - 0s - loss: 0.2514 - categorical_accuracy: 1.0000 - 11ms/epoch - 6ms/step\n",
            "Epoch 80/9999\n",
            "2/2 - 0s - loss: 0.2413 - categorical_accuracy: 1.0000 - 8ms/epoch - 4ms/step\n",
            "Epoch 81/9999\n",
            "2/2 - 0s - loss: 0.2332 - categorical_accuracy: 1.0000 - 8ms/epoch - 4ms/step\n",
            "Epoch 82/9999\n",
            "2/2 - 0s - loss: 0.2260 - categorical_accuracy: 1.0000 - 8ms/epoch - 4ms/step\n",
            "Epoch 83/9999\n",
            "2/2 - 0s - loss: 0.2168 - categorical_accuracy: 1.0000 - 9ms/epoch - 5ms/step\n",
            "Epoch 84/9999\n",
            "2/2 - 0s - loss: 0.2093 - categorical_accuracy: 1.0000 - 11ms/epoch - 5ms/step\n",
            "Epoch 85/9999\n",
            "2/2 - 0s - loss: 0.1997 - categorical_accuracy: 1.0000 - 8ms/epoch - 4ms/step\n",
            "Epoch 86/9999\n",
            "2/2 - 0s - loss: 0.1957 - categorical_accuracy: 1.0000 - 11ms/epoch - 5ms/step\n",
            "Epoch 87/9999\n",
            "2/2 - 0s - loss: 0.1907 - categorical_accuracy: 1.0000 - 11ms/epoch - 6ms/step\n",
            "Epoch 88/9999\n",
            "2/2 - 0s - loss: 0.1821 - categorical_accuracy: 1.0000 - 10ms/epoch - 5ms/step\n",
            "Epoch 89/9999\n",
            "2/2 - 0s - loss: 0.1769 - categorical_accuracy: 1.0000 - 10ms/epoch - 5ms/step\n",
            "Epoch 90/9999\n",
            "2/2 - 0s - loss: 0.1718 - categorical_accuracy: 1.0000 - 14ms/epoch - 7ms/step\n",
            "Epoch 91/9999\n",
            "2/2 - 0s - loss: 0.1665 - categorical_accuracy: 1.0000 - 11ms/epoch - 5ms/step\n",
            "Epoch 92/9999\n",
            "2/2 - 0s - loss: 0.1601 - categorical_accuracy: 1.0000 - 8ms/epoch - 4ms/step\n",
            "Epoch 93/9999\n",
            "2/2 - 0s - loss: 0.1556 - categorical_accuracy: 1.0000 - 8ms/epoch - 4ms/step\n",
            "Epoch 94/9999\n",
            "2/2 - 0s - loss: 0.1522 - categorical_accuracy: 1.0000 - 9ms/epoch - 4ms/step\n",
            "Epoch 95/9999\n",
            "2/2 - 0s - loss: 0.1495 - categorical_accuracy: 1.0000 - 9ms/epoch - 4ms/step\n",
            "Epoch 96/9999\n",
            "2/2 - 0s - loss: 0.1443 - categorical_accuracy: 1.0000 - 11ms/epoch - 5ms/step\n",
            "Epoch 97/9999\n",
            "2/2 - 0s - loss: 0.1376 - categorical_accuracy: 1.0000 - 8ms/epoch - 4ms/step\n",
            "Epoch 98/9999\n",
            "2/2 - 0s - loss: 0.1362 - categorical_accuracy: 1.0000 - 8ms/epoch - 4ms/step\n",
            "Epoch 99/9999\n",
            "2/2 - 0s - loss: 0.1316 - categorical_accuracy: 1.0000 - 10ms/epoch - 5ms/step\n",
            "Epoch 100/9999\n",
            "2/2 - 0s - loss: 0.1254 - categorical_accuracy: 1.0000 - 10ms/epoch - 5ms/step\n",
            "Epoch 101/9999\n",
            "2/2 - 0s - loss: 0.1229 - categorical_accuracy: 1.0000 - 8ms/epoch - 4ms/step\n",
            "Epoch 102/9999\n",
            "2/2 - 0s - loss: 0.1203 - categorical_accuracy: 1.0000 - 7ms/epoch - 4ms/step\n",
            "Epoch 103/9999\n",
            "2/2 - 0s - loss: 0.1162 - categorical_accuracy: 1.0000 - 8ms/epoch - 4ms/step\n",
            "Epoch 104/9999\n",
            "2/2 - 0s - loss: 0.1126 - categorical_accuracy: 1.0000 - 8ms/epoch - 4ms/step\n",
            "Epoch 105/9999\n",
            "2/2 - 0s - loss: 0.1103 - categorical_accuracy: 1.0000 - 8ms/epoch - 4ms/step\n",
            "Epoch 106/9999\n",
            "2/2 - 0s - loss: 0.1080 - categorical_accuracy: 1.0000 - 11ms/epoch - 6ms/step\n",
            "Epoch 107/9999\n",
            "2/2 - 0s - loss: 0.1038 - categorical_accuracy: 1.0000 - 8ms/epoch - 4ms/step\n",
            "Epoch 108/9999\n",
            "2/2 - 0s - loss: 0.1010 - categorical_accuracy: 1.0000 - 8ms/epoch - 4ms/step\n",
            "Epoch 109/9999\n",
            "2/2 - 0s - loss: 0.0998 - categorical_accuracy: 1.0000 - 10ms/epoch - 5ms/step\n",
            "Epoch 110/9999\n",
            "2/2 - 0s - loss: 0.0960 - categorical_accuracy: 1.0000 - 16ms/epoch - 8ms/step\n",
            "Epoch 111/9999\n",
            "2/2 - 0s - loss: 0.0947 - categorical_accuracy: 1.0000 - 8ms/epoch - 4ms/step\n",
            "Epoch 112/9999\n",
            "2/2 - 0s - loss: 0.0916 - categorical_accuracy: 1.0000 - 8ms/epoch - 4ms/step\n",
            "Epoch 113/9999\n",
            "2/2 - 0s - loss: 0.0897 - categorical_accuracy: 1.0000 - 10ms/epoch - 5ms/step\n",
            "Epoch 114/9999\n",
            "2/2 - 0s - loss: 0.0867 - categorical_accuracy: 1.0000 - 8ms/epoch - 4ms/step\n",
            "Epoch 115/9999\n",
            "2/2 - 0s - loss: 0.0854 - categorical_accuracy: 1.0000 - 8ms/epoch - 4ms/step\n",
            "Epoch 116/9999\n",
            "2/2 - 0s - loss: 0.0833 - categorical_accuracy: 1.0000 - 7ms/epoch - 4ms/step\n"
          ]
        },
        {
          "output_type": "execute_result",
          "data": {
            "text/plain": [
              "<keras.callbacks.History at 0x7f4b8778ff10>"
            ]
          },
          "metadata": {},
          "execution_count": 20
        }
      ],
      "source": [
        "model2.compile(optimizer=tf.keras.optimizers.Adam(learning_rate=0.001),\n",
        "             loss=tf.keras.losses.CategoricalCrossentropy(),\n",
        "             metrics=[tf.keras.metrics.CategoricalAccuracy()])\n",
        "callback = tf.keras.callbacks.EarlyStopping(monitor=\"categorical_accuracy\", patience=50, restore_best_weights=False)\n",
        "model2.fit(x=TRAINING_SET_2D, y=unicode_cat_train, epochs=9999, verbose=2, callbacks=[callback])"
      ]
    },
    {
      "cell_type": "code",
      "execution_count": null,
      "metadata": {
        "id": "5hZ322rMqwXh",
        "colab": {
          "base_uri": "https://localhost:8080/"
        },
        "outputId": "692c6c05-1e26-4ceb-ff34-0865a1898f4a"
      },
      "outputs": [
        {
          "output_type": "stream",
          "name": "stdout",
          "text": [
            "1/1 [==============================] - 0s 144ms/step - loss: 1.9257 - categorical_accuracy: 0.2692\n"
          ]
        },
        {
          "output_type": "execute_result",
          "data": {
            "text/plain": [
              "[1.9257231950759888, 0.26923078298568726]"
            ]
          },
          "metadata": {},
          "execution_count": 21
        }
      ],
      "source": [
        "model2.evaluate(x=TEST_SET_2D, y=unicode_cat_test, verbose=1)"
      ]
    },
    {
      "cell_type": "code",
      "execution_count": null,
      "metadata": {
        "id": "b_ZZkjrOz-tA",
        "colab": {
          "base_uri": "https://localhost:8080/"
        },
        "outputId": "fec1424c-c6d6-432a-e2bb-1d068d266f63"
      },
      "outputs": [
        {
          "output_type": "execute_result",
          "data": {
            "text/plain": [
              "array([[1.74328879e-01, 1.08230993e-01, 3.35816965e-02, 3.22828032e-02,\n",
              "        2.25764583e-03, 1.16446063e-04, 3.82236600e-01, 3.30166891e-03,\n",
              "        1.41470300e-04, 3.41673219e-03, 1.94447599e-02, 6.54316787e-03,\n",
              "        2.55936738e-02, 2.01947708e-03, 1.01850706e-03, 1.29716219e-02,\n",
              "        7.83534255e-03, 1.51872680e-01, 2.06301436e-02, 4.04240651e-04,\n",
              "        6.71990355e-03, 3.35945151e-06, 2.79491884e-03, 4.25604550e-04,\n",
              "        1.45111640e-03, 3.76536540e-04],\n",
              "       [9.20074126e-06, 6.94263816e-01, 2.17229481e-05, 3.93267925e-04,\n",
              "        1.04438692e-01, 9.65028908e-03, 1.04687130e-03, 7.06139281e-06,\n",
              "        2.96923593e-02, 1.43607031e-03, 2.33983435e-03, 6.27885631e-04,\n",
              "        2.14824118e-04, 7.57547969e-06, 5.25303108e-07, 1.87177826e-02,\n",
              "        5.47645527e-07, 6.35323301e-02, 2.70058610e-03, 6.88387975e-02,\n",
              "        2.99506046e-05, 4.94526475e-10, 1.14797345e-07, 2.23279305e-04,\n",
              "        4.07957414e-04, 1.39861880e-03],\n",
              "       [1.38646038e-03, 1.27450421e-01, 2.10709721e-01, 4.45750281e-02,\n",
              "        6.71177283e-02, 2.61063920e-03, 4.49909084e-02, 5.27647557e-04,\n",
              "        1.77188136e-03, 4.01750527e-04, 2.86680111e-03, 1.92966461e-01,\n",
              "        1.05613994e-03, 6.01665888e-05, 7.06402236e-04, 5.21216402e-03,\n",
              "        5.55838749e-04, 5.88690005e-02, 2.31577858e-01, 1.59053772e-03,\n",
              "        1.99008523e-03, 2.10750977e-06, 1.36836636e-04, 1.71573251e-04,\n",
              "        3.03227978e-04, 3.92712245e-04],\n",
              "       [3.15454636e-05, 2.54566461e-01, 4.08567116e-02, 8.31765458e-02,\n",
              "        2.91263722e-02, 3.24657909e-03, 7.17571378e-03, 2.44199444e-04,\n",
              "        2.37170793e-03, 7.02540274e-05, 4.37758310e-04, 3.89360525e-02,\n",
              "        3.58084915e-04, 1.29860864e-05, 2.67404690e-03, 8.61584209e-03,\n",
              "        9.20696039e-06, 8.12587962e-02, 4.20307696e-01, 1.90511160e-02,\n",
              "        2.23949552e-03, 6.53705996e-08, 1.53935798e-06, 2.98615632e-04,\n",
              "        1.41443382e-03, 3.51819466e-03],\n",
              "       [1.98356243e-09, 1.83960685e-04, 6.73953693e-09, 2.27042307e-07,\n",
              "        9.35777903e-01, 8.35570320e-03, 2.04700973e-05, 9.82619284e-08,\n",
              "        2.75668278e-02, 1.47870131e-04, 3.75855202e-03, 1.76283720e-04,\n",
              "        2.30412934e-06, 9.53551571e-10, 7.49480755e-11, 4.70801206e-05,\n",
              "        1.20114876e-10, 3.79768790e-05, 1.28028318e-04, 2.34817881e-02,\n",
              "        4.60844944e-08, 1.50576340e-12, 1.07264100e-12, 7.74867221e-05,\n",
              "        1.73632798e-04, 6.38056154e-05],\n",
              "       [2.60384834e-08, 5.51253441e-04, 3.19465987e-09, 5.38262066e-06,\n",
              "        1.66065171e-01, 2.67601848e-01, 7.00292185e-06, 3.89772964e-07,\n",
              "        4.10133690e-01, 1.93534637e-04, 5.49479900e-03, 1.83328069e-04,\n",
              "        5.35041618e-05, 6.12252904e-07, 2.80822166e-09, 1.08895693e-02,\n",
              "        1.13331398e-08, 1.30826011e-04, 7.04442136e-05, 1.27111956e-01,\n",
              "        1.34852201e-07, 1.34510392e-09, 1.40286463e-10, 1.98855414e-04,\n",
              "        1.12654353e-02, 4.21290388e-05],\n",
              "       [1.26192137e-03, 5.73407598e-02, 7.75457919e-02, 2.91840662e-03,\n",
              "        1.65436000e-01, 4.36445349e-04, 4.18126583e-01, 4.12402645e-04,\n",
              "        2.00548815e-03, 2.25235848e-03, 1.81090124e-02, 6.60834089e-02,\n",
              "        2.28887633e-03, 8.83913162e-06, 1.27964769e-04, 3.48080590e-04,\n",
              "        2.70334305e-04, 3.62261310e-02, 1.44326568e-01, 1.26909022e-03,\n",
              "        2.20071664e-03, 2.11199179e-07, 1.83219199e-05, 3.74663097e-04,\n",
              "        1.13072812e-04, 4.98449081e-04],\n",
              "       [6.09541014e-02, 4.51375805e-02, 4.48876235e-04, 3.66973989e-02,\n",
              "        3.00831744e-04, 2.48468627e-04, 1.95669811e-02, 6.66924864e-02,\n",
              "        6.65781681e-06, 3.70467023e-04, 1.83486506e-01, 5.76077541e-03,\n",
              "        4.52974923e-02, 8.56431667e-03, 2.80007313e-04, 4.21735011e-02,\n",
              "        7.97318667e-03, 4.44734752e-01, 1.10101711e-03, 1.06452862e-04,\n",
              "        6.15226454e-04, 1.25792940e-04, 1.62145905e-02, 1.00560291e-02,\n",
              "        3.04164737e-03, 4.49127801e-05],\n",
              "       [3.72783529e-06, 6.98702876e-04, 8.66232440e-05, 2.05036595e-05,\n",
              "        2.37716772e-02, 1.39764231e-03, 1.13937038e-03, 4.61512391e-05,\n",
              "        4.55943614e-01, 9.72575275e-04, 2.08565893e-04, 1.31314504e-04,\n",
              "        2.06149206e-03, 1.94620989e-05, 3.73856019e-05, 2.61914160e-04,\n",
              "        1.63195978e-06, 6.84493789e-05, 3.87003575e-03, 4.82218355e-01,\n",
              "        1.90200648e-04, 2.75029976e-07, 2.76927608e-07, 4.89418278e-04,\n",
              "        1.64876343e-03, 2.47118380e-02],\n",
              "       [4.48733452e-04, 1.38586210e-02, 9.58814286e-03, 6.28612353e-04,\n",
              "        6.40099542e-03, 1.57036993e-04, 1.24942899e-01, 9.00956802e-03,\n",
              "        1.87570753e-03, 2.95280255e-02, 1.35963247e-03, 2.76044389e-04,\n",
              "        4.69327457e-02, 5.21958922e-04, 1.44199347e-02, 4.39471856e-04,\n",
              "        5.34179155e-04, 1.95823750e-03, 1.21827628e-02, 6.86695129e-02,\n",
              "        8.92791301e-02, 5.31281648e-06, 1.69516905e-04, 9.36429203e-03,\n",
              "        3.00856424e-03, 5.54440439e-01],\n",
              "       [1.06764958e-06, 6.51155307e-04, 9.20654486e-08, 3.80243146e-05,\n",
              "        3.60980123e-01, 1.07344843e-01, 8.32092410e-05, 1.19655728e-04,\n",
              "        1.34668304e-02, 2.68365094e-03, 4.45718437e-01, 3.81549797e-03,\n",
              "        3.05618043e-04, 2.07697099e-06, 1.07484631e-07, 2.41066073e-03,\n",
              "        3.32775812e-07, 3.02707916e-03, 4.84662567e-04, 6.76735071e-03,\n",
              "        1.98410817e-06, 7.17639921e-08, 3.97830657e-09, 3.83737385e-02,\n",
              "        1.33628072e-02, 3.60929494e-04],\n",
              "       [3.44077284e-06, 1.20481942e-02, 2.61030043e-03, 1.17545843e-03,\n",
              "        5.79361081e-01, 3.85361514e-03, 1.88457011e-03, 3.60206177e-05,\n",
              "        3.21022235e-03, 1.02979735e-04, 5.23941265e-03, 2.93876082e-01,\n",
              "        2.49142759e-05, 1.61932078e-07, 3.26420150e-06, 4.35627589e-04,\n",
              "        7.32183253e-07, 9.92563739e-03, 8.38185251e-02, 1.78010343e-03,\n",
              "        3.58015313e-05, 7.84852183e-09, 4.38086225e-08, 2.64766451e-04,\n",
              "        1.12424903e-04, 1.96622466e-04],\n",
              "       [5.30979363e-03, 3.97025794e-03, 7.30468164e-05, 6.13367930e-03,\n",
              "        4.37587984e-02, 2.18259431e-02, 7.30776181e-03, 7.67513812e-02,\n",
              "        3.65878548e-03, 1.57534778e-02, 3.48565519e-01, 6.95933681e-03,\n",
              "        7.29440823e-02, 6.90998090e-03, 2.50468642e-04, 5.82553521e-02,\n",
              "        1.63947314e-03, 1.74725428e-02, 6.04538480e-03, 6.57820236e-03,\n",
              "        1.12644047e-03, 7.35342328e-04, 3.33268224e-04, 1.65139824e-01,\n",
              "        1.17856532e-01, 4.64533549e-03],\n",
              "       [1.95294991e-01, 9.87842381e-02, 2.88738171e-03, 8.75406433e-03,\n",
              "        1.04831601e-03, 1.27948326e-04, 5.15414238e-01, 7.72685744e-03,\n",
              "        1.59179217e-05, 2.83165486e-03, 2.81829499e-02, 3.78493627e-04,\n",
              "        5.78844287e-02, 1.35577042e-02, 6.36799145e-04, 1.54624302e-02,\n",
              "        3.92874889e-03, 2.53313184e-02, 1.25313154e-03, 6.72536553e-04,\n",
              "        7.56681245e-03, 1.18172202e-05, 8.49964004e-03, 1.36614940e-03,\n",
              "        1.43139961e-03, 9.50046233e-04],\n",
              "       [8.96199513e-03, 6.01124428e-02, 3.02206606e-01, 3.66123676e-01,\n",
              "        3.05145659e-04, 2.45373405e-04, 5.49131036e-02, 2.44507263e-03,\n",
              "        7.55789297e-05, 2.54953029e-05, 3.57307814e-04, 1.89648475e-02,\n",
              "        4.37455671e-03, 1.06262299e-03, 7.02342093e-02, 1.17550110e-02,\n",
              "        5.88502968e-03, 2.97756717e-02, 4.76217121e-02, 2.31916230e-04,\n",
              "        9.89027042e-03, 1.01212390e-04, 2.70846020e-03, 1.01773781e-04,\n",
              "        1.37426588e-03, 1.46650011e-04],\n",
              "       [1.96712062e-05, 1.79873154e-01, 8.04093190e-07, 1.28297019e-03,\n",
              "        7.93738477e-03, 1.65329844e-01, 9.29594244e-05, 2.24708697e-06,\n",
              "        7.14271441e-02, 1.61058313e-04, 1.21347606e-03, 1.10551337e-04,\n",
              "        3.31903051e-04, 2.59676279e-04, 6.63859510e-07, 4.75637794e-01,\n",
              "        3.97096346e-06, 1.23460907e-02, 9.41192629e-05, 6.08281791e-02,\n",
              "        1.23820773e-05, 1.94688383e-07, 5.35063123e-07, 1.39915355e-04,\n",
              "        2.27864124e-02, 1.06881009e-04],\n",
              "       [3.09514478e-02, 2.01905984e-02, 8.99306238e-02, 2.81187057e-01,\n",
              "        2.87823468e-06, 3.73011585e-06, 1.44332007e-01, 1.31931005e-03,\n",
              "        1.30182980e-06, 3.74287112e-07, 2.88253814e-05, 4.00113204e-04,\n",
              "        4.58202371e-03, 7.64785684e-04, 5.57732880e-02, 2.76716682e-03,\n",
              "        2.95386344e-01, 1.29203768e-02, 9.19673417e-04, 1.13187743e-05,\n",
              "        1.15441810e-02, 2.38492154e-03, 4.34943140e-02, 1.36136014e-05,\n",
              "        1.08822947e-03, 1.49798382e-06],\n",
              "       [1.66116195e-04, 4.48817343e-01, 1.15910016e-05, 3.83651536e-03,\n",
              "        2.49233115e-02, 1.11317798e-01, 1.86632352e-03, 3.18962520e-05,\n",
              "        3.22008617e-02, 8.11863807e-04, 1.71113033e-02, 5.45973133e-04,\n",
              "        2.26328382e-03, 3.33926873e-04, 5.04253467e-06, 1.90706491e-01,\n",
              "        2.18248915e-05, 9.18499306e-02, 4.22458601e-04, 4.33489308e-02,\n",
              "        7.03686164e-05, 5.48385799e-07, 2.91630295e-06, 1.87002309e-03,\n",
              "        2.68313065e-02, 6.32017967e-04],\n",
              "       [9.72331873e-06, 7.45576769e-02, 5.87616628e-03, 5.70641190e-04,\n",
              "        5.70812702e-01, 1.15390657e-03, 1.15216980e-02, 7.22959303e-05,\n",
              "        1.09820031e-02, 1.45816337e-03, 4.45808796e-03, 3.73682678e-02,\n",
              "        1.80314848e-04, 4.99702935e-07, 1.41401824e-05, 2.41144022e-04,\n",
              "        9.68633913e-07, 4.90785986e-02, 2.15955108e-01, 1.19009083e-02,\n",
              "        2.18579997e-04, 1.12425391e-09, 8.55600533e-08, 4.95427870e-04,\n",
              "        5.44803625e-05, 3.01844859e-03],\n",
              "       [5.77643959e-07, 4.87345096e-04, 9.76851879e-05, 6.99536686e-05,\n",
              "        4.84839737e-01, 2.12856531e-02, 2.66797817e-03, 1.30374596e-04,\n",
              "        7.72929415e-02, 2.49570643e-04, 2.63466313e-03, 1.36110163e-03,\n",
              "        6.76786818e-04, 1.36039819e-06, 9.55524865e-06, 1.38171061e-04,\n",
              "        3.42841190e-07, 8.68629504e-05, 7.81522784e-03, 3.33785564e-01,\n",
              "        2.66120711e-04, 5.51695507e-07, 1.39780703e-08, 6.68349536e-03,\n",
              "        1.31538045e-02, 4.62645814e-02],\n",
              "       [9.00279556e-04, 5.13364887e-03, 2.12073103e-01, 2.18365282e-01,\n",
              "        1.16278220e-03, 6.37105550e-05, 3.11125636e-01, 4.68686596e-03,\n",
              "        7.97450139e-06, 1.35780726e-06, 4.60832554e-04, 7.60427024e-03,\n",
              "        1.15088664e-03, 2.97309925e-05, 1.26058012e-02, 7.54541310e-04,\n",
              "        7.90005084e-03, 2.79765902e-03, 2.99106613e-02, 8.52731406e-04,\n",
              "        1.76217645e-01, 8.01827060e-04, 2.83762370e-03, 6.28183887e-04,\n",
              "        1.80159486e-03, 1.25364968e-04],\n",
              "       [3.53038730e-03, 2.22318829e-03, 5.24190962e-02, 2.23408312e-01,\n",
              "        4.95141279e-03, 4.92009916e-04, 4.63957489e-02, 4.27196361e-02,\n",
              "        2.55531108e-04, 2.56335206e-05, 2.07655691e-03, 3.25405151e-02,\n",
              "        2.35858303e-03, 2.18946603e-04, 1.61628649e-02, 5.09471772e-03,\n",
              "        8.18103254e-02, 1.06723150e-02, 7.94028267e-02, 2.29081837e-03,\n",
              "        2.41998807e-01, 9.45545286e-02, 1.27945226e-02, 4.32750769e-03,\n",
              "        3.71431001e-02, 1.32055997e-04],\n",
              "       [5.85806963e-04, 2.89680775e-05, 4.03022813e-03, 7.72496834e-02,\n",
              "        4.10659052e-03, 5.14978710e-05, 8.07211082e-03, 1.50465086e-01,\n",
              "        1.00147910e-04, 1.27677131e-05, 2.15027086e-03, 3.32323052e-02,\n",
              "        7.28843443e-04, 1.88601553e-05, 1.86663645e-03, 1.14806241e-03,\n",
              "        1.19307868e-01, 3.02869454e-03, 1.04067907e-01, 4.19515243e-04,\n",
              "        2.83411115e-01, 1.61550149e-01, 4.11822693e-03, 1.90047435e-02,\n",
              "        2.12273523e-02, 1.65432721e-05],\n",
              "       [1.57082677e-02, 1.91426966e-02, 8.75903606e-06, 1.50154578e-04,\n",
              "        2.28256395e-04, 1.52559392e-03, 3.49600147e-03, 1.62035006e-03,\n",
              "        3.38142784e-03, 5.26093394e-02, 5.54827554e-03, 5.36595144e-06,\n",
              "        3.67841959e-01, 1.90790311e-01, 3.62582272e-04, 2.14051213e-02,\n",
              "        1.28946104e-03, 1.20110726e-02, 3.24647845e-05, 3.39955129e-02,\n",
              "        1.47687225e-03, 3.48294794e-04, 1.12652034e-03, 2.47696042e-02,\n",
              "        2.00753555e-01, 4.03721482e-02],\n",
              "       [3.62348445e-02, 1.44719006e-02, 5.40926878e-04, 4.65742871e-03,\n",
              "        7.80140166e-04, 1.44778460e-03, 1.08337728e-02, 2.30318196e-02,\n",
              "        1.44355674e-03, 1.36278141e-02, 5.98963397e-03, 1.47933446e-04,\n",
              "        1.77799478e-01, 2.58047044e-01, 5.97399753e-03, 4.76394705e-02,\n",
              "        3.83842066e-02, 9.37674288e-03, 7.63762800e-04, 2.61223055e-02,\n",
              "        4.24278565e-02, 3.10567562e-02, 8.86683911e-02, 3.20249833e-02,\n",
              "        9.94100496e-02, 2.90973820e-02],\n",
              "       [1.92155923e-07, 1.85712983e-04, 1.67000999e-05, 5.52177562e-06,\n",
              "        4.55397554e-03, 3.67982197e-04, 4.36471979e-04, 3.49927104e-05,\n",
              "        2.69931229e-03, 8.91791788e-05, 4.67770406e-05, 1.35308153e-06,\n",
              "        9.57926095e-04, 4.37433710e-06, 3.58913421e-05, 1.30795497e-05,\n",
              "        3.75517040e-08, 1.03159073e-05, 1.88222606e-04, 3.51422191e-01,\n",
              "        7.21146062e-04, 1.16729439e-07, 1.56986388e-08, 4.78261057e-03,\n",
              "        2.02339073e-03, 6.31402493e-01]], dtype=float32)"
            ]
          },
          "metadata": {},
          "execution_count": 22
        }
      ],
      "source": [
        "predicted = model2.predict(TEST_SET_2D)\n",
        "predicted"
      ]
    },
    {
      "cell_type": "code",
      "execution_count": null,
      "metadata": {
        "id": "Gd_I7bri0DMV",
        "colab": {
          "base_uri": "https://localhost:8080/"
        },
        "outputId": "f6697cf2-a883-4835-e7b4-b02f60b6e664"
      },
      "outputs": [
        {
          "output_type": "execute_result",
          "data": {
            "text/plain": [
              "[['A', 'G'],\n",
              " ['B', 'B'],\n",
              " ['C', 'S'],\n",
              " ['D', 'S'],\n",
              " ['E', 'E'],\n",
              " ['F', 'I'],\n",
              " ['G', 'G'],\n",
              " ['H', 'R'],\n",
              " ['I', 'T'],\n",
              " ['J', 'Z'],\n",
              " ['K', 'K'],\n",
              " ['L', 'E'],\n",
              " ['M', 'K'],\n",
              " ['N', 'G'],\n",
              " ['O', 'D'],\n",
              " ['P', 'P'],\n",
              " ['Q', 'Q'],\n",
              " ['R', 'B'],\n",
              " ['S', 'E'],\n",
              " ['T', 'E'],\n",
              " ['U', 'G'],\n",
              " ['V', 'U'],\n",
              " ['W', 'U'],\n",
              " ['X', 'M'],\n",
              " ['Y', 'N'],\n",
              " ['Z', 'Z']]"
            ]
          },
          "metadata": {},
          "execution_count": 23
        }
      ],
      "source": [
        "result_list = []\n",
        "for num in range(len(predicted)):\n",
        "    max_val = 0\n",
        "    actual = chr(num+ord('A'))\n",
        "    max_val = predicted[num].argmax() # Return the index that contains the largest value.\n",
        "    predict = chr(int(max_val)+ord('A'))\n",
        "    result_list.append([actual, predict])\n",
        "result_list"
      ]
    },
    {
      "cell_type": "code",
      "execution_count": null,
      "metadata": {
        "id": "YHEgSKw70ERA",
        "colab": {
          "base_uri": "https://localhost:8080/"
        },
        "outputId": "b720d191-bd9f-45a7-a463-3c9992cbcdcd"
      },
      "outputs": [
        {
          "output_type": "stream",
          "name": "stdout",
          "text": [
            "Number of images correctly classified: 26.923076923076923%\n",
            "Here are the list of test images that are misclassified and how they appear:\n",
            "Actual    Predicted\n",
            "A         G\n",
            "C         S\n",
            "D         S\n",
            "F         I\n",
            "H         R\n",
            "I         T\n",
            "J         Z\n",
            "L         E\n",
            "M         K\n",
            "N         G\n",
            "O         D\n",
            "R         B\n",
            "S         E\n",
            "T         E\n",
            "U         G\n",
            "V         U\n",
            "W         U\n",
            "X         M\n",
            "Y         N\n"
          ]
        }
      ],
      "source": [
        "list_misclassified = []\n",
        "num_total, num_correct = 26, 26\n",
        "for i in range(len(result_list)):\n",
        "    if result_list[i][0] != result_list[i][1]:\n",
        "        num_correct -= 1\n",
        "        list_misclassified.append([result_list[i][0], result_list[i][1]])\n",
        "print(\"Number of images correctly classified: {}%\".format((num_correct/num_total)*100))\n",
        "if len(list_misclassified) == 0:\n",
        "    print(\"All test images are classified correctly.\")\n",
        "else:\n",
        "    print(\"Here are the list of test images that are misclassified and how they appear:\")\n",
        "    print(\"Actual    Predicted\")\n",
        "    for i in range(len(list_misclassified)):\n",
        "        print(\"{}         {}\".format(list_misclassified[i][0], list_misclassified[i][1]))"
      ]
    },
    {
      "cell_type": "code",
      "execution_count": null,
      "metadata": {
        "id": "VEEngNBxSkHY",
        "colab": {
          "base_uri": "https://localhost:8080/"
        },
        "outputId": "fb05246e-a72a-4cb6-b249-8a8c08a47600"
      },
      "outputs": [
        {
          "output_type": "execute_result",
          "data": {
            "text/plain": [
              "array([[5.32964862e-07, 5.46984433e-04, 1.34330767e-04, 9.78852549e-05,\n",
              "        6.79163933e-01, 2.53497604e-02, 3.61135253e-03, 1.16375821e-04,\n",
              "        4.99108285e-02, 1.50684980e-04, 2.79634865e-03, 2.57091178e-03,\n",
              "        4.42598131e-04, 7.56716759e-07, 7.64838751e-06, 1.38629242e-04,\n",
              "        3.57642733e-07, 7.77950409e-05, 9.20580979e-03, 1.84192076e-01,\n",
              "        2.09142730e-04, 5.18309150e-07, 1.34443789e-08, 4.88214940e-03,\n",
              "        9.50539578e-03, 2.68871337e-02],\n",
              "       [1.44140184e-01, 6.14012405e-02, 1.03570672e-03, 6.57485425e-02,\n",
              "        2.35983985e-04, 2.30439167e-04, 3.35479006e-02, 4.82885502e-02,\n",
              "        6.15712815e-06, 3.08892049e-04, 1.15908295e-01, 4.88253497e-03,\n",
              "        4.34701294e-02, 1.18726585e-02, 4.16290626e-04, 5.43130338e-02,\n",
              "        1.25863608e-02, 3.61014873e-01, 1.17513491e-03, 1.10683650e-04,\n",
              "        1.04438758e-03, 1.53935543e-04, 2.99236961e-02, 4.60035680e-03,\n",
              "        3.54144978e-03, 4.25394865e-05],\n",
              "       [8.69653078e-08, 2.04188330e-03, 3.49302134e-08, 5.45990624e-05,\n",
              "        8.11784625e-01, 1.06809705e-01, 6.65308744e-06, 2.37984405e-05,\n",
              "        1.97952543e-03, 1.29849926e-04, 5.47616109e-02, 9.50844400e-03,\n",
              "        1.82619733e-05, 1.29570282e-07, 1.74692651e-08, 3.12895630e-03,\n",
              "        1.35313405e-09, 3.31140636e-03, 1.82983663e-03, 6.89962239e-04,\n",
              "        1.65614438e-08, 1.11417868e-10, 2.17053511e-11, 3.47468397e-03,\n",
              "        4.06368868e-04, 3.95986244e-05],\n",
              "       [3.29851204e-08, 4.32128232e-04, 6.98908542e-10, 3.99985220e-05,\n",
              "        7.93399215e-02, 8.75856280e-01, 4.53915248e-07, 1.70564738e-06,\n",
              "        1.69880909e-03, 9.66452353e-06, 1.30345980e-02, 6.45896595e-04,\n",
              "        6.93911625e-06, 6.30180239e-07, 2.42179543e-09, 1.97395869e-02,\n",
              "        3.17177729e-09, 2.30334568e-04, 2.28491408e-05, 8.86165304e-04,\n",
              "        6.92188218e-09, 7.29252525e-09, 4.31394573e-11, 8.40691675e-04,\n",
              "        7.21069379e-03, 2.62957019e-06],\n",
              "       [5.13906627e-07, 9.41997769e-06, 3.90205956e-09, 1.49992641e-08,\n",
              "        1.36643276e-03, 2.07044737e-04, 1.43035631e-05, 2.91080283e-07,\n",
              "        7.76452661e-01, 8.25443212e-03, 3.43997352e-04, 6.75369279e-07,\n",
              "        9.02228872e-04, 9.14973316e-06, 3.21650191e-08, 9.57438606e-05,\n",
              "        4.45651516e-08, 2.13456974e-06, 3.92328229e-06, 2.04597682e-01,\n",
              "        1.17601189e-06, 1.94250704e-09, 6.09004958e-10, 5.47528325e-05,\n",
              "        7.30932597e-03, 3.74017691e-04],\n",
              "       [1.84116004e-07, 3.52627261e-10, 7.70607311e-09, 6.88767032e-05,\n",
              "        2.95201294e-11, 1.23879698e-10, 1.07068979e-06, 5.33351442e-04,\n",
              "        6.13887899e-11, 1.60879057e-12, 1.03839792e-09, 2.01481141e-11,\n",
              "        1.27473131e-05, 3.66859894e-07, 1.29655509e-05, 1.78350120e-07,\n",
              "        7.02998042e-03, 6.85709125e-08, 1.45233781e-08, 1.46782796e-07,\n",
              "        8.96539167e-03, 9.81878698e-01, 3.70840280e-04, 3.93234732e-05,\n",
              "        1.08579523e-03, 3.13126458e-09],\n",
              "       [2.98519764e-09, 2.27380064e-04, 1.41153986e-08, 1.30036966e-07,\n",
              "        9.22990263e-01, 3.12763476e-03, 4.75333072e-05, 1.10007022e-07,\n",
              "        3.56172584e-02, 3.79192730e-04, 2.74236733e-03, 9.02843894e-05,\n",
              "        3.48757294e-06, 8.51506976e-10, 1.15023518e-10, 2.00900486e-05,\n",
              "        1.30038258e-10, 4.64587320e-05, 2.00210881e-04, 3.41056287e-02,\n",
              "        1.18312187e-07, 7.28160533e-13, 1.11990864e-12, 8.62886736e-05,\n",
              "        1.21130310e-04, 1.94377586e-04],\n",
              "       [4.64301884e-05, 8.60646188e-01, 2.29468733e-05, 4.03840328e-03,\n",
              "        1.31651293e-04, 6.35533943e-05, 1.75259972e-03, 1.75833447e-05,\n",
              "        1.22168694e-06, 3.85013573e-06, 1.19627989e-03, 2.23291470e-04,\n",
              "        1.63193632e-04, 9.94923812e-06, 8.67800736e-07, 1.37511445e-02,\n",
              "        5.52158554e-06, 1.17700286e-01, 9.45731590e-05, 8.66085247e-05,\n",
              "        8.98703274e-06, 4.38628356e-10, 3.76784419e-06, 1.28276561e-05,\n",
              "        1.66253485e-05, 1.66511393e-06],\n",
              "       [1.63941193e-04, 1.26048239e-04, 1.53673766e-02, 3.24765057e-03,\n",
              "        3.11118553e-09, 7.80519760e-10, 1.69689003e-02, 2.02743988e-03,\n",
              "        1.67537162e-09, 2.02555022e-08, 4.63870684e-08, 1.08429980e-07,\n",
              "        2.32599885e-03, 4.97166620e-05, 8.68384838e-01, 4.11634301e-06,\n",
              "        2.79756659e-03, 3.64036059e-05, 6.60238002e-05, 3.61954653e-06,\n",
              "        8.63616616e-02, 2.65428735e-05, 1.98915112e-03, 3.16099840e-06,\n",
              "        1.91273793e-05, 3.05396243e-05],\n",
              "       [9.34121571e-03, 1.93613339e-02, 4.19501976e-06, 8.76626218e-05,\n",
              "        2.48802127e-04, 1.48497277e-03, 2.18764064e-03, 1.48929411e-03,\n",
              "        3.79801681e-03, 6.31595924e-02, 6.06407877e-03, 4.48189030e-06,\n",
              "        3.96770507e-01, 1.53393432e-01, 2.34222665e-04, 1.78960841e-02,\n",
              "        7.67114747e-04, 1.48085803e-02, 2.73295409e-05, 3.75825353e-02,\n",
              "        7.41468801e-04, 2.20176444e-04, 6.24218548e-04, 3.55934054e-02,\n",
              "        1.86667249e-01, 4.74424399e-02],\n",
              "       [4.08370617e-08, 2.32367718e-04, 1.12529591e-07, 7.29616841e-06,\n",
              "        6.58034952e-03, 1.31266424e-02, 2.33064911e-05, 1.98775183e-07,\n",
              "        9.04869795e-01, 1.78021619e-05, 1.31639055e-04, 2.69179927e-05,\n",
              "        9.73949354e-05, 7.29392411e-07, 9.41544229e-08, 1.37987931e-03,\n",
              "        1.18714233e-07, 4.10290704e-05, 8.01914866e-05, 6.78576604e-02,\n",
              "        1.19622564e-06, 1.77760597e-08, 1.02344411e-09, 2.97680363e-05,\n",
              "        5.42774005e-03, 6.77042990e-05],\n",
              "       [1.01931859e-03, 4.20468750e-05, 2.05278610e-07, 6.59500574e-06,\n",
              "        7.53150609e-09, 1.21870158e-07, 5.62133355e-05, 1.08733848e-02,\n",
              "        3.43026652e-09, 1.57862196e-05, 3.98972588e-06, 2.92357000e-10,\n",
              "        3.49947155e-01, 6.18627548e-01, 7.59995426e-04, 2.79612432e-04,\n",
              "        5.27437942e-06, 1.76159738e-05, 2.64909357e-08, 1.15690505e-04,\n",
              "        1.39324798e-03, 3.39223079e-05, 5.10820595e-04, 3.75078106e-03,\n",
              "        2.36609112e-03, 1.01745054e-02],\n",
              "       [7.84123913e-05, 2.91706587e-04, 6.16169199e-02, 8.88420400e-05,\n",
              "        1.59467527e-05, 1.62098139e-08, 9.32372570e-01, 5.60450608e-05,\n",
              "        5.84662985e-07, 2.76329774e-06, 3.10060641e-05, 8.07778124e-05,\n",
              "        7.04650360e-04, 1.42416852e-07, 1.17295864e-03, 1.97388218e-07,\n",
              "        8.68861171e-05, 7.35042267e-05, 1.74395647e-03, 3.31980459e-06,\n",
              "        1.54908549e-03, 1.57116311e-08, 4.79606297e-06, 3.57309250e-06,\n",
              "        6.56602424e-07, 2.07488010e-05],\n",
              "       [7.43120676e-04, 1.26134751e-07, 5.46682486e-07, 1.41817527e-05,\n",
              "        8.43871034e-13, 2.57970593e-13, 5.09999263e-05, 3.37795331e-03,\n",
              "        2.16308007e-14, 3.02412595e-10, 2.43252374e-09, 2.39011632e-12,\n",
              "        2.19546468e-03, 8.08732701e-04, 2.37211839e-06, 4.17853272e-07,\n",
              "        1.82407303e-03, 3.83870201e-06, 3.18452820e-09, 8.43604440e-08,\n",
              "        1.22553483e-02, 2.40542620e-04, 9.78459835e-01, 1.96614365e-05,\n",
              "        2.08696065e-06, 5.62727791e-07],\n",
              "       [1.08048448e-06, 1.18035778e-05, 7.34951877e-09, 2.61311595e-08,\n",
              "        2.12035305e-03, 2.63204944e-04, 2.47784919e-05, 2.14239847e-07,\n",
              "        8.94872963e-01, 8.07128381e-03, 4.45049867e-04, 1.66533255e-06,\n",
              "        7.51221902e-04, 8.51034838e-06, 2.06044497e-08, 1.46566599e-04,\n",
              "        1.35762747e-07, 2.68448161e-06, 6.78869765e-06, 8.90562981e-02,\n",
              "        9.02814747e-07, 2.19218133e-09, 1.21242372e-09, 2.77545914e-05,\n",
              "        4.05457150e-03, 1.32134752e-04],\n",
              "       [4.35799166e-07, 4.38198884e-04, 1.74649394e-05, 9.17338275e-06,\n",
              "        1.03183435e-02, 9.19192622e-04, 6.84215222e-04, 5.73499929e-05,\n",
              "        4.52424539e-03, 3.34246608e-04, 1.29292355e-04, 4.39921268e-06,\n",
              "        1.54404365e-03, 1.06203643e-05, 5.02310795e-05, 4.72047468e-05,\n",
              "        6.77665000e-08, 2.57479551e-05, 3.15660611e-04, 2.89091080e-01,\n",
              "        5.85694506e-04, 9.87072113e-08, 2.03809876e-08, 7.09080091e-03,\n",
              "        3.26963561e-03, 6.80532575e-01],\n",
              "       [9.65651631e-01, 1.93949905e-04, 1.44651436e-04, 1.58099586e-03,\n",
              "        9.63818714e-09, 1.41777994e-08, 6.37250766e-03, 4.11318557e-04,\n",
              "        2.25587704e-09, 6.55461736e-06, 3.28874630e-05, 6.37924984e-07,\n",
              "        4.19019116e-03, 6.91187102e-03, 3.46366956e-04, 2.84322479e-04,\n",
              "        2.90260720e-03, 1.33179431e-03, 9.13088934e-06, 1.59598557e-07,\n",
              "        4.18642652e-04, 4.97561177e-06, 9.11266077e-03, 2.68539065e-06,\n",
              "        8.89354706e-05, 5.05143873e-07],\n",
              "       [1.24733881e-04, 5.97065389e-01, 1.65725069e-05, 3.09897936e-03,\n",
              "        2.08872128e-02, 6.10384122e-02, 2.51191412e-03, 2.52418031e-05,\n",
              "        2.47522201e-02, 7.54654408e-04, 9.59307421e-03, 3.96323681e-04,\n",
              "        2.14306451e-03, 2.81292596e-04, 7.30330657e-06, 1.32517278e-01,\n",
              "        1.42642175e-05, 8.15449730e-02, 4.93821863e-04, 4.63167764e-02,\n",
              "        7.92943683e-05, 2.05959040e-07, 2.27639657e-06, 1.50340598e-03,\n",
              "        1.38356155e-02, 9.95704089e-04],\n",
              "       [2.38255034e-05, 1.95372105e-01, 4.86706942e-02, 5.97429089e-02,\n",
              "        4.04565670e-02, 2.71211215e-03, 9.11814906e-03, 2.37479777e-04,\n",
              "        2.46865023e-03, 7.77721871e-05, 5.47493459e-04, 5.05243391e-02,\n",
              "        3.22858861e-04, 7.63574099e-06, 2.37977435e-03, 4.93332837e-03,\n",
              "        6.88475211e-06, 6.78293779e-02, 4.89829928e-01, 1.73713192e-02,\n",
              "        2.03541806e-03, 4.25282032e-08, 1.06124401e-06, 3.46700865e-04,\n",
              "        9.27226094e-04, 4.05627908e-03],\n",
              "       [8.85389625e-07, 5.39258728e-03, 5.05949371e-03, 5.10598882e-04,\n",
              "        1.09394044e-02, 1.19750557e-05, 4.91954735e-04, 2.07253848e-03,\n",
              "        1.28356269e-05, 8.26728137e-05, 9.57441371e-05, 2.38672383e-02,\n",
              "        7.85308512e-05, 4.37879351e-07, 8.23267095e-04, 4.23462006e-05,\n",
              "        3.05067438e-08, 7.07645388e-03, 9.39458489e-01, 1.66582307e-04,\n",
              "        2.65819126e-05, 4.47922290e-11, 1.12270424e-08, 3.05036607e-04,\n",
              "        1.43427587e-06, 3.48301791e-03],\n",
              "       [1.25832579e-04, 6.44029933e-05, 2.69427261e-07, 1.48502124e-07,\n",
              "        3.32058338e-03, 6.53316829e-06, 2.51835998e-04, 8.20427013e-05,\n",
              "        8.18258268e-04, 9.79137897e-01, 5.41471236e-04, 1.28154318e-06,\n",
              "        4.24470566e-03, 4.34263566e-05, 3.37771922e-07, 8.28952398e-05,\n",
              "        1.43798388e-06, 2.83330337e-05, 1.08571126e-04, 2.68956856e-03,\n",
              "        4.21048026e-05, 4.73107886e-10, 6.11505513e-08, 1.30166241e-04,\n",
              "        7.67140184e-04, 7.51066534e-03],\n",
              "       [1.39879330e-06, 1.71430319e-08, 1.40043048e-05, 3.25727538e-04,\n",
              "        2.99719034e-07, 1.39981871e-09, 1.81336276e-04, 5.04356250e-02,\n",
              "        1.17902632e-09, 3.72909970e-09, 2.11193850e-07, 6.66951783e-09,\n",
              "        2.05511096e-04, 3.12969320e-07, 1.34216694e-04, 2.71069695e-07,\n",
              "        2.09530073e-04, 7.30202373e-07, 6.89837470e-05, 9.69886605e-05,\n",
              "        9.44019973e-01, 2.35845800e-03, 1.15567251e-04, 6.17604353e-04,\n",
              "        1.16870948e-03, 4.44997277e-05],\n",
              "       [3.86442407e-04, 2.68090462e-05, 6.14919574e-12, 8.90541418e-09,\n",
              "        6.26220453e-09, 6.44304610e-09, 3.78747472e-06, 1.07386219e-03,\n",
              "        1.05770642e-10, 5.01347124e-04, 2.88101030e-04, 1.23880255e-11,\n",
              "        9.30877805e-01, 5.99377677e-02, 6.24670848e-09, 8.08474506e-05,\n",
              "        7.32075023e-07, 1.31885652e-04, 2.62355221e-10, 6.17827709e-06,\n",
              "        2.11577614e-07, 9.71733272e-09, 1.85768859e-05, 6.06284803e-03,\n",
              "        3.36794357e-04, 2.66023562e-04],\n",
              "       [2.51211131e-05, 4.80793789e-02, 1.17388453e-07, 5.22558065e-03,\n",
              "        1.64534349e-03, 9.26722661e-02, 1.39446647e-05, 9.60312682e-05,\n",
              "        8.83866087e-05, 2.33622759e-05, 1.50977969e-02, 1.05065142e-03,\n",
              "        2.93529098e-04, 4.43491386e-04, 8.46336604e-07, 7.84833133e-01,\n",
              "        6.41161932e-06, 2.89835408e-02, 4.97566471e-05, 5.39809291e-04,\n",
              "        1.35158325e-06, 1.18398032e-06, 7.68608402e-07, 8.47132411e-04,\n",
              "        1.99782513e-02, 2.95288942e-06],\n",
              "       [1.73779808e-05, 2.48787330e-07, 6.37639732e-06, 4.59928451e-05,\n",
              "        1.27928191e-12, 2.82725205e-13, 4.35111532e-03, 1.39800832e-05,\n",
              "        1.73462026e-11, 8.40757325e-11, 7.53953427e-11, 5.67337496e-11,\n",
              "        8.31676662e-05, 7.06314893e-07, 3.01674032e-03, 1.64460658e-07,\n",
              "        9.73434627e-01, 3.66595259e-07, 3.97924182e-08, 5.37043476e-09,\n",
              "        1.02659101e-02, 1.44346675e-04, 8.61722603e-03, 2.83238144e-08,\n",
              "        1.55661974e-06, 9.58967683e-10],\n",
              "       [7.16466457e-05, 1.41519445e-06, 8.69755822e-05, 5.08632336e-04,\n",
              "        1.41603396e-10, 1.35130754e-10, 1.58401637e-03, 2.36173882e-03,\n",
              "        1.45650964e-10, 8.87366569e-10, 5.70992942e-09, 1.18106178e-10,\n",
              "        1.89396879e-03, 1.50714201e-04, 1.83243472e-02, 1.39693657e-06,\n",
              "        5.93950646e-03, 2.49875870e-06, 3.59495886e-07, 1.37947927e-05,\n",
              "        9.27823186e-01, 8.30201898e-03, 3.25788669e-02, 4.67226673e-05,\n",
              "        2.73705227e-04, 3.44757173e-05],\n",
              "       [1.30081421e-08, 9.05086999e-05, 3.47421469e-08, 1.47569381e-06,\n",
              "        5.64468792e-03, 5.33345342e-03, 1.20770719e-05, 6.10454691e-08,\n",
              "        9.44538713e-01, 1.77713882e-05, 8.90247175e-05, 1.56702026e-05,\n",
              "        3.63040381e-05, 1.23145071e-07, 1.38175462e-08, 3.60790902e-04,\n",
              "        2.42817908e-08, 2.11537954e-05, 4.35186303e-05, 4.22952510e-02,\n",
              "        3.23065109e-07, 1.49425461e-09, 1.69683545e-10, 1.13868418e-05,\n",
              "        1.45991752e-03, 2.77389718e-05],\n",
              "       [1.55607006e-04, 2.28419900e-03, 8.42114985e-01, 1.50572872e-02,\n",
              "        2.94704587e-05, 1.71771273e-06, 9.60586146e-02, 1.36162591e-04,\n",
              "        1.82516112e-06, 2.11483339e-07, 6.00660042e-06, 2.27197423e-03,\n",
              "        2.43853487e-04, 2.47453022e-06, 2.14576256e-02, 1.71564589e-05,\n",
              "        2.67640658e-04, 3.29858740e-04, 1.49865877e-02, 1.81020732e-05,\n",
              "        4.44374513e-03, 2.98700002e-06, 6.76623458e-05, 3.78423897e-06,\n",
              "        1.66972095e-05, 2.37366821e-05],\n",
              "       [6.77159733e-07, 8.93989520e-04, 1.12109044e-09, 7.72830208e-06,\n",
              "        4.55512665e-02, 8.87779333e-03, 5.19728201e-06, 2.42723298e-04,\n",
              "        1.55327798e-04, 1.17665553e-03, 8.99819255e-01, 9.43548861e-04,\n",
              "        2.20194866e-04, 1.79790129e-06, 6.47795240e-09, 3.35635571e-03,\n",
              "        1.26042350e-08, 1.36306211e-02, 6.65182379e-05, 1.27726889e-04,\n",
              "        1.27448345e-08, 3.34024697e-10, 3.91140592e-10, 2.45305374e-02,\n",
              "        3.77674471e-04, 1.44133710e-05],\n",
              "       [1.16054503e-06, 1.90705562e-03, 1.14905811e-03, 2.69726641e-03,\n",
              "        2.35976670e-02, 7.42921693e-05, 7.02152611e-04, 1.28892025e-05,\n",
              "        2.13743510e-06, 4.14349216e-07, 1.83525286e-03, 9.38280761e-01,\n",
              "        1.29536079e-06, 4.23826263e-09, 3.30582168e-07, 9.39315651e-05,\n",
              "        3.63137531e-07, 2.23414274e-03, 2.73913983e-02, 4.53635266e-06,\n",
              "        3.21229800e-06, 5.39768619e-10, 1.05976516e-08, 7.48521052e-06,\n",
              "        3.05807794e-06, 1.05625844e-07],\n",
              "       [6.39960035e-06, 1.49450847e-04, 3.38464701e-10, 4.21647570e-07,\n",
              "        4.03177663e-04, 5.08930162e-03, 1.60878863e-05, 6.53973893e-06,\n",
              "        3.67359933e-03, 4.09989618e-03, 5.87166054e-03, 1.79704372e-07,\n",
              "        1.65046621e-02, 1.85258780e-03, 2.66125141e-07, 6.95052790e-03,\n",
              "        7.71171983e-07, 3.11673830e-05, 9.17638801e-08, 4.36457843e-02,\n",
              "        3.07701657e-06, 1.95301141e-06, 9.50685504e-08, 1.08494079e-02,\n",
              "        8.98175120e-01, 2.66779237e-03]], dtype=float32)"
            ]
          },
          "metadata": {},
          "execution_count": 25
        }
      ],
      "source": [
        "predicted_message = model2.predict(MESSAGE_2D)\n",
        "predicted_message"
      ]
    },
    {
      "cell_type": "code",
      "execution_count": null,
      "metadata": {
        "id": "s3jvVHJvSclF",
        "colab": {
          "base_uri": "https://localhost:8080/"
        },
        "outputId": "60da87f5-26d9-492c-ca3f-35b87b6d49b5"
      },
      "outputs": [
        {
          "output_type": "stream",
          "name": "stdout",
          "text": [
            "EREFIVEBOMINGWIZABSSJUMPQUICKLY\n"
          ]
        }
      ],
      "source": [
        "message_list = \"\"\n",
        "for num in range(len(predicted_message)):\n",
        "    max_val = 0\n",
        "    max_val = predicted_message[num].argmax() # Return the index that contains the largest value.\n",
        "    predict = chr(int(max_val)+ord('A'))\n",
        "    message_list += predict\n",
        "print(message_list)"
      ]
    },
    {
      "cell_type": "code",
      "execution_count": null,
      "metadata": {
        "id": "tv11X09hSb3X",
        "colab": {
          "base_uri": "https://localhost:8080/"
        },
        "outputId": "ac636bbb-8473-4142-8bcc-af1857d86df2"
      },
      "outputs": [
        {
          "output_type": "stream",
          "name": "stdout",
          "text": [
            "Accuracy between predicted and actual message: 83.87096774193549%\n",
            "Here is the list of letters that are a mismatch between predicted and actual message:\n",
            "Actual    Predicted\n",
            "T         E\n",
            "H         R\n",
            "X         M\n",
            "R         B\n",
            "D         S\n"
          ]
        }
      ],
      "source": [
        "actual_message = \"THEFIVEBOXINGWIZARDSJUMPQUICKLY\"\n",
        "list_mismatch = []\n",
        "num_total, num_correct = len(actual_message), len(message_list)\n",
        "for i in range(len(actual_message)):\n",
        "    if message_list[i] != actual_message[i]:\n",
        "        num_correct -= 1\n",
        "        list_mismatch.append([actual_message[i], message_list[i]])\n",
        "print(\"Accuracy between predicted and actual message: {}%\".format((num_correct/num_total)*100))\n",
        "if len(list_mismatch) == 0:\n",
        "    print(\"The message appears to be decoded correctly.\")\n",
        "else:\n",
        "    print(\"Here is the list of letters that are a mismatch between predicted and actual message:\")\n",
        "    print(\"Actual    Predicted\")\n",
        "    for i in range(len(list_mismatch)):\n",
        "        print(\"{}         {}\".format(list_mismatch[i][0], list_mismatch[i][1]))"
      ]
    },
    {
      "cell_type": "markdown",
      "metadata": {
        "id": "QZPpiD5BrI6i"
      },
      "source": [
        "# Does the performance improve?"
      ]
    },
    {
      "cell_type": "markdown",
      "metadata": {
        "id": "r-GVfQg0rJyH"
      },
      "source": [
        "## A: No, the performance does not improve simply by adding more hidden layers."
      ]
    },
    {
      "cell_type": "markdown",
      "metadata": {
        "id": "aFxJNZe6gfw-"
      },
      "source": [
        "# 8. Repeat experiment (7), adding additional layers of the same size until the message is decoded correctly. What results do you observe?"
      ]
    },
    {
      "cell_type": "code",
      "execution_count": null,
      "metadata": {
        "id": "dKLc7F4KpJ2m"
      },
      "outputs": [],
      "source": [
        "model3 = tf.keras.models.Sequential()\n",
        "model3.add(tf.keras.Input(shape=(256,)))\n",
        "model3.add(tf.keras.layers.Dense(32, activation=tf.keras.activations.relu, name=\"Hidden_layer1\"))\n",
        "model3.add(tf.keras.layers.Dense(32, activation=tf.keras.activations.relu, name=\"Hidden_layer2\"))\n",
        "model3.add(tf.keras.layers.Dense(32, activation=tf.keras.activations.relu, name=\"Hidden_layer3\"))\n",
        "model3.add(tf.keras.layers.Dense(32, activation=tf.keras.activations.relu, name=\"Hidden_layer4\"))\n",
        "model3.add(tf.keras.layers.Dense(32, activation=tf.keras.activations.relu, name=\"Hidden_layer5\"))\n",
        "model3.add(tf.keras.layers.Dense(26, activation=tf.keras.activations.softmax, name=\"Output_layer\"))\n",
        "\n",
        "model3.summary()\n",
        "model3.compile(optimizer=tf.keras.optimizers.Adam(learning_rate=0.001),\n",
        "             loss=tf.keras.losses.CategoricalCrossentropy(),\n",
        "             metrics=[tf.keras.metrics.CategoricalAccuracy()])\n",
        "callback = tf.keras.callbacks.EarlyStopping(monitor=\"categorical_accuracy\", patience=50, restore_best_weights=False)\n",
        "model3.fit(x=TRAINING_SET_2D, y=unicode_cat_train, epochs=9999, verbose=2, callbacks=[callback])\n",
        "model3.evaluate(x=TEST_SET_2D, y=unicode_cat_test, verbose=1)\n"
      ]
    },
    {
      "cell_type": "code",
      "execution_count": null,
      "metadata": {
        "id": "lSGEDvpk6hBt"
      },
      "outputs": [],
      "source": [
        "predicted = model3.predict(TEST_SET_2D)\n",
        "predicted"
      ]
    },
    {
      "cell_type": "code",
      "execution_count": null,
      "metadata": {
        "id": "N0JsYeXi6h2V"
      },
      "outputs": [],
      "source": [
        "result_list = []\n",
        "for num in range(len(predicted)):\n",
        "    max_val = 0\n",
        "    actual = chr(num+ord('A'))\n",
        "    max_val = predicted[num].argmax() # Return the index that contains the largest value.\n",
        "    predict = chr(int(max_val)+ord('A'))\n",
        "    result_list.append([actual, predict])\n",
        "result_list"
      ]
    },
    {
      "cell_type": "code",
      "execution_count": null,
      "metadata": {
        "id": "E3qg5Hv66nmy",
        "colab": {
          "base_uri": "https://localhost:8080/"
        },
        "outputId": "6f2263fa-3b6b-49a8-ab92-da30fdbbf7e1"
      },
      "outputs": [
        {
          "output_type": "stream",
          "name": "stdout",
          "text": [
            "Number of images correctly classified: 26.923076923076923%\n",
            "Here are the list of test images that are misclassified and how they appear:\n",
            "Actual    Predicted\n",
            "A         B\n",
            "B         E\n",
            "C         J\n",
            "G         S\n",
            "H         W\n",
            "I         T\n",
            "K         Y\n",
            "M         U\n",
            "N         V\n",
            "O         D\n",
            "P         I\n",
            "R         I\n",
            "T         S\n",
            "U         V\n",
            "V         A\n",
            "W         V\n",
            "X         Y\n",
            "Y         V\n",
            "Z         E\n"
          ]
        }
      ],
      "source": [
        "list_misclassified = []\n",
        "num_total, num_correct = 26, 26\n",
        "for i in range(len(result_list)):\n",
        "    if result_list[i][0] != result_list[i][1]:\n",
        "        num_correct -= 1\n",
        "        list_misclassified.append([result_list[i][0], result_list[i][1]])\n",
        "print(\"Number of images correctly classified: {}%\".format((num_correct/num_total)*100))\n",
        "if len(list_misclassified) == 0:\n",
        "    print(\"All test images are classified correctly.\")\n",
        "else:\n",
        "    print(\"Here are the list of test images that are misclassified and how they appear:\")\n",
        "    print(\"Actual    Predicted\")\n",
        "    for i in range(len(list_misclassified)):\n",
        "        print(\"{}         {}\".format(list_misclassified[i][0], list_misclassified[i][1]))"
      ]
    },
    {
      "cell_type": "code",
      "execution_count": null,
      "metadata": {
        "id": "bU1DX5QZ6oyb"
      },
      "outputs": [],
      "source": [
        "predicted_message = model3.predict(MESSAGE_2D)\n",
        "predicted_message"
      ]
    },
    {
      "cell_type": "code",
      "execution_count": null,
      "metadata": {
        "id": "nG-Us71Z6pha",
        "colab": {
          "base_uri": "https://localhost:8080/"
        },
        "outputId": "d9efac74-e1e9-420b-8dd9-c7b9438a710c"
      },
      "outputs": [
        {
          "output_type": "stream",
          "name": "stdout",
          "text": [
            "EWEFIVKBOYINGWIEAIDSJUMPQUICKLY\n"
          ]
        }
      ],
      "source": [
        "message_list = \"\"\n",
        "for num in range(len(predicted_message)):\n",
        "    max_val = 0\n",
        "    max_val = predicted_message[num].argmax() # Return the index that contains the largest value.\n",
        "    predict = chr(int(max_val)+ord('A'))\n",
        "    message_list += predict\n",
        "print(message_list)"
      ]
    },
    {
      "cell_type": "code",
      "execution_count": null,
      "metadata": {
        "id": "OKPnYAN1Smjt",
        "colab": {
          "base_uri": "https://localhost:8080/"
        },
        "outputId": "cfb14350-e7e5-4581-9b10-1e1c12ffe431"
      },
      "outputs": [
        {
          "output_type": "stream",
          "name": "stdout",
          "text": [
            "Accuracy between predicted and actual message: 80.64516129032258%\n",
            "Here is the list of letters that are a mismatch between predicted and actual message:\n",
            "Actual    Predicted\n",
            "T         E\n",
            "H         W\n",
            "E         K\n",
            "X         Y\n",
            "Z         E\n",
            "R         I\n"
          ]
        }
      ],
      "source": [
        "actual_message = \"THEFIVEBOXINGWIZARDSJUMPQUICKLY\"\n",
        "list_mismatch = []\n",
        "num_total, num_correct = len(actual_message), len(message_list)\n",
        "for i in range(len(actual_message)):\n",
        "    if message_list[i] != actual_message[i]:\n",
        "        num_correct -= 1\n",
        "        list_mismatch.append([actual_message[i], message_list[i]])\n",
        "print(\"Accuracy between predicted and actual message: {}%\".format((num_correct/num_total)*100))\n",
        "if len(list_mismatch) == 0:\n",
        "    print(\"The message appears to be decoded correctly.\")\n",
        "else:\n",
        "    print(\"Here is the list of letters that are a mismatch between predicted and actual message:\")\n",
        "    print(\"Actual    Predicted\")\n",
        "    for i in range(len(list_mismatch)):\n",
        "        print(\"{}         {}\".format(list_mismatch[i][0], list_mismatch[i][1]))"
      ]
    },
    {
      "cell_type": "markdown",
      "metadata": {
        "id": "L8Fgx3s06qmg"
      },
      "source": [
        "## A: As more hidden layers are added, the categorical accuracy obtained will gradually worsen due to overfitting."
      ]
    },
    {
      "cell_type": "markdown",
      "metadata": {
        "id": "HsXHxW4a0kl1"
      },
      "source": [
        "# 9. Load the EMNIST Letters dataset, and use plt.imshow() to verify that the image data has been loaded correctly and that the corresponding labels are correct."
      ]
    },
    {
      "cell_type": "code",
      "execution_count": null,
      "metadata": {
        "id": "hRZJslkA89H7"
      },
      "outputs": [],
      "source": [
        "from matplotlib import pyplot as plt # Needed to do matplotlib operations\n",
        "emnist_data = np.load('emnist_letters.npz')\n",
        "\n",
        "train_img = emnist_data['train_images']\n",
        "train_label = emnist_data['train_labels']\n",
        "\n",
        "test_img = emnist_data['test_images']\n",
        "test_label = emnist_data['test_labels']\n",
        "\n",
        "validate_img = emnist_data['validate_images']\n",
        "validate_label = emnist_data['validate_labels']\n",
        "\n",
        "\n",
        "train_img = train_img.reshape((104000, 28, 28))\n",
        "train_img = train_img.astype(\"float32\") / 255\n",
        "test_img = test_img.reshape((20800, 28, 28))\n",
        "test_img = test_img.astype(\"float32\") / 255\n",
        "validate_img = validate_img.reshape((20800, 28, 28))\n",
        "validate_img = validate_img.astype(\"float32\") / 255"
      ]
    },
    {
      "cell_type": "code",
      "execution_count": null,
      "metadata": {
        "id": "toUOFe1X8_yS",
        "colab": {
          "base_uri": "https://localhost:8080/"
        },
        "outputId": "ea76d240-665f-4dac-bf60-21d911eac99e"
      },
      "outputs": [
        {
          "output_type": "stream",
          "name": "stdout",
          "text": [
            "<numpy.lib.npyio.NpzFile object at 0x7f4b88b78b50>\n",
            "Train_img shape:  (104000, 28, 28)\n",
            "Train_label shape:  (104000, 27)\n",
            "Test_img shape:  (20800, 28, 28)\n",
            "Test_label shape:  (20800, 27)\n",
            "Validate_img shape:  (20800, 28, 28)\n",
            "Validate_label shape:  (20800, 27)\n"
          ]
        }
      ],
      "source": [
        "print(emnist_data)\n",
        "print(\"Train_img shape: \", train_img.shape)\n",
        "print(\"Train_label shape: \", train_label.shape)\n",
        "print(\"Test_img shape: \", test_img.shape)\n",
        "print(\"Test_label shape: \", test_label.shape)\n",
        "print(\"Validate_img shape: \", validate_img.shape)\n",
        "print(\"Validate_label shape: \", validate_label.shape)"
      ]
    },
    {
      "cell_type": "code",
      "execution_count": null,
      "metadata": {
        "id": "lBrBavugSwy9",
        "colab": {
          "base_uri": "https://localhost:8080/",
          "height": 300
        },
        "outputId": "4ed69985-0c02-47a7-916f-c9fffde6edc6"
      },
      "outputs": [
        {
          "output_type": "stream",
          "name": "stdout",
          "text": [
            "Label of the image:  [0. 0. 0. 0. 0. 0. 0. 0. 0. 0. 0. 0. 0. 0. 0. 0. 0. 0. 0. 0. 0. 0. 0. 1.\n",
            " 0. 0. 0.]\n"
          ]
        },
        {
          "output_type": "display_data",
          "data": {
            "text/plain": [
              "<Figure size 432x288 with 1 Axes>"
            ],
            "image/png": "[encoded data removed]"
          },
          "metadata": {
            "needs_background": "light"
          }
        }
      ],
      "source": [
        "# Print out the first 3 letters.\n",
        "plt.imshow(train_img[0].reshape(28, 28))\n",
        "print(\"Label of the image: \",train_label[0])"
      ]
    },
    {
      "cell_type": "code",
      "source": [
        "print(chr(np.argmax(train_label[0])-1+ord('A')))"
      ],
      "metadata": {
        "id": "e_HeVmiwkyXH",
        "colab": {
          "base_uri": "https://localhost:8080/"
        },
        "outputId": "a71b5465-ba2e-4a18-9c11-c97915e8952f"
      },
      "execution_count": null,
      "outputs": [
        {
          "output_type": "stream",
          "name": "stdout",
          "text": [
            "W\n"
          ]
        }
      ]
    },
    {
      "cell_type": "code",
      "execution_count": null,
      "metadata": {
        "id": "KKtfxZWXSxuK",
        "colab": {
          "base_uri": "https://localhost:8080/",
          "height": 300
        },
        "outputId": "fda3a313-ddbf-4a78-f61d-734107a09476"
      },
      "outputs": [
        {
          "output_type": "stream",
          "name": "stdout",
          "text": [
            "Label of the image:  [0. 0. 0. 0. 0. 0. 0. 1. 0. 0. 0. 0. 0. 0. 0. 0. 0. 0. 0. 0. 0. 0. 0. 0.\n",
            " 0. 0. 0.]\n"
          ]
        },
        {
          "output_type": "display_data",
          "data": {
            "text/plain": [
              "<Figure size 432x288 with 1 Axes>"
            ],
            "image/png": "[encoded data removed]"
          },
          "metadata": {
            "needs_background": "light"
          }
        }
      ],
      "source": [
        "plt.imshow(train_img[1].reshape(28, 28))\n",
        "print(\"Label of the image: \",train_label[1])"
      ]
    },
    {
      "cell_type": "code",
      "source": [
        "print(chr(np.argmax(train_label[1])-1+ord('A')))"
      ],
      "metadata": {
        "id": "k4MVDC-7k230",
        "colab": {
          "base_uri": "https://localhost:8080/"
        },
        "outputId": "192237a1-04fc-47b2-ae91-0e6a86fbc3cf"
      },
      "execution_count": null,
      "outputs": [
        {
          "output_type": "stream",
          "name": "stdout",
          "text": [
            "G\n"
          ]
        }
      ]
    },
    {
      "cell_type": "code",
      "execution_count": null,
      "metadata": {
        "id": "etH3aPdVSyli",
        "colab": {
          "base_uri": "https://localhost:8080/",
          "height": 300
        },
        "outputId": "d4c1bf93-2cca-48d2-c24c-fbe86f41fec7"
      },
      "outputs": [
        {
          "output_type": "stream",
          "name": "stdout",
          "text": [
            "Label of the image:  [0. 0. 0. 0. 0. 0. 0. 0. 0. 0. 0. 0. 0. 0. 0. 0. 1. 0. 0. 0. 0. 0. 0. 0.\n",
            " 0. 0. 0.]\n"
          ]
        },
        {
          "output_type": "display_data",
          "data": {
            "text/plain": [
              "<Figure size 432x288 with 1 Axes>"
            ],
            "image/png": "[encoded data removed]"
          },
          "metadata": {
            "needs_background": "light"
          }
        }
      ],
      "source": [
        "plt.imshow(train_img[2].reshape(28, 28))\n",
        "print(\"Label of the image: \",train_label[2])"
      ]
    },
    {
      "cell_type": "code",
      "source": [
        "print(chr(np.argmax(train_label[2])-1+ord('A')))"
      ],
      "metadata": {
        "id": "8c1v-90Dk4_p",
        "colab": {
          "base_uri": "https://localhost:8080/"
        },
        "outputId": "5b59e166-8824-4563-c25f-3291a5486449"
      },
      "execution_count": null,
      "outputs": [
        {
          "output_type": "stream",
          "name": "stdout",
          "text": [
            "P\n"
          ]
        }
      ]
    },
    {
      "cell_type": "markdown",
      "metadata": {
        "id": "BN-IAng3ZLBq"
      },
      "source": [
        "#10.\tApply the network architecture from Chollet’s MNIST notebook to the EMNIST Letters data. (You will need to modify the numbers of inputs and outputs, but should leave the dense layer intact.) What accuracy do you achieve? How does this compare with the accuracy for MNIST?"
      ]
    },
    {
      "cell_type": "code",
      "execution_count": null,
      "metadata": {
        "id": "d-1IoC8MkxMW"
      },
      "outputs": [],
      "source": [
        "new_train_label = []\n",
        "\n",
        "for i in range(len(train_label)):\n",
        "  num_letter = 0\n",
        "  for j in range(len(train_label[0])):\n",
        "    if train_label[i][j]==0:\n",
        "      num_letter+=1\n",
        "    else:\n",
        "      new_train_label.append(num_letter)\n"
      ]
    },
    {
      "cell_type": "code",
      "execution_count": null,
      "metadata": {
        "id": "6x52iDR-mWhr",
        "colab": {
          "base_uri": "https://localhost:8080/"
        },
        "outputId": "a98b9a5b-a172-40bf-c1bb-0d509aa28654"
      },
      "outputs": [
        {
          "output_type": "stream",
          "name": "stdout",
          "text": [
            "[23  7 16 ... 21 23 25]\n"
          ]
        }
      ],
      "source": [
        "new_train_label=np.array(new_train_label)\n",
        "print(new_train_label)\n"
      ]
    },
    {
      "cell_type": "code",
      "execution_count": null,
      "metadata": {
        "id": "Rmq9wPE2ZFi3"
      },
      "outputs": [],
      "source": [
        "from tensorflow import keras\n",
        "from tensorflow.keras import layers\n",
        "model = keras.Sequential([\n",
        "    layers.Flatten(),\n",
        "    layers.Dense(512, activation=\"relu\"),\n",
        "    layers.Dense(27, activation=\"softmax\")\n",
        "])"
      ]
    },
    {
      "cell_type": "code",
      "execution_count": null,
      "metadata": {
        "id": "Lm6VeBbIZ5o2"
      },
      "outputs": [],
      "source": [
        "# from keras.utils import np_utils\n",
        "\n",
        "\n",
        "# print(\"Train_label shape: \", train_label.shape)\n",
        "# print(\"Train_label shape: \", train_img.shape)"
      ]
    },
    {
      "cell_type": "code",
      "execution_count": null,
      "metadata": {
        "id": "sxYW7FbAZUr_"
      },
      "outputs": [],
      "source": [
        "model.compile(optimizer=\"rmsprop\",\n",
        "              loss=\"categorical_crossentropy\",\n",
        "              metrics=[\"accuracy\"])"
      ]
    },
    {
      "cell_type": "code",
      "execution_count": null,
      "metadata": {
        "id": "EBI8lFbQZWzh",
        "colab": {
          "base_uri": "https://localhost:8080/"
        },
        "outputId": "8cfb1179-54f4-4a91-fde9-d322e1c21714"
      },
      "outputs": [
        {
          "output_type": "stream",
          "name": "stdout",
          "text": [
            "Epoch 1/5\n",
            "813/813 [==============================] - 9s 10ms/step - loss: 2.3251 - accuracy: 0.4256\n",
            "Epoch 2/5\n",
            "813/813 [==============================] - 8s 10ms/step - loss: 1.4017 - accuracy: 0.5980\n",
            "Epoch 3/5\n",
            "813/813 [==============================] - 8s 10ms/step - loss: 1.2061 - accuracy: 0.6482\n",
            "Epoch 4/5\n",
            "813/813 [==============================] - 8s 10ms/step - loss: 1.1213 - accuracy: 0.6714\n",
            "Epoch 5/5\n",
            "813/813 [==============================] - 8s 10ms/step - loss: 1.0645 - accuracy: 0.6895\n"
          ]
        },
        {
          "output_type": "execute_result",
          "data": {
            "text/plain": [
              "<keras.callbacks.History at 0x7f4b88c33cd0>"
            ]
          },
          "metadata": {},
          "execution_count": 48
        }
      ],
      "source": [
        "model.fit(train_img, train_label, epochs=5, batch_size=128)"
      ]
    },
    {
      "cell_type": "code",
      "source": [
        "model.evaluate(test_img, test_label, verbose=1)"
      ],
      "metadata": {
        "id": "8RZUVN934VGA",
        "colab": {
          "base_uri": "https://localhost:8080/"
        },
        "outputId": "3db2c8ed-baa1-4a67-eb0d-9fd8456c290c"
      },
      "execution_count": null,
      "outputs": [
        {
          "output_type": "stream",
          "name": "stdout",
          "text": [
            "650/650 [==============================] - 2s 2ms/step - loss: 1.0503 - accuracy: 0.6961\n"
          ]
        },
        {
          "output_type": "execute_result",
          "data": {
            "text/plain": [
              "[1.0503337383270264, 0.6961057782173157]"
            ]
          },
          "metadata": {},
          "execution_count": 49
        }
      ]
    },
    {
      "cell_type": "markdown",
      "metadata": {
        "id": "oahb36Taqp13"
      },
      "source": [
        "## A: The accuracy we obtained for the EMNIST Letters data was 69.1%, which is lower than the 98.89% accuracy that Chollet's notebook obtained for the MNIST data."
      ]
    },
    {
      "cell_type": "markdown",
      "metadata": {
        "id": "pm7htN1Tc4r6"
      },
      "source": [
        "MNIST accuracy from Chollet's notebook\n",
        "\n",
        "Epoch 1/5\n",
        "469/469 [==============================] - 5s 10ms/step - loss: 0.2580 - accuracy: 0.9250\n",
        "\n",
        "Epoch 2/5\n",
        "469/469 [==============================] - 4s 9ms/step - loss: 0.1030 - accuracy: 0.9697\n",
        "\n",
        "Epoch 3/5\n",
        "469/469 [==============================] - 4s 10ms/step - loss: 0.0673 - accuracy: 0.9805\n",
        "\n",
        "Epoch 4/5\n",
        "469/469 [==============================] - 5s 10ms/step - loss: 0.0487 - accuracy: 0.9857\n",
        "\n",
        "Epoch 5/5\n",
        "469/469 [==============================] - 5s 10ms/step - loss: 0.0373 - accuracy: 0.9889\n",
        "\n",
        "<keras.callbacks.History at 0x7f0e79b5ec90>"
      ]
    },
    {
      "cell_type": "markdown",
      "metadata": {
        "id": "1bIgW6jorVct"
      },
      "source": [
        "# 11.\tKeeping the same number of layers in the network (i.e. an MLP with a single hidden layer), modify the architecture to improve the accuracy. You will need to decide on an appropriate number of neurons in the hidden layer. Keep in mind that:\n",
        "\n",
        ">a.\tThere are 27 classes rather than 10, so you will need a larger hidden layer than the MNIST network.\n",
        "\n",
        ">b.\tIn addition to having more classes, EMNIST Letters mixes upper- and lowercase letters within each class, so even with enough neurons in the hidden layer, your accuracy is likely to be lower.  See the details in the EMNIST paper for the kind of performance you might reasonably expect.\n",
        "\n",
        ">c.\tThe Keras fit() method can take a validation_data parameter in order to evaluate metrics on the validation set.\n"
      ]
    },
    {
      "cell_type": "code",
      "execution_count": null,
      "metadata": {
        "id": "6Rm2rLsJroSP"
      },
      "outputs": [],
      "source": [
        "model2 = keras.Sequential([\n",
        "    layers.Flatten(),\n",
        "    layers.Dense(1024, activation=\"relu\"),     #doubled the dense layer 512 (acc:69%)->1024 (acc:71%)\n",
        "    layers.Dense(27, activation=\"softmax\")\n",
        "])"
      ]
    },
    {
      "cell_type": "code",
      "execution_count": null,
      "metadata": {
        "id": "zbMhL5Vkrvd9"
      },
      "outputs": [],
      "source": [
        "model2.compile(optimizer=\"rmsprop\",\n",
        "              loss=\"categorical_crossentropy\",\n",
        "              metrics=[\"accuracy\"])"
      ]
    },
    {
      "cell_type": "code",
      "execution_count": null,
      "metadata": {
        "id": "Cc5bB4TftF05",
        "colab": {
          "base_uri": "https://localhost:8080/"
        },
        "outputId": "10369635-fc2d-4502-e102-99379616c6c8"
      },
      "outputs": [
        {
          "output_type": "stream",
          "name": "stdout",
          "text": [
            "Epoch 1/5\n",
            "813/813 [==============================] - 16s 19ms/step - loss: 2.0947 - accuracy: 0.4636 - val_loss: 1.4247 - val_accuracy: 0.5965\n",
            "Epoch 2/5\n",
            "813/813 [==============================] - 15s 19ms/step - loss: 1.2749 - accuracy: 0.6303 - val_loss: 1.1770 - val_accuracy: 0.6613\n",
            "Epoch 3/5\n",
            "813/813 [==============================] - 15s 19ms/step - loss: 1.1246 - accuracy: 0.6715 - val_loss: 1.0820 - val_accuracy: 0.6891\n",
            "Epoch 4/5\n",
            "813/813 [==============================] - 15s 18ms/step - loss: 1.0426 - accuracy: 0.6959 - val_loss: 1.0123 - val_accuracy: 0.7099\n",
            "Epoch 5/5\n",
            "813/813 [==============================] - 15s 18ms/step - loss: 0.9698 - accuracy: 0.7184 - val_loss: 0.9362 - val_accuracy: 0.7325\n"
          ]
        },
        {
          "output_type": "execute_result",
          "data": {
            "text/plain": [
              "<keras.callbacks.History at 0x7f4b820c8090>"
            ]
          },
          "metadata": {},
          "execution_count": 52
        }
      ],
      "source": [
        "model2.fit(train_img, train_label, validation_data=(validate_img, validate_label), epochs=5, batch_size=128)"
      ]
    },
    {
      "cell_type": "code",
      "source": [
        "model2.evaluate(test_img, test_label, verbose=1)"
      ],
      "metadata": {
        "id": "JCLtxtCd4TFa",
        "colab": {
          "base_uri": "https://localhost:8080/"
        },
        "outputId": "a05c19fc-eb9d-40fa-fbc7-f5cf65bb89fd"
      },
      "execution_count": null,
      "outputs": [
        {
          "output_type": "stream",
          "name": "stdout",
          "text": [
            "650/650 [==============================] - 3s 4ms/step - loss: 0.9436 - accuracy: 0.7295\n"
          ]
        },
        {
          "output_type": "execute_result",
          "data": {
            "text/plain": [
              "[0.9435973167419434, 0.729519248008728]"
            ]
          },
          "metadata": {},
          "execution_count": 53
        }
      ]
    },
    {
      "cell_type": "markdown",
      "source": [
        "## The accuracy is 72.95%, which is a slight improvement over the accuracy from the previous problem."
      ],
      "metadata": {
        "id": "FzYQmhQwqSFL"
      }
    },
    {
      "cell_type": "markdown",
      "metadata": {
        "id": "TO9i14YSjls1"
      },
      "source": [
        "# 12. The Keras examples include a Simple MNIST convnet. Note the accuracy obtained by that code compared to the previous example from Chollet.\n",
        "# Rather than building a deeper MLP, let’s apply this architecture to the EMNIST Letters data. What accuracy do you achieve? How does this compare with the accuracy for the MNIST dataset?\n"
      ]
    },
    {
      "cell_type": "code",
      "execution_count": null,
      "metadata": {
        "id": "evQuab40tZEr",
        "colab": {
          "base_uri": "https://localhost:8080/"
        },
        "outputId": "fd9baf06-a541-4c9d-b7b6-eaa2b6a3426d"
      },
      "outputs": [
        {
          "output_type": "stream",
          "name": "stdout",
          "text": [
            "(104000, 28, 28, 1)\n",
            "(28, 28, 1)\n",
            "(20800, 28, 28, 1)\n",
            "(28, 28, 1)\n"
          ]
        }
      ],
      "source": [
        "num_classes = 27\n",
        "input_shape = (28, 28, 1)\n",
        "\n",
        "train_img = train_img.reshape(104000, 28, 28)\n",
        "test_img = test_img.reshape(20800, 28, 28)\n",
        "\n",
        "train_img_convnet = np.expand_dims(train_img, -1)\n",
        "test_img_convnet = np.expand_dims(test_img, -1)\n",
        "\n",
        "#check\n",
        "print(train_img_convnet.shape)\n",
        "print(train_img_convnet[0].shape)\n",
        "print(test_img_convnet.shape)\n",
        "print(test_img_convnet[0].shape)"
      ]
    },
    {
      "cell_type": "code",
      "source": [
        "#convert class vectors to binary class matrices\n",
        "# train_label_convnet = keras.utils.to_categorical(train_label, num_classes)\n",
        "# test_label_convnet = keras.utils.to_categorical(test_label, num_classes)"
      ],
      "metadata": {
        "id": "w33ANwLs5n1f"
      },
      "execution_count": null,
      "outputs": []
    },
    {
      "cell_type": "code",
      "execution_count": null,
      "metadata": {
        "id": "Mszni8H8v7GL",
        "colab": {
          "base_uri": "https://localhost:8080/"
        },
        "outputId": "ab4f7c81-2072-4608-b952-0246186c6b4d"
      },
      "outputs": [
        {
          "output_type": "stream",
          "name": "stdout",
          "text": [
            "Model: \"sequential_5\"\n",
            "_________________________________________________________________\n",
            " Layer (type)                Output Shape              Param #   \n",
            "=================================================================\n",
            " conv2d (Conv2D)             (None, 26, 26, 32)        320       \n",
            "                                                                 \n",
            " max_pooling2d (MaxPooling2D  (None, 13, 13, 32)       0         \n",
            " )                                                               \n",
            "                                                                 \n",
            " conv2d_1 (Conv2D)           (None, 11, 11, 64)        18496     \n",
            "                                                                 \n",
            " max_pooling2d_1 (MaxPooling  (None, 5, 5, 64)         0         \n",
            " 2D)                                                             \n",
            "                                                                 \n",
            " flatten_2 (Flatten)         (None, 1600)              0         \n",
            "                                                                 \n",
            " dropout (Dropout)           (None, 1600)              0         \n",
            "                                                                 \n",
            " dense_4 (Dense)             (None, 27)                43227     \n",
            "                                                                 \n",
            "=================================================================\n",
            "Total params: 62,043\n",
            "Trainable params: 62,043\n",
            "Non-trainable params: 0\n",
            "_________________________________________________________________\n"
          ]
        }
      ],
      "source": [
        "model3 = keras.Sequential(\n",
        "    [\n",
        "        keras.Input(shape=input_shape),\n",
        "        layers.Conv2D(32, kernel_size=(3, 3), activation=\"relu\"),\n",
        "        layers.MaxPooling2D(pool_size=(2, 2)),\n",
        "        layers.Conv2D(64, kernel_size=(3, 3), activation=\"relu\"),\n",
        "        layers.MaxPooling2D(pool_size=(2, 2)),\n",
        "        layers.Flatten(),\n",
        "        layers.Dropout(0.5),\n",
        "        layers.Dense(num_classes, activation=\"softmax\"),\n",
        "    ]\n",
        ")\n",
        "\n",
        "model3.summary()"
      ]
    },
    {
      "cell_type": "code",
      "source": [
        "model3.compile(loss=\"categorical_crossentropy\", optimizer=\"adam\", metrics=[\"accuracy\"])"
      ],
      "metadata": {
        "id": "a2sg1TGS7yv_"
      },
      "execution_count": null,
      "outputs": []
    },
    {
      "cell_type": "code",
      "source": [
        "model3.fit(train_img_convnet, train_label, epochs=5, batch_size=128, validation_split=0.1)"
      ],
      "metadata": {
        "id": "KzYHlAeQ1MeJ",
        "colab": {
          "base_uri": "https://localhost:8080/"
        },
        "outputId": "48fe0ccc-bd2c-49dc-fca3-399d1aba54b8"
      },
      "execution_count": null,
      "outputs": [
        {
          "output_type": "stream",
          "name": "stdout",
          "text": [
            "Epoch 1/5\n",
            "732/732 [==============================] - 68s 93ms/step - loss: 2.2642 - accuracy: 0.3525 - val_loss: 1.3210 - val_accuracy: 0.6098\n",
            "Epoch 2/5\n",
            "732/732 [==============================] - 68s 93ms/step - loss: 1.3585 - accuracy: 0.5948 - val_loss: 1.1193 - val_accuracy: 0.6706\n",
            "Epoch 3/5\n",
            "732/732 [==============================] - 69s 94ms/step - loss: 1.1531 - accuracy: 0.6527 - val_loss: 0.9162 - val_accuracy: 0.7320\n",
            "Epoch 4/5\n",
            "732/732 [==============================] - 69s 94ms/step - loss: 0.9567 - accuracy: 0.7133 - val_loss: 0.7377 - val_accuracy: 0.7817\n",
            "Epoch 5/5\n",
            "732/732 [==============================] - 69s 94ms/step - loss: 0.8232 - accuracy: 0.7528 - val_loss: 0.6325 - val_accuracy: 0.8069\n"
          ]
        },
        {
          "output_type": "execute_result",
          "data": {
            "text/plain": [
              "<keras.callbacks.History at 0x7f4b81e6fd50>"
            ]
          },
          "metadata": {},
          "execution_count": 58
        }
      ]
    },
    {
      "cell_type": "code",
      "source": [
        "model3.evaluate(test_img_convnet, test_label, verbose=1)"
      ],
      "metadata": {
        "id": "jSZx3SS7kXCF",
        "colab": {
          "base_uri": "https://localhost:8080/"
        },
        "outputId": "02db9efa-1226-4f7e-c9e3-c91ebf662990"
      },
      "execution_count": null,
      "outputs": [
        {
          "output_type": "stream",
          "name": "stdout",
          "text": [
            "650/650 [==============================] - 6s 9ms/step - loss: 0.6282 - accuracy: 0.8149\n"
          ]
        },
        {
          "output_type": "execute_result",
          "data": {
            "text/plain": [
              "[0.6282038688659668, 0.8149038553237915]"
            ]
          },
          "metadata": {},
          "execution_count": 59
        }
      ]
    },
    {
      "cell_type": "markdown",
      "source": [
        "## The accuracy obtained is 81.49%, which is not better than the accuracy for MNIST, despite significant improvements over the previous models."
      ],
      "metadata": {
        "id": "7iPgf_SbqYPK"
      }
    },
    {
      "cell_type": "markdown",
      "metadata": {
        "id": "2PaJ8VTIjoy0"
      },
      "source": [
        "# 13. Use plt.imshow() to view some of the misclassified images and examine their labels. Describe what you think might have gone wrong."
      ]
    },
    {
      "cell_type": "code",
      "source": [
        "# Only plt.imshow() will be used to view the misclassified images.\n",
        "misclassified_images = []\n",
        "for i in range(200):\n",
        "    predict_image = model.predict(test_img[i].reshape(1, 28*28))\n",
        "    predict_letter = chr(np.argmax(predict_image)-1+ord('A'))\n",
        "    actual_letter = chr(np.argmax(test_label[i])-1+ord('A'))\n",
        "    if predict_letter != actual_letter:\n",
        "        misclassified_images.append(i)\n",
        "print(\"List of images that appears to be misclassified:\")\n",
        "print(misclassified_images)"
      ],
      "metadata": {
        "id": "x_2wpfcX1bN7",
        "colab": {
          "base_uri": "https://localhost:8080/"
        },
        "outputId": "24c24620-4ff4-42fd-e232-dcfcb8978459"
      },
      "execution_count": null,
      "outputs": [
        {
          "output_type": "stream",
          "name": "stdout",
          "text": [
            "WARNING:tensorflow:Model was constructed with shape (None, 28, 28) for input KerasTensor(type_spec=TensorSpec(shape=(None, 28, 28), dtype=tf.float32, name='flatten_input'), name='flatten_input', description=\"created by layer 'flatten_input'\"), but it was called on an input with incompatible shape (None, 784).\n",
            "List of images that appears to be misclassified:\n",
            "[0, 1, 3, 4, 8, 10, 12, 13, 14, 16, 18, 19, 21, 22, 27, 32, 33, 34, 36, 37, 41, 44, 45, 47, 48, 51, 52, 56, 57, 58, 59, 68, 69, 76, 78, 80, 83, 84, 88, 90, 91, 94, 95, 96, 98, 103, 104, 106, 108, 111, 112, 117, 118, 119, 121, 123, 127, 128, 129, 131, 132, 136, 137, 138, 139, 142, 143, 144, 145, 147, 149, 151, 152, 157, 159, 160, 161, 164, 166, 169, 170, 173, 176, 178, 179, 180, 184, 185, 186, 187, 190, 191, 192]\n"
          ]
        }
      ]
    },
    {
      "cell_type": "code",
      "source": [
        "plt.imshow(test_img[misclassified_images[0]].reshape(28, 28))"
      ],
      "metadata": {
        "colab": {
          "base_uri": "https://localhost:8080/",
          "height": 282
        },
        "id": "4PM0EQ3DAI2R",
        "outputId": "7e1da14d-61fa-40a9-b845-c8514659dbbb"
      },
      "execution_count": null,
      "outputs": [
        {
          "output_type": "execute_result",
          "data": {
            "text/plain": [
              "<matplotlib.image.AxesImage at 0x7f4b7d555e90>"
            ]
          },
          "metadata": {},
          "execution_count": 61
        },
        {
          "output_type": "display_data",
          "data": {
            "text/plain": [
              "<Figure size 432x288 with 1 Axes>"
            ],
            "image/png": "[encoded data removed]"
          },
          "metadata": {
            "needs_background": "light"
          }
        }
      ]
    },
    {
      "cell_type": "code",
      "source": [
        "plt.imshow(test_img[misclassified_images[1]].reshape(28, 28))"
      ],
      "metadata": {
        "colab": {
          "base_uri": "https://localhost:8080/",
          "height": 282
        },
        "id": "B3dQ4w5BAJmJ",
        "outputId": "1d84fe7a-a30f-4df5-ab8c-0fd1a1aef0f5"
      },
      "execution_count": null,
      "outputs": [
        {
          "output_type": "execute_result",
          "data": {
            "text/plain": [
              "<matplotlib.image.AxesImage at 0x7f4b7d340050>"
            ]
          },
          "metadata": {},
          "execution_count": 62
        },
        {
          "output_type": "display_data",
          "data": {
            "text/plain": [
              "<Figure size 432x288 with 1 Axes>"
            ],
            "image/png": "[encoded data removed]"
          },
          "metadata": {
            "needs_background": "light"
          }
        }
      ]
    },
    {
      "cell_type": "code",
      "source": [
        "plt.imshow(test_img[misclassified_images[2]].reshape(28, 28))"
      ],
      "metadata": {
        "colab": {
          "base_uri": "https://localhost:8080/",
          "height": 282
        },
        "id": "idkEHM8NAJyG",
        "outputId": "820071a5-fb6c-4e45-dc6c-a2534cca25a6"
      },
      "execution_count": null,
      "outputs": [
        {
          "output_type": "execute_result",
          "data": {
            "text/plain": [
              "<matplotlib.image.AxesImage at 0x7f4b7d294a50>"
            ]
          },
          "metadata": {},
          "execution_count": 63
        },
        {
          "output_type": "display_data",
          "data": {
            "text/plain": [
              "<Figure size 432x288 with 1 Axes>"
            ],
            "image/png": "[encoded data removed]"
          },
          "metadata": {
            "needs_background": "light"
          }
        }
      ]
    },
    {
      "cell_type": "code",
      "source": [
        "plt.imshow(test_img[misclassified_images[3]].reshape(28, 28))"
      ],
      "metadata": {
        "colab": {
          "base_uri": "https://localhost:8080/",
          "height": 282
        },
        "id": "W1vciU-bAJ71",
        "outputId": "22aba960-f982-47df-febc-5ea3b7031963"
      },
      "execution_count": null,
      "outputs": [
        {
          "output_type": "execute_result",
          "data": {
            "text/plain": [
              "<matplotlib.image.AxesImage at 0x7f4b7d2829d0>"
            ]
          },
          "metadata": {},
          "execution_count": 64
        },
        {
          "output_type": "display_data",
          "data": {
            "text/plain": [
              "<Figure size 432x288 with 1 Axes>"
            ],
            "image/png": "[encoded data removed]"
          },
          "metadata": {
            "needs_background": "light"
          }
        }
      ]
    },
    {
      "cell_type": "code",
      "source": [
        "plt.imshow(test_img[misclassified_images[4]].reshape(28, 28))"
      ],
      "metadata": {
        "colab": {
          "base_uri": "https://localhost:8080/",
          "height": 282
        },
        "id": "fU2lJehhAKEa",
        "outputId": "583eef5b-e861-4d82-8256-eb60f0f3849e"
      },
      "execution_count": null,
      "outputs": [
        {
          "output_type": "execute_result",
          "data": {
            "text/plain": [
              "<matplotlib.image.AxesImage at 0x7f4b7d1d0710>"
            ]
          },
          "metadata": {},
          "execution_count": 65
        },
        {
          "output_type": "display_data",
          "data": {
            "text/plain": [
              "<Figure size 432x288 with 1 Axes>"
            ],
            "image/png": "[encoded data removed]"
          },
          "metadata": {
            "needs_background": "light"
          }
        }
      ]
    },
    {
      "cell_type": "code",
      "source": [
        "plt.imshow(test_img[misclassified_images[5]].reshape(28, 28))"
      ],
      "metadata": {
        "colab": {
          "base_uri": "https://localhost:8080/",
          "height": 282
        },
        "id": "p3g6EZ-sAbLS",
        "outputId": "395056c2-074a-44fd-96ff-8e6a631c4ab7"
      },
      "execution_count": null,
      "outputs": [
        {
          "output_type": "execute_result",
          "data": {
            "text/plain": [
              "<matplotlib.image.AxesImage at 0x7f4b7d0c9c10>"
            ]
          },
          "metadata": {},
          "execution_count": 66
        },
        {
          "output_type": "display_data",
          "data": {
            "text/plain": [
              "<Figure size 432x288 with 1 Axes>"
            ],
            "image/png": "[encoded data removed]"
          },
          "metadata": {
            "needs_background": "light"
          }
        }
      ]
    },
    {
      "cell_type": "code",
      "source": [
        "plt.imshow(test_img[misclassified_images[6]].reshape(28, 28))"
      ],
      "metadata": {
        "colab": {
          "base_uri": "https://localhost:8080/",
          "height": 282
        },
        "id": "hFo96yipAbhD",
        "outputId": "d638d6de-019a-4dc3-b96d-b00a12f308aa"
      },
      "execution_count": null,
      "outputs": [
        {
          "output_type": "execute_result",
          "data": {
            "text/plain": [
              "<matplotlib.image.AxesImage at 0x7f4b7d204b10>"
            ]
          },
          "metadata": {},
          "execution_count": 67
        },
        {
          "output_type": "display_data",
          "data": {
            "text/plain": [
              "<Figure size 432x288 with 1 Axes>"
            ],
            "image/png": "[encoded data removed]"
          },
          "metadata": {
            "needs_background": "light"
          }
        }
      ]
    },
    {
      "cell_type": "code",
      "source": [
        "plt.imshow(test_img[misclassified_images[7]].reshape(28, 28))"
      ],
      "metadata": {
        "colab": {
          "base_uri": "https://localhost:8080/",
          "height": 282
        },
        "id": "JiXtTXThAb5M",
        "outputId": "b920011d-2623-4510-8ad7-f4d12f104296"
      },
      "execution_count": null,
      "outputs": [
        {
          "output_type": "execute_result",
          "data": {
            "text/plain": [
              "<matplotlib.image.AxesImage at 0x7f4b7d4e0590>"
            ]
          },
          "metadata": {},
          "execution_count": 68
        },
        {
          "output_type": "display_data",
          "data": {
            "text/plain": [
              "<Figure size 432x288 with 1 Axes>"
            ],
            "image/png": "[encoded data removed]"
          },
          "metadata": {
            "needs_background": "light"
          }
        }
      ]
    },
    {
      "cell_type": "code",
      "source": [
        "plt.imshow(test_img[misclassified_images[-1]].reshape(28, 28))"
      ],
      "metadata": {
        "colab": {
          "base_uri": "https://localhost:8080/",
          "height": 282
        },
        "id": "Bjf3mkUqBMsG",
        "outputId": "ca288b1f-8ae3-4300-8504-c812111822f8"
      },
      "execution_count": null,
      "outputs": [
        {
          "output_type": "execute_result",
          "data": {
            "text/plain": [
              "<matplotlib.image.AxesImage at 0x7f4b7d4afc90>"
            ]
          },
          "metadata": {},
          "execution_count": 69
        },
        {
          "output_type": "display_data",
          "data": {
            "text/plain": [
              "<Figure size 432x288 with 1 Axes>"
            ],
            "image/png": "[encoded data removed]"
          },
          "metadata": {
            "needs_background": "light"
          }
        }
      ]
    },
    {
      "cell_type": "code",
      "source": [
        "plt.imshow(test_img[misclassified_images[-2]].reshape(28, 28))"
      ],
      "metadata": {
        "colab": {
          "base_uri": "https://localhost:8080/",
          "height": 282
        },
        "id": "xDSrs2fvBUt6",
        "outputId": "4251964a-79f2-4114-ba82-b3ed2e735109"
      },
      "execution_count": null,
      "outputs": [
        {
          "output_type": "execute_result",
          "data": {
            "text/plain": [
              "<matplotlib.image.AxesImage at 0x7f4b7d562710>"
            ]
          },
          "metadata": {},
          "execution_count": 70
        },
        {
          "output_type": "display_data",
          "data": {
            "text/plain": [
              "<Figure size 432x288 with 1 Axes>"
            ],
            "image/png": "[encoded data removed]"
          },
          "metadata": {
            "needs_background": "light"
          }
        }
      ]
    },
    {
      "cell_type": "markdown",
      "source": [
        "## A: Although the letters are the same in both the images and the labels, the images does not necessarily match the ones from the labels. It is as if the letters are being written in a different manner."
      ],
      "metadata": {
        "id": "f3FQb6GSBbnU"
      }
    }
  ],
  "metadata": {
    "colab": {
      "collapsed_sections": [
        "hmSTcGw2lmqB",
        "Dth6n0lcl37G",
        "afSkHPK3on6v",
        "EThYHOgrgbVF",
        "r-GVfQg0rJyH",
        "L8Fgx3s06qmg",
        "HsXHxW4a0kl1",
        "1bIgW6jorVct",
        "FzYQmhQwqSFL",
        "TO9i14YSjls1",
        "7iPgf_SbqYPK",
        "2PaJ8VTIjoy0"
      ],
      "name": "Project 2 Keras.ipynb",
      "provenance": [],
      "include_colab_link": true
    },
    "kernelspec": {
      "display_name": "Python 3",
      "name": "python3"
    },
    "language_info": {
      "name": "python"
    }
  },
  "nbformat": 4,
  "nbformat_minor": 0
}